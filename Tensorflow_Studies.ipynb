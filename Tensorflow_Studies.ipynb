{
  "nbformat": 4,
  "nbformat_minor": 0,
  "metadata": {
    "colab": {
      "name": "Tensorflow Studies.ipynb",
      "provenance": [],
      "collapsed_sections": [],
      "toc_visible": true,
      "authorship_tag": "ABX9TyMeRQoqxCNVCapxaA/tFm9o",
      "include_colab_link": true
    },
    "kernelspec": {
      "name": "python3",
      "display_name": "Python 3"
    }
  },
  "cells": [
    {
      "cell_type": "markdown",
      "metadata": {
        "id": "view-in-github",
        "colab_type": "text"
      },
      "source": [
        "<a href=\"https://colab.research.google.com/github/KashyapBhat/MyPathTowardsMachineLearning/blob/master/Tensorflow_Studies.ipynb\" target=\"_parent\"><img src=\"https://colab.research.google.com/assets/colab-badge.svg\" alt=\"Open In Colab\"/></a>"
      ]
    },
    {
      "cell_type": "markdown",
      "metadata": {
        "id": "zirikWJ7SPN7",
        "colab_type": "text"
      },
      "source": [
        "# Tensorflow"
      ]
    },
    {
      "cell_type": "markdown",
      "metadata": {
        "id": "lEAmV4MaSF6r",
        "colab_type": "text"
      },
      "source": [
        "### Why Machine Learning\n",
        "\n",
        "Like every first app you should start with something super simple that shows the overall scaffolding for how your code works. \n",
        "\n",
        "In the case of creating neural networks, the sample I like to use is one where it learns the relationship between two numbers. So, for example, if you were writing code for a function like this, you already know the 'rules' — \n",
        "\n",
        "\n",
        "```\n",
        "float hw_function(float x){\n",
        "    float y = (2 * x) - 1;\n",
        "    return y;\n",
        "}\n",
        "```\n",
        "\n",
        "So how would you train a neural network to do the equivalent task? Using data! By feeding it with a set of Xs, and a set of Ys, it should be able to figure out the relationship between them. \n",
        "\n",
        "This is obviously a very different paradigm than what you might be used to, so let's step through it piece by piece.\n"
      ]
    },
    {
      "cell_type": "markdown",
      "metadata": {
        "id": "MciqCYe3VANJ",
        "colab_type": "text"
      },
      "source": [
        "****************************************************************************************************"
      ]
    },
    {
      "cell_type": "markdown",
      "metadata": {
        "id": "GKXHnXytUOLm",
        "colab_type": "text"
      },
      "source": [
        "# **1. Simple example problem using tf**"
      ]
    },
    {
      "cell_type": "markdown",
      "metadata": {
        "id": "fupjr1XcTlVn",
        "colab_type": "text"
      },
      "source": [
        "### Lets get started\n",
        "We then import a library called numpy, which helps us to represent our data as lists easily and quickly.\n",
        "The framework for defining a neural network as a set of Sequential layers is called keras, so we import that too."
      ]
    },
    {
      "cell_type": "code",
      "metadata": {
        "id": "HhDGUezBSIAD",
        "colab_type": "code",
        "colab": {}
      },
      "source": [
        "\n",
        "\n",
        "import tensorflow as tf\n",
        "import numpy as np\n",
        "from tensorflow import keras"
      ],
      "execution_count": 0,
      "outputs": []
    },
    {
      "cell_type": "markdown",
      "metadata": {
        "id": "iY4rL3vUSevH",
        "colab_type": "text"
      },
      "source": [
        "### Define the Neural Network\n",
        "\n",
        "Next we will create the simplest possible neural network. It has 1 layer, and that layer has 1 neuron, and the input shape to it is just 1 value.\n"
      ]
    },
    {
      "cell_type": "code",
      "metadata": {
        "id": "7ccen0XQSbuz",
        "colab_type": "code",
        "colab": {}
      },
      "source": [
        "model = tf.keras.Sequential([keras.layers.Dense(units=1, input_shape=[1])])"
      ],
      "execution_count": 0,
      "outputs": []
    },
    {
      "cell_type": "markdown",
      "metadata": {
        "id": "-9U5TWZSS7-e",
        "colab_type": "text"
      },
      "source": [
        "### Compile the Neural Network\n",
        "\n",
        "Now we compile our Neural Network. When we do so, we have to specify 2 functions, a loss and an optimizer.\n",
        "\n",
        "If you've seen lots of math for machine learning, here's where it's usually used, but in this case it's nicely encapsulated in functions for you. But what happens here — let's explain...\n",
        "\n",
        "We know that in our function, the relationship between the numbers is y=2x-1. \n",
        "\n",
        "When the computer is trying to 'learn' that, it makes a guess...maybe y=10x+10. The LOSS function measures the guessed answers against the known correct answers and measures how well or how badly it did.\n",
        "\n",
        "It then uses the OPTIMIZER function to make another guess. Based on how the loss function went, it will try to minimize the loss. At that point maybe it will come up with somehting like y=5x+5, which, while still pretty bad, is closer to the correct result (i.e. the loss is lower)\n",
        "\n",
        "It will repeat this for the number of EPOCHS which you will see shortly. But first, here's how we tell it to use 'MEAN SQUARED ERROR' for the loss and 'STOCHASTIC GRADIENT DESCENT' for the optimizer. You don't need to understand the math for these yet, but you can see that they work! :)\n",
        "\n",
        "Over time you will learn the different and appropriate loss and optimizer functions for different scenarios. \n"
      ]
    },
    {
      "cell_type": "code",
      "metadata": {
        "id": "_Xb32wNrSfHA",
        "colab_type": "code",
        "colab": {}
      },
      "source": [
        "model.compile(optimizer='sgd', loss='mean_squared_error')"
      ],
      "execution_count": 0,
      "outputs": []
    },
    {
      "cell_type": "markdown",
      "metadata": {
        "id": "gaScdreVTBuV",
        "colab_type": "text"
      },
      "source": [
        "## Providing the Data\n",
        "\n",
        "Next up we'll feed in some data. In this case we are taking 6 xs and 6ys. You can see that the relationship between these is that y=2x-1, so where x = -1, y=-3 etc. etc. \n",
        "\n",
        "A python library called 'Numpy' provides lots of array type data structures that are a defacto standard way of doing it. We declare that we want to use these by specifying the values as an np.array[]"
      ]
    },
    {
      "cell_type": "code",
      "metadata": {
        "id": "w30bccAKS5Lf",
        "colab_type": "code",
        "colab": {}
      },
      "source": [
        "xs = np.array([-1.0,  0.0, 1.0, 2.0, 3.0, 4.0], dtype=float)\n",
        "ys = np.array([-3.0, -1.0, 1.0, 3.0, 5.0, 7.0], dtype=float)"
      ],
      "execution_count": 0,
      "outputs": []
    },
    {
      "cell_type": "markdown",
      "metadata": {
        "id": "r3Dfqe1tTLrd",
        "colab_type": "text"
      },
      "source": [
        "## Training the model\n",
        "\n",
        "The process of training the neural network, where it 'learns' the relationship between the Xs and Ys is in the **model.fit**  call. This is where it will go through the loop we spoke about above, making a guess, measuring how good or bad it is (aka the loss), using the opimizer to make another guess etc. It will do it for the number of epochs you specify. When you run this code, you'll see the loss on the right hand side."
      ]
    },
    {
      "cell_type": "code",
      "metadata": {
        "id": "yOdO9TVJTOt6",
        "colab_type": "code",
        "outputId": "a3101deb-4930-455d-9330-3b1ef9e8a995",
        "colab": {
          "base_uri": "https://localhost:8080/",
          "height": 35
        }
      },
      "source": [
        "model.fit(xs, ys, epochs=500,verbose=0)"
      ],
      "execution_count": 5,
      "outputs": [
        {
          "output_type": "execute_result",
          "data": {
            "text/plain": [
              "<tensorflow.python.keras.callbacks.History at 0x7f36a1e75dd8>"
            ]
          },
          "metadata": {
            "tags": []
          },
          "execution_count": 5
        }
      ]
    },
    {
      "cell_type": "markdown",
      "metadata": {
        "id": "oN6IqZxUTabM",
        "colab_type": "text"
      },
      "source": [
        "## Make a prediction\n",
        "\n",
        "Ok, now you have a model that has been trained to learn the relationshop between X and Y. You can use the **model.predict** method to have it figure out the Y for a previously unknown X. So, for example, if X = 10, what do you think Y will be? Take a guess before you run this code:"
      ]
    },
    {
      "cell_type": "code",
      "metadata": {
        "id": "-dTQdp87TQ0Y",
        "colab_type": "code",
        "outputId": "86da6501-347f-43f2-e7a2-76b0a564f999",
        "colab": {
          "base_uri": "https://localhost:8080/",
          "height": 35
        }
      },
      "source": [
        "print(model.predict([10.0]))"
      ],
      "execution_count": 6,
      "outputs": [
        {
          "output_type": "stream",
          "text": [
            "[[18.9827]]\n"
          ],
          "name": "stdout"
        }
      ]
    },
    {
      "cell_type": "markdown",
      "metadata": {
        "id": "XZhlG9l0Tdiv",
        "colab_type": "text"
      },
      "source": [
        "You might have thought 19, right? But it ended up being a little under. Why do you think that is? \n",
        "\n",
        "Remember that neural networks deal with probabilities, so given the data that we fed the NN with, it calculated that there is a very high probability that the relationship between X and Y is Y=2X-1, but with only 6 data points we can't know for sure. As a result, the result for 10 is very close to 19, but not necessarily 19. \n",
        "\n",
        "As you work with neural networks, you'll see this pattern recurring. You will almost always deal with probabilities, not certainties, and will do a little bit of coding to figure out what the result is based on the probabilities, particularly when it comes to classification.\n"
      ]
    },
    {
      "cell_type": "markdown",
      "metadata": {
        "id": "67q6VXzxUrC8",
        "colab_type": "text"
      },
      "source": [
        "**********************************************************************************************"
      ]
    },
    {
      "cell_type": "markdown",
      "metadata": {
        "id": "XwK2XhCiZOs2",
        "colab_type": "text"
      },
      "source": [
        "# **2. House price prediction**"
      ]
    },
    {
      "cell_type": "markdown",
      "metadata": {
        "id": "DB5eTwRFZXL7",
        "colab_type": "text"
      },
      "source": [
        "In this exercise you'll try to build a neural network that predicts the price of a house according to a simple formula.\n",
        "\n",
        "So, imagine if house pricing was as easy as a house costs 50k + 50k per bedroom, so that a 1 bedroom house costs 100k, a 2 bedroom house costs 150k etc.\n",
        "\n",
        "How would you create a neural network that learns this relationship so that it would predict a 7 bedroom house as costing close to 400k etc.\n",
        "\n",
        "Hint: Your network might work better if you scale the house price down. You don't have to give the answer 400...it might be better to create something that predicts the number 4, and then your answer is in the 'hundreds of thousands' etc."
      ]
    },
    {
      "cell_type": "code",
      "metadata": {
        "id": "5IyW62ajU7FZ",
        "colab_type": "code",
        "colab": {}
      },
      "source": [
        "import tensorflow as tf\n",
        "import numpy as np\n",
        "from tensorflow import keras"
      ],
      "execution_count": 0,
      "outputs": []
    },
    {
      "cell_type": "code",
      "metadata": {
        "id": "QoPKS-hl_BeY",
        "colab_type": "code",
        "colab": {}
      },
      "source": [
        "class PrintLogs(tf.keras.callbacks.Callback):\n",
        "    def __init__(self, epochs):\n",
        "        self.epochs = epochs\n",
        "\n",
        "    def set_params(self, params):\n",
        "        params['epochs'] = 0\n",
        "\n",
        "    def on_epoch_begin(self, epoch, logs=None):\n",
        "        print('Epoch %d/%d' % (epoch + 1, self.epochs), end='')"
      ],
      "execution_count": 0,
      "outputs": []
    },
    {
      "cell_type": "code",
      "metadata": {
        "id": "reI1VQY1ZaC_",
        "colab_type": "code",
        "colab": {}
      },
      "source": [
        "# GRADED FUNCTION: house_model\n",
        "def house_model(y_new):\n",
        "    xs = np.array([1,2,3,4,5,6,10], dtype=float)\n",
        "    ys = np.array([1,1.5,2,2.5,3,3.5,5.5], dtype=float)\n",
        "    model = tf.keras.Sequential([keras.layers.Dense(units=1, input_shape=[1])])\n",
        "    model.compile(optimizer='sgd', loss='mean_squared_error')\n",
        "    model.fit(xs, ys, epochs=200, verbose=2, callbacks=[PrintLogs(200)])       # Increasing the epochs will yeild better results\n",
        "    return model.predict(y_new)[0]"
      ],
      "execution_count": 0,
      "outputs": []
    },
    {
      "cell_type": "code",
      "metadata": {
        "id": "HYi81vWFZb2J",
        "colab_type": "code",
        "outputId": "f22bfce6-4c4d-4907-da38-67a0a05a711b",
        "colab": {
          "base_uri": "https://localhost:8080/",
          "height": 1000
        }
      },
      "source": [
        "prediction = house_model([7.0])"
      ],
      "execution_count": 10,
      "outputs": [
        {
          "output_type": "stream",
          "text": [
            "Epoch 1/2001/1 - 0s - loss: 25.6140\n",
            "Epoch 2/2001/1 - 0s - loss: 5.0494\n",
            "Epoch 3/2001/1 - 0s - loss: 1.0713\n",
            "Epoch 4/2001/1 - 0s - loss: 0.3009\n",
            "Epoch 5/2001/1 - 0s - loss: 0.1509\n",
            "Epoch 6/2001/1 - 0s - loss: 0.1209\n",
            "Epoch 7/2001/1 - 0s - loss: 0.1141\n",
            "Epoch 8/2001/1 - 0s - loss: 0.1118\n",
            "Epoch 9/2001/1 - 0s - loss: 0.1104\n",
            "Epoch 10/2001/1 - 0s - loss: 0.1091\n",
            "Epoch 11/2001/1 - 0s - loss: 0.1079\n",
            "Epoch 12/2001/1 - 0s - loss: 0.1067\n",
            "Epoch 13/2001/1 - 0s - loss: 0.1056\n",
            "Epoch 14/2001/1 - 0s - loss: 0.1044\n",
            "Epoch 15/2001/1 - 0s - loss: 0.1033\n",
            "Epoch 16/2001/1 - 0s - loss: 0.1021\n",
            "Epoch 17/2001/1 - 0s - loss: 0.1010\n",
            "Epoch 18/2001/1 - 0s - loss: 0.0999\n",
            "Epoch 19/2001/1 - 0s - loss: 0.0988\n",
            "Epoch 20/2001/1 - 0s - loss: 0.0978\n",
            "Epoch 21/2001/1 - 0s - loss: 0.0967\n",
            "Epoch 22/2001/1 - 0s - loss: 0.0956\n",
            "Epoch 23/2001/1 - 0s - loss: 0.0946\n",
            "Epoch 24/2001/1 - 0s - loss: 0.0935\n",
            "Epoch 25/2001/1 - 0s - loss: 0.0925\n",
            "Epoch 26/2001/1 - 0s - loss: 0.0915\n",
            "Epoch 27/2001/1 - 0s - loss: 0.0905\n",
            "Epoch 28/2001/1 - 0s - loss: 0.0895\n",
            "Epoch 29/2001/1 - 0s - loss: 0.0885\n",
            "Epoch 30/2001/1 - 0s - loss: 0.0876\n",
            "Epoch 31/2001/1 - 0s - loss: 0.0866\n",
            "Epoch 32/2001/1 - 0s - loss: 0.0857\n",
            "Epoch 33/2001/1 - 0s - loss: 0.0847\n",
            "Epoch 34/2001/1 - 0s - loss: 0.0838\n",
            "Epoch 35/2001/1 - 0s - loss: 0.0829\n",
            "Epoch 36/2001/1 - 0s - loss: 0.0820\n",
            "Epoch 37/2001/1 - 0s - loss: 0.0811\n",
            "Epoch 38/2001/1 - 0s - loss: 0.0802\n",
            "Epoch 39/2001/1 - 0s - loss: 0.0793\n",
            "Epoch 40/2001/1 - 0s - loss: 0.0785\n",
            "Epoch 41/2001/1 - 0s - loss: 0.0776\n",
            "Epoch 42/2001/1 - 0s - loss: 0.0768\n",
            "Epoch 43/2001/1 - 0s - loss: 0.0759\n",
            "Epoch 44/2001/1 - 0s - loss: 0.0751\n",
            "Epoch 45/2001/1 - 0s - loss: 0.0743\n",
            "Epoch 46/2001/1 - 0s - loss: 0.0735\n",
            "Epoch 47/2001/1 - 0s - loss: 0.0727\n",
            "Epoch 48/2001/1 - 0s - loss: 0.0719\n",
            "Epoch 49/2001/1 - 0s - loss: 0.0711\n",
            "Epoch 50/2001/1 - 0s - loss: 0.0703\n",
            "Epoch 51/2001/1 - 0s - loss: 0.0695\n",
            "Epoch 52/2001/1 - 0s - loss: 0.0688\n",
            "Epoch 53/2001/1 - 0s - loss: 0.0680\n",
            "Epoch 54/2001/1 - 0s - loss: 0.0673\n",
            "Epoch 55/2001/1 - 0s - loss: 0.0665\n",
            "Epoch 56/2001/1 - 0s - loss: 0.0658\n",
            "Epoch 57/2001/1 - 0s - loss: 0.0651\n",
            "Epoch 58/2001/1 - 0s - loss: 0.0644\n",
            "Epoch 59/2001/1 - 0s - loss: 0.0637\n",
            "Epoch 60/2001/1 - 0s - loss: 0.0630\n",
            "Epoch 61/2001/1 - 0s - loss: 0.0623\n",
            "Epoch 62/2001/1 - 0s - loss: 0.0616\n",
            "Epoch 63/2001/1 - 0s - loss: 0.0609\n",
            "Epoch 64/2001/1 - 0s - loss: 0.0603\n",
            "Epoch 65/2001/1 - 0s - loss: 0.0596\n",
            "Epoch 66/2001/1 - 0s - loss: 0.0590\n",
            "Epoch 67/2001/1 - 0s - loss: 0.0583\n",
            "Epoch 68/2001/1 - 0s - loss: 0.0577\n",
            "Epoch 69/2001/1 - 0s - loss: 0.0571\n",
            "Epoch 70/2001/1 - 0s - loss: 0.0564\n",
            "Epoch 71/2001/1 - 0s - loss: 0.0558\n",
            "Epoch 72/2001/1 - 0s - loss: 0.0552\n",
            "Epoch 73/2001/1 - 0s - loss: 0.0546\n",
            "Epoch 74/2001/1 - 0s - loss: 0.0540\n",
            "Epoch 75/2001/1 - 0s - loss: 0.0534\n",
            "Epoch 76/2001/1 - 0s - loss: 0.0528\n",
            "Epoch 77/2001/1 - 0s - loss: 0.0523\n",
            "Epoch 78/2001/1 - 0s - loss: 0.0517\n",
            "Epoch 79/2001/1 - 0s - loss: 0.0511\n",
            "Epoch 80/2001/1 - 0s - loss: 0.0506\n",
            "Epoch 81/2001/1 - 0s - loss: 0.0500\n",
            "Epoch 82/2001/1 - 0s - loss: 0.0495\n",
            "Epoch 83/2001/1 - 0s - loss: 0.0489\n",
            "Epoch 84/2001/1 - 0s - loss: 0.0484\n",
            "Epoch 85/2001/1 - 0s - loss: 0.0479\n",
            "Epoch 86/2001/1 - 0s - loss: 0.0473\n",
            "Epoch 87/2001/1 - 0s - loss: 0.0468\n",
            "Epoch 88/2001/1 - 0s - loss: 0.0463\n",
            "Epoch 89/2001/1 - 0s - loss: 0.0458\n",
            "Epoch 90/2001/1 - 0s - loss: 0.0453\n",
            "Epoch 91/2001/1 - 0s - loss: 0.0448\n",
            "Epoch 92/2001/1 - 0s - loss: 0.0443\n",
            "Epoch 93/2001/1 - 0s - loss: 0.0438\n",
            "Epoch 94/2001/1 - 0s - loss: 0.0434\n",
            "Epoch 95/2001/1 - 0s - loss: 0.0429\n",
            "Epoch 96/2001/1 - 0s - loss: 0.0424\n",
            "Epoch 97/2001/1 - 0s - loss: 0.0419\n",
            "Epoch 98/2001/1 - 0s - loss: 0.0415\n",
            "Epoch 99/2001/1 - 0s - loss: 0.0410\n",
            "Epoch 100/2001/1 - 0s - loss: 0.0406\n",
            "Epoch 101/2001/1 - 0s - loss: 0.0401\n",
            "Epoch 102/2001/1 - 0s - loss: 0.0397\n",
            "Epoch 103/2001/1 - 0s - loss: 0.0393\n",
            "Epoch 104/2001/1 - 0s - loss: 0.0388\n",
            "Epoch 105/2001/1 - 0s - loss: 0.0384\n",
            "Epoch 106/2001/1 - 0s - loss: 0.0380\n",
            "Epoch 107/2001/1 - 0s - loss: 0.0376\n",
            "Epoch 108/2001/1 - 0s - loss: 0.0372\n",
            "Epoch 109/2001/1 - 0s - loss: 0.0368\n",
            "Epoch 110/2001/1 - 0s - loss: 0.0364\n",
            "Epoch 111/2001/1 - 0s - loss: 0.0360\n",
            "Epoch 112/2001/1 - 0s - loss: 0.0356\n",
            "Epoch 113/2001/1 - 0s - loss: 0.0352\n",
            "Epoch 114/2001/1 - 0s - loss: 0.0348\n",
            "Epoch 115/2001/1 - 0s - loss: 0.0344\n",
            "Epoch 116/2001/1 - 0s - loss: 0.0340\n",
            "Epoch 117/2001/1 - 0s - loss: 0.0337\n",
            "Epoch 118/2001/1 - 0s - loss: 0.0333\n",
            "Epoch 119/2001/1 - 0s - loss: 0.0329\n",
            "Epoch 120/2001/1 - 0s - loss: 0.0326\n",
            "Epoch 121/2001/1 - 0s - loss: 0.0322\n",
            "Epoch 122/2001/1 - 0s - loss: 0.0319\n",
            "Epoch 123/2001/1 - 0s - loss: 0.0315\n",
            "Epoch 124/2001/1 - 0s - loss: 0.0312\n",
            "Epoch 125/2001/1 - 0s - loss: 0.0308\n",
            "Epoch 126/2001/1 - 0s - loss: 0.0305\n",
            "Epoch 127/2001/1 - 0s - loss: 0.0302\n",
            "Epoch 128/2001/1 - 0s - loss: 0.0298\n",
            "Epoch 129/2001/1 - 0s - loss: 0.0295\n",
            "Epoch 130/2001/1 - 0s - loss: 0.0292\n",
            "Epoch 131/2001/1 - 0s - loss: 0.0289\n",
            "Epoch 132/2001/1 - 0s - loss: 0.0286\n",
            "Epoch 133/2001/1 - 0s - loss: 0.0282\n",
            "Epoch 134/2001/1 - 0s - loss: 0.0279\n",
            "Epoch 135/2001/1 - 0s - loss: 0.0276\n",
            "Epoch 136/2001/1 - 0s - loss: 0.0273\n",
            "Epoch 137/2001/1 - 0s - loss: 0.0270\n",
            "Epoch 138/2001/1 - 0s - loss: 0.0267\n",
            "Epoch 139/2001/1 - 0s - loss: 0.0264\n",
            "Epoch 140/2001/1 - 0s - loss: 0.0262\n",
            "Epoch 141/2001/1 - 0s - loss: 0.0259\n",
            "Epoch 142/2001/1 - 0s - loss: 0.0256\n",
            "Epoch 143/2001/1 - 0s - loss: 0.0253\n",
            "Epoch 144/2001/1 - 0s - loss: 0.0250\n",
            "Epoch 145/2001/1 - 0s - loss: 0.0248\n",
            "Epoch 146/2001/1 - 0s - loss: 0.0245\n",
            "Epoch 147/2001/1 - 0s - loss: 0.0242\n",
            "Epoch 148/2001/1 - 0s - loss: 0.0240\n",
            "Epoch 149/2001/1 - 0s - loss: 0.0237\n",
            "Epoch 150/2001/1 - 0s - loss: 0.0234\n",
            "Epoch 151/2001/1 - 0s - loss: 0.0232\n",
            "Epoch 152/2001/1 - 0s - loss: 0.0229\n",
            "Epoch 153/2001/1 - 0s - loss: 0.0227\n",
            "Epoch 154/2001/1 - 0s - loss: 0.0224\n",
            "Epoch 155/2001/1 - 0s - loss: 0.0222\n",
            "Epoch 156/2001/1 - 0s - loss: 0.0219\n",
            "Epoch 157/2001/1 - 0s - loss: 0.0217\n",
            "Epoch 158/2001/1 - 0s - loss: 0.0215\n",
            "Epoch 159/2001/1 - 0s - loss: 0.0212\n",
            "Epoch 160/2001/1 - 0s - loss: 0.0210\n",
            "Epoch 161/2001/1 - 0s - loss: 0.0208\n",
            "Epoch 162/2001/1 - 0s - loss: 0.0205\n",
            "Epoch 163/2001/1 - 0s - loss: 0.0203\n",
            "Epoch 164/2001/1 - 0s - loss: 0.0201\n",
            "Epoch 165/2001/1 - 0s - loss: 0.0199\n",
            "Epoch 166/2001/1 - 0s - loss: 0.0197\n",
            "Epoch 167/2001/1 - 0s - loss: 0.0194\n",
            "Epoch 168/2001/1 - 0s - loss: 0.0192\n",
            "Epoch 169/2001/1 - 0s - loss: 0.0190\n",
            "Epoch 170/2001/1 - 0s - loss: 0.0188\n",
            "Epoch 171/2001/1 - 0s - loss: 0.0186\n",
            "Epoch 172/2001/1 - 0s - loss: 0.0184\n",
            "Epoch 173/2001/1 - 0s - loss: 0.0182\n",
            "Epoch 174/2001/1 - 0s - loss: 0.0180\n",
            "Epoch 175/2001/1 - 0s - loss: 0.0178\n",
            "Epoch 176/2001/1 - 0s - loss: 0.0176\n",
            "Epoch 177/2001/1 - 0s - loss: 0.0174\n",
            "Epoch 178/2001/1 - 0s - loss: 0.0172\n",
            "Epoch 179/2001/1 - 0s - loss: 0.0170\n",
            "Epoch 180/2001/1 - 0s - loss: 0.0169\n",
            "Epoch 181/2001/1 - 0s - loss: 0.0167\n",
            "Epoch 182/2001/1 - 0s - loss: 0.0165\n",
            "Epoch 183/2001/1 - 0s - loss: 0.0163\n",
            "Epoch 184/2001/1 - 0s - loss: 0.0161\n",
            "Epoch 185/2001/1 - 0s - loss: 0.0160\n",
            "Epoch 186/2001/1 - 0s - loss: 0.0158\n",
            "Epoch 187/2001/1 - 0s - loss: 0.0156\n",
            "Epoch 188/2001/1 - 0s - loss: 0.0154\n",
            "Epoch 189/2001/1 - 0s - loss: 0.0153\n",
            "Epoch 190/2001/1 - 0s - loss: 0.0151\n",
            "Epoch 191/2001/1 - 0s - loss: 0.0149\n",
            "Epoch 192/2001/1 - 0s - loss: 0.0148\n",
            "Epoch 193/2001/1 - 0s - loss: 0.0146\n",
            "Epoch 194/2001/1 - 0s - loss: 0.0144\n",
            "Epoch 195/2001/1 - 0s - loss: 0.0143\n",
            "Epoch 196/2001/1 - 0s - loss: 0.0141\n",
            "Epoch 197/2001/1 - 0s - loss: 0.0140\n",
            "Epoch 198/2001/1 - 0s - loss: 0.0138\n",
            "Epoch 199/2001/1 - 0s - loss: 0.0137\n",
            "Epoch 200/2001/1 - 0s - loss: 0.0135\n"
          ],
          "name": "stdout"
        }
      ]
    },
    {
      "cell_type": "code",
      "metadata": {
        "id": "jGR3N2VcZfr7",
        "colab_type": "code",
        "outputId": "d5b6be46-573c-4aaa-89dd-4defde707c0d",
        "colab": {
          "base_uri": "https://localhost:8080/",
          "height": 35
        }
      },
      "source": [
        "print(prediction)"
      ],
      "execution_count": 11,
      "outputs": [
        {
          "output_type": "stream",
          "text": [
            "[4.032199]\n"
          ],
          "name": "stdout"
        }
      ]
    },
    {
      "cell_type": "markdown",
      "metadata": {
        "id": "s-6HHPNjA56z",
        "colab_type": "text"
      },
      "source": [
        "****************************************************************************************************"
      ]
    },
    {
      "cell_type": "markdown",
      "metadata": {
        "id": "zzDyOLrwGH3R",
        "colab_type": "text"
      },
      "source": [
        "# **3. Computer Vision - Fashion MNIST**"
      ]
    },
    {
      "cell_type": "code",
      "metadata": {
        "id": "vY4vUSYHGna9",
        "colab_type": "code",
        "colab": {}
      },
      "source": [
        "import tensorflow as tf"
      ],
      "execution_count": 0,
      "outputs": []
    },
    {
      "cell_type": "code",
      "metadata": {
        "id": "hNWh4VGbGRlh",
        "colab_type": "code",
        "colab": {}
      },
      "source": [
        "mnist = tf.keras.datasets.fashion_mnist"
      ],
      "execution_count": 0,
      "outputs": []
    },
    {
      "cell_type": "markdown",
      "metadata": {
        "id": "fOLJaqvmGtQi",
        "colab_type": "text"
      },
      "source": [
        "Calling load_data on this object will give you two sets of two lists, these will be the training and testing values for the graphics that contain the clothing items and their labels.\n"
      ]
    },
    {
      "cell_type": "code",
      "metadata": {
        "id": "NbQGsiZWGmT6",
        "colab_type": "code",
        "colab": {}
      },
      "source": [
        "(training_images, training_labels), (test_images, test_labels) = mnist.load_data()"
      ],
      "execution_count": 0,
      "outputs": []
    },
    {
      "cell_type": "markdown",
      "metadata": {
        "id": "uTvvYtQa7PvW",
        "colab_type": "text"
      },
      "source": [
        "## Representing the image\n",
        "Showing the grey scale image in an array\n",
        "You'll notice that all of the values in the number are between 0 and 255."
      ]
    },
    {
      "cell_type": "code",
      "metadata": {
        "id": "avzzc_djGwCh",
        "colab_type": "code",
        "outputId": "5a6ef578-641e-4b94-9862-a4aced7f600e",
        "colab": {
          "base_uri": "https://localhost:8080/",
          "height": 791
        }
      },
      "source": [
        "import numpy as np\n",
        "np.set_printoptions(linewidth=200)\n",
        "import matplotlib.pyplot as plt\n",
        "plt.imshow(training_images[0])\n",
        "print(training_labels[0])\n",
        "print(training_images[0])"
      ],
      "execution_count": 15,
      "outputs": [
        {
          "output_type": "stream",
          "text": [
            "9\n",
            "[[  0   0   0   0   0   0   0   0   0   0   0   0   0   0   0   0   0   0   0   0   0   0   0   0   0   0   0   0]\n",
            " [  0   0   0   0   0   0   0   0   0   0   0   0   0   0   0   0   0   0   0   0   0   0   0   0   0   0   0   0]\n",
            " [  0   0   0   0   0   0   0   0   0   0   0   0   0   0   0   0   0   0   0   0   0   0   0   0   0   0   0   0]\n",
            " [  0   0   0   0   0   0   0   0   0   0   0   0   1   0   0  13  73   0   0   1   4   0   0   0   0   1   1   0]\n",
            " [  0   0   0   0   0   0   0   0   0   0   0   0   3   0  36 136 127  62  54   0   0   0   1   3   4   0   0   3]\n",
            " [  0   0   0   0   0   0   0   0   0   0   0   0   6   0 102 204 176 134 144 123  23   0   0   0   0  12  10   0]\n",
            " [  0   0   0   0   0   0   0   0   0   0   0   0   0   0 155 236 207 178 107 156 161 109  64  23  77 130  72  15]\n",
            " [  0   0   0   0   0   0   0   0   0   0   0   1   0  69 207 223 218 216 216 163 127 121 122 146 141  88 172  66]\n",
            " [  0   0   0   0   0   0   0   0   0   1   1   1   0 200 232 232 233 229 223 223 215 213 164 127 123 196 229   0]\n",
            " [  0   0   0   0   0   0   0   0   0   0   0   0   0 183 225 216 223 228 235 227 224 222 224 221 223 245 173   0]\n",
            " [  0   0   0   0   0   0   0   0   0   0   0   0   0 193 228 218 213 198 180 212 210 211 213 223 220 243 202   0]\n",
            " [  0   0   0   0   0   0   0   0   0   1   3   0  12 219 220 212 218 192 169 227 208 218 224 212 226 197 209  52]\n",
            " [  0   0   0   0   0   0   0   0   0   0   6   0  99 244 222 220 218 203 198 221 215 213 222 220 245 119 167  56]\n",
            " [  0   0   0   0   0   0   0   0   0   4   0   0  55 236 228 230 228 240 232 213 218 223 234 217 217 209  92   0]\n",
            " [  0   0   1   4   6   7   2   0   0   0   0   0 237 226 217 223 222 219 222 221 216 223 229 215 218 255  77   0]\n",
            " [  0   3   0   0   0   0   0   0   0  62 145 204 228 207 213 221 218 208 211 218 224 223 219 215 224 244 159   0]\n",
            " [  0   0   0   0  18  44  82 107 189 228 220 222 217 226 200 205 211 230 224 234 176 188 250 248 233 238 215   0]\n",
            " [  0  57 187 208 224 221 224 208 204 214 208 209 200 159 245 193 206 223 255 255 221 234 221 211 220 232 246   0]\n",
            " [  3 202 228 224 221 211 211 214 205 205 205 220 240  80 150 255 229 221 188 154 191 210 204 209 222 228 225   0]\n",
            " [ 98 233 198 210 222 229 229 234 249 220 194 215 217 241  65  73 106 117 168 219 221 215 217 223 223 224 229  29]\n",
            " [ 75 204 212 204 193 205 211 225 216 185 197 206 198 213 240 195 227 245 239 223 218 212 209 222 220 221 230  67]\n",
            " [ 48 203 183 194 213 197 185 190 194 192 202 214 219 221 220 236 225 216 199 206 186 181 177 172 181 205 206 115]\n",
            " [  0 122 219 193 179 171 183 196 204 210 213 207 211 210 200 196 194 191 195 191 198 192 176 156 167 177 210  92]\n",
            " [  0   0  74 189 212 191 175 172 175 181 185 188 189 188 193 198 204 209 210 210 211 188 188 194 192 216 170   0]\n",
            " [  2   0   0   0  66 200 222 237 239 242 246 243 244 221 220 193 191 179 182 182 181 176 166 168  99  58   0   0]\n",
            " [  0   0   0   0   0   0   0  40  61  44  72  41  35   0   0   0   0   0   0   0   0   0   0   0   0   0   0   0]\n",
            " [  0   0   0   0   0   0   0   0   0   0   0   0   0   0   0   0   0   0   0   0   0   0   0   0   0   0   0   0]\n",
            " [  0   0   0   0   0   0   0   0   0   0   0   0   0   0   0   0   0   0   0   0   0   0   0   0   0   0   0   0]]\n"
          ],
          "name": "stdout"
        },
        {
          "output_type": "display_data",
          "data": {
            "image/png": "[encoded data removed]",
            "text/plain": [
              "<Figure size 432x288 with 1 Axes>"
            ]
          },
          "metadata": {
            "tags": [],
            "needs_background": "light"
          }
        }
      ]
    },
    {
      "cell_type": "markdown",
      "metadata": {
        "id": "N96yoQUb7vqY",
        "colab_type": "text"
      },
      "source": [
        "## Normalizing\n",
        "If we are training a neural network, for various reasons it's easier if we treat all values as between 0 and 1, a process called '**normalizing**'...and fortunately in Python it's easy to normalize a list like this without looping. You do it like this:"
      ]
    },
    {
      "cell_type": "code",
      "metadata": {
        "id": "kyRuYUseG4x5",
        "colab_type": "code",
        "colab": {}
      },
      "source": [
        "training_images  = training_images / 255.0\n",
        "test_images = test_images / 255.0"
      ],
      "execution_count": 0,
      "outputs": []
    },
    {
      "cell_type": "markdown",
      "metadata": {
        "id": "ls9RB4kx399d",
        "colab_type": "text"
      },
      "source": [
        "## Model \n",
        "\n",
        "**Sequential**: That defines a SEQUENCE of layers in the neural network\n",
        "\n",
        "**Flatten**: Remember earlier where our images were a square, when you printed them out? Flatten just takes that square and turns it into a 1 dimensional set.\n",
        "\n",
        "**Dense**: Adds a layer of neurons\n",
        "\n",
        "**activation function**: Each layer of neurons need an activation function to tell them what to do. There's lots of options, but just use these for now. \n",
        "\n",
        "**Relu**: effectively means \"If X>0 return X, else return 0\" -- so what it does it it only passes values 0 or greater to the next layer in the network.\n",
        "\n",
        "*Softmax* takes a set of values, and effectively picks the biggest one, so, for example, if the output of the last layer looks like [0.1, 0.1, 0.05, 0.1, 9.5, 0.1, 0.05, 0.05, 0.05], it saves you from fishing through it looking for the biggest value, and turns it into [0,0,0,0,1,0,0,0,0] -- The goal is to save a lot of coding!"
      ]
    },
    {
      "cell_type": "code",
      "metadata": {
        "id": "jAuBE0uMHGjB",
        "colab_type": "code",
        "colab": {}
      },
      "source": [
        "model = tf.keras.models.Sequential([tf.keras.layers.Flatten(), \n",
        "                                    tf.keras.layers.Dense(128, activation=tf.nn.relu), \n",
        "                                    tf.keras.layers.Dense(10, activation=tf.nn.softmax)])"
      ],
      "execution_count": 0,
      "outputs": []
    },
    {
      "cell_type": "markdown",
      "metadata": {
        "id": "VygO4zOK8xcw",
        "colab_type": "text"
      },
      "source": [
        "\n",
        "**Few Questions:**<br>\n",
        "1.Increase to 1024 Neurons -- What's the impact?\n",
        "By adding more Neurons we have to do more calculations, slowing down the process, but in this case they have a good impact -- we do get more accurate. That doesn't mean it's always a case of 'more is better', you can hit the law of diminishing returns very quickly!\n",
        "\n",
        "2.What would happen if you remove the Flatten() layer. Why do you think that's the case?\n",
        "\n",
        "You get an error about the shape of the data. It may seem vague right now, but it reinforces the rule of thumb that the first layer in your network should be the same shape as your data. Right now our data is 28x28 images, and 28 layers of 28 neurons would be infeasible, so it makes more sense to 'flatten' that 28,28 into a 784x1. Instead of wriitng all the code to handle that ourselves, we add the Flatten() layer at the begining, and when the arrays are loaded into the model later, they'll automatically be flattened for us.\n",
        "\n",
        "3.Consider the final (output) layers. Why are there 10 of them? What would happen if you had a different amount than 10? For example, try training the network with 5\n",
        "\n",
        "You get an error as soon as it finds an unexpected value. Another rule of thumb -- the number of neurons in the last layer should match the number of classes you are classifying for. In this case it's the digits 0-9, so there are 10 of them, hence you should have 10 neurons in your final layer.\n",
        "\n",
        "4.Consider the effects of additional layers in the network. What will happen if you add another layer between the one with 512 and the final layer with 10. \n",
        "\n",
        "Ans: There isn't a significant impact -- because this is relatively simple data. For far more complex data (including color images to be classified as flowers that you'll see in the next lesson), extra layers are often necessary.\n",
        "\n",
        "5.Consider the impact of training for more or less epochs. Why do you think that would be the case? \n",
        "\n",
        "Try 15 epochs -- you'll probably get a model with a much better loss than the one with 5\n",
        "Try 30 epochs -- you might see the loss value stops decreasing, and sometimes increases. This is a side effect of something called 'overfitting' which you can learn about [somewhere] and it's something you need to keep an eye out for when training neural networks. There's no point in wasting your time training if you aren't improving your loss, right! :)"
      ]
    },
    {
      "cell_type": "markdown",
      "metadata": {
        "id": "Yy1hybEFH3Zb",
        "colab_type": "text"
      },
      "source": [
        "## Custom Callbacks\n",
        "To handle the lot of things that are output while model is fitting labels to data, for that we can handle it using custom callback function.\n",
        "Also we can stop training our models after they reach some perticular accuracy"
      ]
    },
    {
      "cell_type": "code",
      "metadata": {
        "id": "riuZsW_fJNYO",
        "colab_type": "code",
        "colab": {}
      },
      "source": [
        "class CustomCallBack(tf.keras.callbacks.Callback):\n",
        "    def __init__(self, epochs):\n",
        "        self.epochs = epochs\n",
        "\n",
        "    def set_params(self, params):\n",
        "        params['epochs'] = 0\n",
        "\n",
        "    def on_epoch_begin(self, epoch, logs=None):\n",
        "        print('Epoch %d/%d' % (epoch + 1, self.epochs), end='')\n",
        "\n",
        "    def on_epoch_end(self, epoch, logs={}):\n",
        "        print(logs.get('accuracy'))\n",
        "        if(logs.get('accuracy')>0.92):\n",
        "          print(\"\\nReached 92% accuracy so cancelling training!\")\n",
        "          self.model.stop_training = True"
      ],
      "execution_count": 0,
      "outputs": []
    },
    {
      "cell_type": "markdown",
      "metadata": {
        "id": "KPscKj8z9Bku",
        "colab_type": "text"
      },
      "source": [
        "## Fit the model\n",
        "Figure out the relationship between the training data and its actual labels, so in future if you have data that looks like the training data, then it can make a prediction for what that data would look like. "
      ]
    },
    {
      "cell_type": "code",
      "metadata": {
        "id": "ukMNMhmfHK3i",
        "colab_type": "code",
        "outputId": "b514b57c-db6a-4bce-fcb8-f35c4b5e0925",
        "colab": {
          "base_uri": "https://localhost:8080/",
          "height": 580
        }
      },
      "source": [
        "model.compile(optimizer = tf.optimizers.Adam(),\n",
        "              loss = 'sparse_categorical_crossentropy',\n",
        "              metrics=['accuracy'])\n",
        "model.fit(training_images, training_labels, epochs=50, verbose=2, callbacks=[CustomCallBack(50)])"
      ],
      "execution_count": 19,
      "outputs": [
        {
          "output_type": "stream",
          "text": [
            "Epoch 1/500.8222500085830688\n",
            "1875/1875 - 3s - loss: 0.5015 - accuracy: 0.8223\n",
            "Epoch 2/500.8636000156402588\n",
            "1875/1875 - 3s - loss: 0.3777 - accuracy: 0.8636\n",
            "Epoch 3/500.8762833476066589\n",
            "1875/1875 - 3s - loss: 0.3380 - accuracy: 0.8763\n",
            "Epoch 4/500.8843166828155518\n",
            "1875/1875 - 3s - loss: 0.3154 - accuracy: 0.8843\n",
            "Epoch 5/500.8901500105857849\n",
            "1875/1875 - 3s - loss: 0.2960 - accuracy: 0.8902\n",
            "Epoch 6/500.8947166800498962\n",
            "1875/1875 - 3s - loss: 0.2807 - accuracy: 0.8947\n",
            "Epoch 7/500.8999166488647461\n",
            "1875/1875 - 3s - loss: 0.2690 - accuracy: 0.8999\n",
            "Epoch 8/500.902999997138977\n",
            "1875/1875 - 3s - loss: 0.2556 - accuracy: 0.9030\n",
            "Epoch 9/500.9083166718482971\n",
            "1875/1875 - 3s - loss: 0.2481 - accuracy: 0.9083\n",
            "Epoch 10/500.9105166792869568\n",
            "1875/1875 - 3s - loss: 0.2398 - accuracy: 0.9105\n",
            "Epoch 11/500.9122999906539917\n",
            "1875/1875 - 3s - loss: 0.2328 - accuracy: 0.9123\n",
            "Epoch 12/500.9172000288963318\n",
            "1875/1875 - 3s - loss: 0.2254 - accuracy: 0.9172\n",
            "Epoch 13/500.9184666872024536\n",
            "1875/1875 - 3s - loss: 0.2172 - accuracy: 0.9185\n",
            "Epoch 14/500.9210166931152344\n",
            "\n",
            "Reached 92% accuracy so cancelling training!\n",
            "1875/1875 - 3s - loss: 0.2111 - accuracy: 0.9210\n"
          ],
          "name": "stdout"
        },
        {
          "output_type": "execute_result",
          "data": {
            "text/plain": [
              "<tensorflow.python.keras.callbacks.History at 0x7f36a1d7c160>"
            ]
          },
          "metadata": {
            "tags": []
          },
          "execution_count": 19
        }
      ]
    },
    {
      "cell_type": "markdown",
      "metadata": {
        "id": "O8cljX7xILmr",
        "colab_type": "text"
      },
      "source": [
        "## Evaluate\n",
        "Once it's done training -- you should see an accuracy value at the end of the final epoch. It might look something like 0.89. This tells you that your neural network is about 89% accurate in classifying the training data. I.E., it figured out a pattern match between the image and the labels that worked 91% of the time. Not great, but not bad considering it was only trained for 5 epochs and done quite quickly.\n",
        "\n",
        "But how would it work with unseen data? That's why we have the test images. We can call model.evaluate, and pass in the two sets, and it will report back the loss for each. Let's give it a try:"
      ]
    },
    {
      "cell_type": "code",
      "metadata": {
        "id": "skQBc1S3H5th",
        "colab_type": "code",
        "outputId": "ef7de019-d3db-4832-f83d-c977f248cf33",
        "colab": {
          "base_uri": "https://localhost:8080/",
          "height": 54
        }
      },
      "source": [
        "model.evaluate(test_images, test_labels)"
      ],
      "execution_count": 20,
      "outputs": [
        {
          "output_type": "stream",
          "text": [
            "313/313 [==============================] - 0s 1ms/step - loss: 0.3300 - accuracy: 0.8881\n"
          ],
          "name": "stdout"
        },
        {
          "output_type": "execute_result",
          "data": {
            "text/plain": [
              "[0.3300286531448364, 0.8881000280380249]"
            ]
          },
          "metadata": {
            "tags": []
          },
          "execution_count": 20
        }
      ]
    },
    {
      "cell_type": "code",
      "metadata": {
        "id": "tg46kl-GITkp",
        "colab_type": "code",
        "outputId": "e88b4e4d-3dc5-479c-acd2-059964f387f0",
        "colab": {
          "base_uri": "https://localhost:8080/",
          "height": 35
        }
      },
      "source": [
        "classifications = model.predict(test_images)\n",
        "\n",
        "print(classifications[0])"
      ],
      "execution_count": 21,
      "outputs": [
        {
          "output_type": "stream",
          "text": [
            "[3.3216492e-07 1.1370596e-09 8.4211565e-10 6.7103174e-15 1.6432914e-09 1.3771451e-04 1.3427107e-08 1.3507322e-03 1.4573813e-09 9.9851114e-01]\n"
          ],
          "name": "stdout"
        }
      ]
    },
    {
      "cell_type": "markdown",
      "metadata": {
        "id": "7yl2pKGv28s2",
        "colab_type": "text"
      },
      "source": [
        "The output of the model is a list of 10 numbers. These numbers are a probability that the value being classified is the corresponding value, i.e. the first value in the list is the probability that the handwriting is of a '0', the next is a '1' etc. Notice that they are all VERY LOW probabilities.\n"
      ]
    },
    {
      "cell_type": "code",
      "metadata": {
        "id": "wP2F-aLQNqWa",
        "colab_type": "code",
        "outputId": "6111bb2b-9581-42e3-be6d-56daa275bd9f",
        "colab": {
          "base_uri": "https://localhost:8080/",
          "height": 35
        }
      },
      "source": [
        "print(test_labels[0])"
      ],
      "execution_count": 22,
      "outputs": [
        {
          "output_type": "stream",
          "text": [
            "9\n"
          ],
          "name": "stdout"
        }
      ]
    },
    {
      "cell_type": "markdown",
      "metadata": {
        "id": "uEw4Vfru3ClN",
        "colab_type": "text"
      },
      "source": [
        "Both the list and the labels are 0 based, so the ankle boot having label 9 means that it is the 10th of the 10 classes. The list having the 10th element being the highest value means that the Neural Network has predicted that the item it is classifying is most likely an ankle boot"
      ]
    },
    {
      "cell_type": "markdown",
      "metadata": {
        "id": "Xo-4kyZ5N8yS",
        "colab_type": "text"
      },
      "source": [
        "# **4. Computer Vision - Handwritten Digits MNIST**\n",
        "Write an MNIST classifier that trains to 99% accuracy or above, and does it without a fixed number of epochs -- i.e. you should stop training once you reach that level of accuracy.\n",
        "\n",
        "Some notes:\n",
        "1. It should succeed in less than 10 epochs, so it is okay to change epochs= to 10, but nothing larger\n",
        "2. When it reaches 99% or greater it should print out the string \"Reached 99% accuracy so cancelling training!\"\n",
        "3. If you add any additional variables, make sure you use the same names as the ones used in the class\n",
        "\n",
        "I've started the code for you below -- how would you finish it? "
      ]
    },
    {
      "cell_type": "code",
      "metadata": {
        "id": "bfuWf6ziN6yb",
        "colab_type": "code",
        "colab": {}
      },
      "source": [
        "import tensorflow as tf\n",
        "from os import path, getcwd, chdir"
      ],
      "execution_count": 0,
      "outputs": []
    },
    {
      "cell_type": "code",
      "metadata": {
        "id": "TsqF4cVQOtXc",
        "colab_type": "code",
        "colab": {
          "base_uri": "https://localhost:8080/",
          "height": 900
        },
        "outputId": "624cebfd-49f6-418d-df66-538f312a4338"
      },
      "source": [
        "mnist = tf.keras.datasets.mnist\n",
        "(x_train, y_train), (x_test, y_test) = mnist.load_data()\n",
        "\n",
        "print(\"Number of unique labels: \", len(np.unique(y_train)))\n",
        "print(\"\\nLabel: \", y_train[0])\n",
        "print(\"\\nImage array:\\n\", x_train[0])\n",
        "\n",
        "print(\"\\n Actual  Image:\")\n",
        "import numpy as np\n",
        "np.set_printoptions(linewidth=200)\n",
        "import matplotlib.pyplot as plt\n",
        "plt.imshow(x_train[0]);"
      ],
      "execution_count": 24,
      "outputs": [
        {
          "output_type": "stream",
          "text": [
            "Number of unique labels:  10\n",
            "\n",
            "Label:  5\n",
            "\n",
            "Image array:\n",
            " [[  0   0   0   0   0   0   0   0   0   0   0   0   0   0   0   0   0   0   0   0   0   0   0   0   0   0   0   0]\n",
            " [  0   0   0   0   0   0   0   0   0   0   0   0   0   0   0   0   0   0   0   0   0   0   0   0   0   0   0   0]\n",
            " [  0   0   0   0   0   0   0   0   0   0   0   0   0   0   0   0   0   0   0   0   0   0   0   0   0   0   0   0]\n",
            " [  0   0   0   0   0   0   0   0   0   0   0   0   0   0   0   0   0   0   0   0   0   0   0   0   0   0   0   0]\n",
            " [  0   0   0   0   0   0   0   0   0   0   0   0   0   0   0   0   0   0   0   0   0   0   0   0   0   0   0   0]\n",
            " [  0   0   0   0   0   0   0   0   0   0   0   0   3  18  18  18 126 136 175  26 166 255 247 127   0   0   0   0]\n",
            " [  0   0   0   0   0   0   0   0  30  36  94 154 170 253 253 253 253 253 225 172 253 242 195  64   0   0   0   0]\n",
            " [  0   0   0   0   0   0   0  49 238 253 253 253 253 253 253 253 253 251  93  82  82  56  39   0   0   0   0   0]\n",
            " [  0   0   0   0   0   0   0  18 219 253 253 253 253 253 198 182 247 241   0   0   0   0   0   0   0   0   0   0]\n",
            " [  0   0   0   0   0   0   0   0  80 156 107 253 253 205  11   0  43 154   0   0   0   0   0   0   0   0   0   0]\n",
            " [  0   0   0   0   0   0   0   0   0  14   1 154 253  90   0   0   0   0   0   0   0   0   0   0   0   0   0   0]\n",
            " [  0   0   0   0   0   0   0   0   0   0   0 139 253 190   2   0   0   0   0   0   0   0   0   0   0   0   0   0]\n",
            " [  0   0   0   0   0   0   0   0   0   0   0  11 190 253  70   0   0   0   0   0   0   0   0   0   0   0   0   0]\n",
            " [  0   0   0   0   0   0   0   0   0   0   0   0  35 241 225 160 108   1   0   0   0   0   0   0   0   0   0   0]\n",
            " [  0   0   0   0   0   0   0   0   0   0   0   0   0  81 240 253 253 119  25   0   0   0   0   0   0   0   0   0]\n",
            " [  0   0   0   0   0   0   0   0   0   0   0   0   0   0  45 186 253 253 150  27   0   0   0   0   0   0   0   0]\n",
            " [  0   0   0   0   0   0   0   0   0   0   0   0   0   0   0  16  93 252 253 187   0   0   0   0   0   0   0   0]\n",
            " [  0   0   0   0   0   0   0   0   0   0   0   0   0   0   0   0   0 249 253 249  64   0   0   0   0   0   0   0]\n",
            " [  0   0   0   0   0   0   0   0   0   0   0   0   0   0  46 130 183 253 253 207   2   0   0   0   0   0   0   0]\n",
            " [  0   0   0   0   0   0   0   0   0   0   0   0  39 148 229 253 253 253 250 182   0   0   0   0   0   0   0   0]\n",
            " [  0   0   0   0   0   0   0   0   0   0  24 114 221 253 253 253 253 201  78   0   0   0   0   0   0   0   0   0]\n",
            " [  0   0   0   0   0   0   0   0  23  66 213 253 253 253 253 198  81   2   0   0   0   0   0   0   0   0   0   0]\n",
            " [  0   0   0   0   0   0  18 171 219 253 253 253 253 195  80   9   0   0   0   0   0   0   0   0   0   0   0   0]\n",
            " [  0   0   0   0  55 172 226 253 253 253 253 244 133  11   0   0   0   0   0   0   0   0   0   0   0   0   0   0]\n",
            " [  0   0   0   0 136 253 253 253 212 135 132  16   0   0   0   0   0   0   0   0   0   0   0   0   0   0   0   0]\n",
            " [  0   0   0   0   0   0   0   0   0   0   0   0   0   0   0   0   0   0   0   0   0   0   0   0   0   0   0   0]\n",
            " [  0   0   0   0   0   0   0   0   0   0   0   0   0   0   0   0   0   0   0   0   0   0   0   0   0   0   0   0]\n",
            " [  0   0   0   0   0   0   0   0   0   0   0   0   0   0   0   0   0   0   0   0   0   0   0   0   0   0   0   0]]\n",
            "\n",
            " Actual  Image:\n"
          ],
          "name": "stdout"
        },
        {
          "output_type": "display_data",
          "data": {
            "image/png": "[encoded data removed]",
            "text/plain": [
              "<Figure size 432x288 with 1 Axes>"
            ]
          },
          "metadata": {
            "tags": [],
            "needs_background": "light"
          }
        }
      ]
    },
    {
      "cell_type": "code",
      "metadata": {
        "id": "7lpI5qRxOIv9",
        "colab_type": "code",
        "colab": {}
      },
      "source": [
        "def train_mnist():\n",
        "\n",
        "    class CustomCallBack(tf.keras.callbacks.Callback):\n",
        "        def on_epoch_end(self, epoch, logs={}):\n",
        "            print(logs.get('accuracy'))               # To note: in some envs we use 'acc' instead of 'accuracy'\n",
        "            if(logs.get('accuracy')>0.99):\n",
        "                print(\"\\nReached 99% accuracy so cancelling training!\")\n",
        "                self.model.stop_training = True\n",
        "\n",
        "    mnist = tf.keras.datasets.mnist\n",
        "\n",
        "    (x_train, y_train),(x_test, y_test) = mnist.load_data()\n",
        "\n",
        "    x_train = x_train/255\n",
        "    x_test = x_test/255                               # To note: we normalize image data not the image labels\n",
        "    \n",
        "    model = tf.keras.models.Sequential([\n",
        "    tf.keras.layers.Flatten(),\n",
        "    tf.keras.layers.Dense(512,activation=tf.nn.relu),\n",
        "    tf.keras.layers.Dense(10,activation=tf.nn.softmax)\n",
        "    ])\n",
        "\n",
        "    model.compile(optimizer='adam',\n",
        "                  loss='sparse_categorical_crossentropy',\n",
        "                  metrics=['accuracy'])\n",
        "    # model fitting\n",
        "    history = model.fit(x_train, y_train, epochs=10, callbacks=[CustomCallBack()])\n",
        "    print(\"\\n Evaluated Scores: [loss, accuracy]\", model.evaluate(x_test, y_test))\n",
        "    # model fitting\n",
        "    return history.history['accuracy'][-1]"
      ],
      "execution_count": 0,
      "outputs": []
    },
    {
      "cell_type": "code",
      "metadata": {
        "id": "bv9dBv3MONfe",
        "colab_type": "code",
        "colab": {
          "base_uri": "https://localhost:8080/",
          "height": 399
        },
        "outputId": "a25c913c-dc21-4309-dd1a-e4d34c14f226"
      },
      "source": [
        "train_mnist()"
      ],
      "execution_count": 26,
      "outputs": [
        {
          "output_type": "stream",
          "text": [
            "Epoch 1/10\n",
            "1874/1875 [============================>.] - ETA: 0s - loss: 0.2022 - accuracy: 0.94080.9408666491508484\n",
            "1875/1875 [==============================] - 7s 4ms/step - loss: 0.2021 - accuracy: 0.9409\n",
            "Epoch 2/10\n",
            "1868/1875 [============================>.] - ETA: 0s - loss: 0.0805 - accuracy: 0.97540.9754166603088379\n",
            "1875/1875 [==============================] - 7s 4ms/step - loss: 0.0805 - accuracy: 0.9754\n",
            "Epoch 3/10\n",
            "1875/1875 [==============================] - ETA: 0s - loss: 0.0529 - accuracy: 0.98360.9835500121116638\n",
            "1875/1875 [==============================] - 7s 4ms/step - loss: 0.0529 - accuracy: 0.9836\n",
            "Epoch 4/10\n",
            "1870/1875 [============================>.] - ETA: 0s - loss: 0.0359 - accuracy: 0.98840.9883999824523926\n",
            "1875/1875 [==============================] - 7s 4ms/step - loss: 0.0359 - accuracy: 0.9884\n",
            "Epoch 5/10\n",
            "1875/1875 [==============================] - ETA: 0s - loss: 0.0271 - accuracy: 0.99120.9912333488464355\n",
            "\n",
            "Reached 99% accuracy so cancelling training!\n",
            "1875/1875 [==============================] - 9s 5ms/step - loss: 0.0271 - accuracy: 0.9912\n",
            "313/313 [==============================] - 1s 3ms/step - loss: 0.0649 - accuracy: 0.9797\n",
            "\n",
            " Evaluated Scores: [loss, accuracy] [0.06490624696016312, 0.9797000288963318]\n"
          ],
          "name": "stdout"
        },
        {
          "output_type": "execute_result",
          "data": {
            "text/plain": [
              "0.9912333488464355"
            ]
          },
          "metadata": {
            "tags": []
          },
          "execution_count": 26
        }
      ]
    }
  ]
}