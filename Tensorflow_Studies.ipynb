{
  "nbformat": 4,
  "nbformat_minor": 0,
  "metadata": {
    "colab": {
      "name": "Tensorflow Studies.ipynb",
      "provenance": [],
      "collapsed_sections": [],
      "toc_visible": true,
      "authorship_tag": "ABX9TyOIfsrvEXL4E/EqNFT5tX3S",
      "include_colab_link": true
    },
    "kernelspec": {
      "name": "python3",
      "display_name": "Python 3"
    },
    "accelerator": "GPU"
  },
  "cells": [
    {
      "cell_type": "markdown",
      "metadata": {
        "id": "view-in-github",
        "colab_type": "text"
      },
      "source": [
        "<a href=\"https://colab.research.google.com/github/KashyapBhat/MyPathTowardsMachineLearning/blob/master/Tensorflow_Studies.ipynb\" target=\"_parent\"><img src=\"https://colab.research.google.com/assets/colab-badge.svg\" alt=\"Open In Colab\"/></a>"
      ]
    },
    {
      "cell_type": "markdown",
      "metadata": {
        "id": "zirikWJ7SPN7",
        "colab_type": "text"
      },
      "source": [
        "# Tensorflow"
      ]
    },
    {
      "cell_type": "markdown",
      "metadata": {
        "id": "lEAmV4MaSF6r",
        "colab_type": "text"
      },
      "source": [
        "### Why Machine Learning\n",
        "\n",
        "Like every first app you should start with something super simple that shows the overall scaffolding for how your code works. \n",
        "\n",
        "In the case of creating neural networks, the sample I like to use is one where it learns the relationship between two numbers. So, for example, if you were writing code for a function like this, you already know the 'rules' — \n",
        "\n",
        "\n",
        "```\n",
        "float hw_function(float x){\n",
        "    float y = (2 * x) - 1;\n",
        "    return y;\n",
        "}\n",
        "```\n",
        "\n",
        "So how would you train a neural network to do the equivalent task? Using data! By feeding it with a set of Xs, and a set of Ys, it should be able to figure out the relationship between them. \n",
        "\n",
        "This is obviously a very different paradigm than what you might be used to, so let's step through it piece by piece.\n"
      ]
    },
    {
      "cell_type": "markdown",
      "metadata": {
        "id": "MciqCYe3VANJ",
        "colab_type": "text"
      },
      "source": [
        "****************************************************************************************************"
      ]
    },
    {
      "cell_type": "markdown",
      "metadata": {
        "id": "GKXHnXytUOLm",
        "colab_type": "text"
      },
      "source": [
        "# **1. Simple example problem using tf**"
      ]
    },
    {
      "cell_type": "markdown",
      "metadata": {
        "id": "fupjr1XcTlVn",
        "colab_type": "text"
      },
      "source": [
        "### Lets get started\n",
        "We then import a library called numpy, which helps us to represent our data as lists easily and quickly.\n",
        "The framework for defining a neural network as a set of Sequential layers is called keras, so we import that too."
      ]
    },
    {
      "cell_type": "code",
      "metadata": {
        "id": "HhDGUezBSIAD",
        "colab_type": "code",
        "colab": {}
      },
      "source": [
        "\n",
        "\n",
        "import tensorflow as tf\n",
        "import numpy as np\n",
        "from tensorflow import keras"
      ],
      "execution_count": 0,
      "outputs": []
    },
    {
      "cell_type": "markdown",
      "metadata": {
        "id": "iY4rL3vUSevH",
        "colab_type": "text"
      },
      "source": [
        "### Define the Neural Network\n",
        "\n",
        "Next we will create the simplest possible neural network. It has 1 layer, and that layer has 1 neuron, and the input shape to it is just 1 value.\n"
      ]
    },
    {
      "cell_type": "code",
      "metadata": {
        "id": "7ccen0XQSbuz",
        "colab_type": "code",
        "colab": {}
      },
      "source": [
        "model = tf.keras.Sequential([keras.layers.Dense(units=1, input_shape=[1])])"
      ],
      "execution_count": 0,
      "outputs": []
    },
    {
      "cell_type": "markdown",
      "metadata": {
        "id": "-9U5TWZSS7-e",
        "colab_type": "text"
      },
      "source": [
        "### Compile the Neural Network\n",
        "\n",
        "Now we compile our Neural Network. When we do so, we have to specify 2 functions, a loss and an optimizer.\n",
        "\n",
        "If you've seen lots of math for machine learning, here's where it's usually used, but in this case it's nicely encapsulated in functions for you. But what happens here — let's explain...\n",
        "\n",
        "We know that in our function, the relationship between the numbers is y=2x-1. \n",
        "\n",
        "When the computer is trying to 'learn' that, it makes a guess...maybe y=10x+10. The LOSS function measures the guessed answers against the known correct answers and measures how well or how badly it did.\n",
        "\n",
        "It then uses the OPTIMIZER function to make another guess. Based on how the loss function went, it will try to minimize the loss. At that point maybe it will come up with somehting like y=5x+5, which, while still pretty bad, is closer to the correct result (i.e. the loss is lower)\n",
        "\n",
        "It will repeat this for the number of EPOCHS which you will see shortly. But first, here's how we tell it to use 'MEAN SQUARED ERROR' for the loss and 'STOCHASTIC GRADIENT DESCENT' for the optimizer. You don't need to understand the math for these yet, but you can see that they work! :)\n",
        "\n",
        "Over time you will learn the different and appropriate loss and optimizer functions for different scenarios. \n"
      ]
    },
    {
      "cell_type": "code",
      "metadata": {
        "id": "_Xb32wNrSfHA",
        "colab_type": "code",
        "colab": {}
      },
      "source": [
        "model.compile(optimizer='sgd', loss='mean_squared_error')"
      ],
      "execution_count": 0,
      "outputs": []
    },
    {
      "cell_type": "markdown",
      "metadata": {
        "id": "gaScdreVTBuV",
        "colab_type": "text"
      },
      "source": [
        "## Providing the Data\n",
        "\n",
        "Next up we'll feed in some data. In this case we are taking 6 xs and 6ys. You can see that the relationship between these is that y=2x-1, so where x = -1, y=-3 etc. etc. \n",
        "\n",
        "A python library called 'Numpy' provides lots of array type data structures that are a defacto standard way of doing it. We declare that we want to use these by specifying the values as an np.array[]"
      ]
    },
    {
      "cell_type": "code",
      "metadata": {
        "id": "w30bccAKS5Lf",
        "colab_type": "code",
        "colab": {}
      },
      "source": [
        "xs = np.array([-1.0,  0.0, 1.0, 2.0, 3.0, 4.0], dtype=float)\n",
        "ys = np.array([-3.0, -1.0, 1.0, 3.0, 5.0, 7.0], dtype=float)"
      ],
      "execution_count": 0,
      "outputs": []
    },
    {
      "cell_type": "markdown",
      "metadata": {
        "id": "r3Dfqe1tTLrd",
        "colab_type": "text"
      },
      "source": [
        "## Training the model\n",
        "\n",
        "The process of training the neural network, where it 'learns' the relationship between the Xs and Ys is in the **model.fit**  call. This is where it will go through the loop we spoke about above, making a guess, measuring how good or bad it is (aka the loss), using the opimizer to make another guess etc. It will do it for the number of epochs you specify. When you run this code, you'll see the loss on the right hand side."
      ]
    },
    {
      "cell_type": "code",
      "metadata": {
        "id": "yOdO9TVJTOt6",
        "colab_type": "code",
        "outputId": "5c2f728b-056c-44da-e5d7-3c13d065e2f7",
        "colab": {
          "base_uri": "https://localhost:8080/",
          "height": 35
        }
      },
      "source": [
        "model.fit(xs, ys, epochs=500,verbose=0)"
      ],
      "execution_count": 5,
      "outputs": [
        {
          "output_type": "execute_result",
          "data": {
            "text/plain": [
              "<tensorflow.python.keras.callbacks.History at 0x7fd1b0388fd0>"
            ]
          },
          "metadata": {
            "tags": []
          },
          "execution_count": 5
        }
      ]
    },
    {
      "cell_type": "markdown",
      "metadata": {
        "id": "oN6IqZxUTabM",
        "colab_type": "text"
      },
      "source": [
        "## Make a prediction\n",
        "\n",
        "Ok, now you have a model that has been trained to learn the relationshop between X and Y. You can use the **model.predict** method to have it figure out the Y for a previously unknown X. So, for example, if X = 10, what do you think Y will be? Take a guess before you run this code:"
      ]
    },
    {
      "cell_type": "code",
      "metadata": {
        "id": "-dTQdp87TQ0Y",
        "colab_type": "code",
        "outputId": "cef674bd-c23a-4c3e-8c90-b6ca1f28efbc",
        "colab": {
          "base_uri": "https://localhost:8080/",
          "height": 35
        }
      },
      "source": [
        "print(model.predict([10.0]))"
      ],
      "execution_count": 6,
      "outputs": [
        {
          "output_type": "stream",
          "text": [
            "[[18.982]]\n"
          ],
          "name": "stdout"
        }
      ]
    },
    {
      "cell_type": "markdown",
      "metadata": {
        "id": "XZhlG9l0Tdiv",
        "colab_type": "text"
      },
      "source": [
        "You might have thought 19, right? But it ended up being a little under. Why do you think that is? \n",
        "\n",
        "Remember that neural networks deal with probabilities, so given the data that we fed the NN with, it calculated that there is a very high probability that the relationship between X and Y is Y=2X-1, but with only 6 data points we can't know for sure. As a result, the result for 10 is very close to 19, but not necessarily 19. \n",
        "\n",
        "As you work with neural networks, you'll see this pattern recurring. You will almost always deal with probabilities, not certainties, and will do a little bit of coding to figure out what the result is based on the probabilities, particularly when it comes to classification.\n"
      ]
    },
    {
      "cell_type": "markdown",
      "metadata": {
        "id": "67q6VXzxUrC8",
        "colab_type": "text"
      },
      "source": [
        "**********************************************************************************************"
      ]
    },
    {
      "cell_type": "markdown",
      "metadata": {
        "id": "XwK2XhCiZOs2",
        "colab_type": "text"
      },
      "source": [
        "# **2. House price prediction**"
      ]
    },
    {
      "cell_type": "markdown",
      "metadata": {
        "id": "DB5eTwRFZXL7",
        "colab_type": "text"
      },
      "source": [
        "In this exercise you'll try to build a neural network that predicts the price of a house according to a simple formula.\n",
        "\n",
        "So, imagine if house pricing was as easy as a house costs 50k + 50k per bedroom, so that a 1 bedroom house costs 100k, a 2 bedroom house costs 150k etc.\n",
        "\n",
        "How would you create a neural network that learns this relationship so that it would predict a 7 bedroom house as costing close to 400k etc.\n",
        "\n",
        "Hint: Your network might work better if you scale the house price down. You don't have to give the answer 400...it might be better to create something that predicts the number 4, and then your answer is in the 'hundreds of thousands' etc."
      ]
    },
    {
      "cell_type": "code",
      "metadata": {
        "id": "5IyW62ajU7FZ",
        "colab_type": "code",
        "colab": {}
      },
      "source": [
        "import tensorflow as tf\n",
        "import numpy as np\n",
        "from tensorflow import keras"
      ],
      "execution_count": 0,
      "outputs": []
    },
    {
      "cell_type": "code",
      "metadata": {
        "id": "QoPKS-hl_BeY",
        "colab_type": "code",
        "colab": {}
      },
      "source": [
        "class PrintLogs(tf.keras.callbacks.Callback):\n",
        "    def __init__(self, epochs):\n",
        "        self.epochs = epochs\n",
        "\n",
        "    def set_params(self, params):\n",
        "        params['epochs'] = 0\n",
        "\n",
        "    def on_epoch_begin(self, epoch, logs=None):\n",
        "        print('Epoch %d/%d' % (epoch + 1, self.epochs), end='')"
      ],
      "execution_count": 0,
      "outputs": []
    },
    {
      "cell_type": "code",
      "metadata": {
        "id": "reI1VQY1ZaC_",
        "colab_type": "code",
        "colab": {}
      },
      "source": [
        "# GRADED FUNCTION: house_model\n",
        "def house_model(y_new):\n",
        "    xs = np.array([1,2,3,4,5,6,10], dtype=float)\n",
        "    ys = np.array([1,1.5,2,2.5,3,3.5,5.5], dtype=float)\n",
        "    model = tf.keras.Sequential([keras.layers.Dense(units=1, input_shape=[1])])\n",
        "    model.compile(optimizer='sgd', loss='mean_squared_error')\n",
        "    model.fit(xs, ys, epochs=200, verbose=2, callbacks=[PrintLogs(200)])       # Increasing the epochs will yeild better results\n",
        "    return model.predict(y_new)[0]"
      ],
      "execution_count": 0,
      "outputs": []
    },
    {
      "cell_type": "code",
      "metadata": {
        "id": "HYi81vWFZb2J",
        "colab_type": "code",
        "outputId": "4946d5de-af3c-49c9-84da-b41fa9320055",
        "colab": {
          "base_uri": "https://localhost:8080/",
          "height": 1000
        }
      },
      "source": [
        "prediction = house_model([7.0])"
      ],
      "execution_count": 10,
      "outputs": [
        {
          "output_type": "stream",
          "text": [
            "Epoch 1/2001/1 - 0s - loss: 28.3511\n",
            "Epoch 2/2001/1 - 0s - loss: 5.5084\n",
            "Epoch 3/2001/1 - 0s - loss: 1.0905\n",
            "Epoch 4/2001/1 - 0s - loss: 0.2358\n",
            "Epoch 5/2001/1 - 0s - loss: 0.0702\n",
            "Epoch 6/2001/1 - 0s - loss: 0.0380\n",
            "Epoch 7/2001/1 - 0s - loss: 0.0314\n",
            "Epoch 8/2001/1 - 0s - loss: 0.0299\n",
            "Epoch 9/2001/1 - 0s - loss: 0.0294\n",
            "Epoch 10/2001/1 - 0s - loss: 0.0290\n",
            "Epoch 11/2001/1 - 0s - loss: 0.0287\n",
            "Epoch 12/2001/1 - 0s - loss: 0.0284\n",
            "Epoch 13/2001/1 - 0s - loss: 0.0281\n",
            "Epoch 14/2001/1 - 0s - loss: 0.0277\n",
            "Epoch 15/2001/1 - 0s - loss: 0.0274\n",
            "Epoch 16/2001/1 - 0s - loss: 0.0271\n",
            "Epoch 17/2001/1 - 0s - loss: 0.0268\n",
            "Epoch 18/2001/1 - 0s - loss: 0.0266\n",
            "Epoch 19/2001/1 - 0s - loss: 0.0263\n",
            "Epoch 20/2001/1 - 0s - loss: 0.0260\n",
            "Epoch 21/2001/1 - 0s - loss: 0.0257\n",
            "Epoch 22/2001/1 - 0s - loss: 0.0254\n",
            "Epoch 23/2001/1 - 0s - loss: 0.0251\n",
            "Epoch 24/2001/1 - 0s - loss: 0.0249\n",
            "Epoch 25/2001/1 - 0s - loss: 0.0246\n",
            "Epoch 26/2001/1 - 0s - loss: 0.0243\n",
            "Epoch 27/2001/1 - 0s - loss: 0.0241\n",
            "Epoch 28/2001/1 - 0s - loss: 0.0238\n",
            "Epoch 29/2001/1 - 0s - loss: 0.0235\n",
            "Epoch 30/2001/1 - 0s - loss: 0.0233\n",
            "Epoch 31/2001/1 - 0s - loss: 0.0230\n",
            "Epoch 32/2001/1 - 0s - loss: 0.0228\n",
            "Epoch 33/2001/1 - 0s - loss: 0.0225\n",
            "Epoch 34/2001/1 - 0s - loss: 0.0223\n",
            "Epoch 35/2001/1 - 0s - loss: 0.0220\n",
            "Epoch 36/2001/1 - 0s - loss: 0.0218\n",
            "Epoch 37/2001/1 - 0s - loss: 0.0216\n",
            "Epoch 38/2001/1 - 0s - loss: 0.0213\n",
            "Epoch 39/2001/1 - 0s - loss: 0.0211\n",
            "Epoch 40/2001/1 - 0s - loss: 0.0209\n",
            "Epoch 41/2001/1 - 0s - loss: 0.0206\n",
            "Epoch 42/2001/1 - 0s - loss: 0.0204\n",
            "Epoch 43/2001/1 - 0s - loss: 0.0202\n",
            "Epoch 44/2001/1 - 0s - loss: 0.0200\n",
            "Epoch 45/2001/1 - 0s - loss: 0.0197\n",
            "Epoch 46/2001/1 - 0s - loss: 0.0195\n",
            "Epoch 47/2001/1 - 0s - loss: 0.0193\n",
            "Epoch 48/2001/1 - 0s - loss: 0.0191\n",
            "Epoch 49/2001/1 - 0s - loss: 0.0189\n",
            "Epoch 50/2001/1 - 0s - loss: 0.0187\n",
            "Epoch 51/2001/1 - 0s - loss: 0.0185\n",
            "Epoch 52/2001/1 - 0s - loss: 0.0183\n",
            "Epoch 53/2001/1 - 0s - loss: 0.0181\n",
            "Epoch 54/2001/1 - 0s - loss: 0.0179\n",
            "Epoch 55/2001/1 - 0s - loss: 0.0177\n",
            "Epoch 56/2001/1 - 0s - loss: 0.0175\n",
            "Epoch 57/2001/1 - 0s - loss: 0.0173\n",
            "Epoch 58/2001/1 - 0s - loss: 0.0171\n",
            "Epoch 59/2001/1 - 0s - loss: 0.0169\n",
            "Epoch 60/2001/1 - 0s - loss: 0.0167\n",
            "Epoch 61/2001/1 - 0s - loss: 0.0166\n",
            "Epoch 62/2001/1 - 0s - loss: 0.0164\n",
            "Epoch 63/2001/1 - 0s - loss: 0.0162\n",
            "Epoch 64/2001/1 - 0s - loss: 0.0160\n",
            "Epoch 65/2001/1 - 0s - loss: 0.0158\n",
            "Epoch 66/2001/1 - 0s - loss: 0.0157\n",
            "Epoch 67/2001/1 - 0s - loss: 0.0155\n",
            "Epoch 68/2001/1 - 0s - loss: 0.0153\n",
            "Epoch 69/2001/1 - 0s - loss: 0.0152\n",
            "Epoch 70/2001/1 - 0s - loss: 0.0150\n",
            "Epoch 71/2001/1 - 0s - loss: 0.0148\n",
            "Epoch 72/2001/1 - 0s - loss: 0.0147\n",
            "Epoch 73/2001/1 - 0s - loss: 0.0145\n",
            "Epoch 74/2001/1 - 0s - loss: 0.0144\n",
            "Epoch 75/2001/1 - 0s - loss: 0.0142\n",
            "Epoch 76/2001/1 - 0s - loss: 0.0140\n",
            "Epoch 77/2001/1 - 0s - loss: 0.0139\n",
            "Epoch 78/2001/1 - 0s - loss: 0.0137\n",
            "Epoch 79/2001/1 - 0s - loss: 0.0136\n",
            "Epoch 80/2001/1 - 0s - loss: 0.0134\n",
            "Epoch 81/2001/1 - 0s - loss: 0.0133\n",
            "Epoch 82/2001/1 - 0s - loss: 0.0131\n",
            "Epoch 83/2001/1 - 0s - loss: 0.0130\n",
            "Epoch 84/2001/1 - 0s - loss: 0.0129\n",
            "Epoch 85/2001/1 - 0s - loss: 0.0127\n",
            "Epoch 86/2001/1 - 0s - loss: 0.0126\n",
            "Epoch 87/2001/1 - 0s - loss: 0.0124\n",
            "Epoch 88/2001/1 - 0s - loss: 0.0123\n",
            "Epoch 89/2001/1 - 0s - loss: 0.0122\n",
            "Epoch 90/2001/1 - 0s - loss: 0.0120\n",
            "Epoch 91/2001/1 - 0s - loss: 0.0119\n",
            "Epoch 92/2001/1 - 0s - loss: 0.0118\n",
            "Epoch 93/2001/1 - 0s - loss: 0.0116\n",
            "Epoch 94/2001/1 - 0s - loss: 0.0115\n",
            "Epoch 95/2001/1 - 0s - loss: 0.0114\n",
            "Epoch 96/2001/1 - 0s - loss: 0.0113\n",
            "Epoch 97/2001/1 - 0s - loss: 0.0111\n",
            "Epoch 98/2001/1 - 0s - loss: 0.0110\n",
            "Epoch 99/2001/1 - 0s - loss: 0.0109\n",
            "Epoch 100/2001/1 - 0s - loss: 0.0108\n",
            "Epoch 101/2001/1 - 0s - loss: 0.0107\n",
            "Epoch 102/2001/1 - 0s - loss: 0.0106\n",
            "Epoch 103/2001/1 - 0s - loss: 0.0104\n",
            "Epoch 104/2001/1 - 0s - loss: 0.0103\n",
            "Epoch 105/2001/1 - 0s - loss: 0.0102\n",
            "Epoch 106/2001/1 - 0s - loss: 0.0101\n",
            "Epoch 107/2001/1 - 0s - loss: 0.0100\n",
            "Epoch 108/2001/1 - 0s - loss: 0.0099\n",
            "Epoch 109/2001/1 - 0s - loss: 0.0098\n",
            "Epoch 110/2001/1 - 0s - loss: 0.0097\n",
            "Epoch 111/2001/1 - 0s - loss: 0.0096\n",
            "Epoch 112/2001/1 - 0s - loss: 0.0095\n",
            "Epoch 113/2001/1 - 0s - loss: 0.0094\n",
            "Epoch 114/2001/1 - 0s - loss: 0.0092\n",
            "Epoch 115/2001/1 - 0s - loss: 0.0091\n",
            "Epoch 116/2001/1 - 0s - loss: 0.0090\n",
            "Epoch 117/2001/1 - 0s - loss: 0.0089\n",
            "Epoch 118/2001/1 - 0s - loss: 0.0089\n",
            "Epoch 119/2001/1 - 0s - loss: 0.0088\n",
            "Epoch 120/2001/1 - 0s - loss: 0.0087\n",
            "Epoch 121/2001/1 - 0s - loss: 0.0086\n",
            "Epoch 122/2001/1 - 0s - loss: 0.0085\n",
            "Epoch 123/2001/1 - 0s - loss: 0.0084\n",
            "Epoch 124/2001/1 - 0s - loss: 0.0083\n",
            "Epoch 125/2001/1 - 0s - loss: 0.0082\n",
            "Epoch 126/2001/1 - 0s - loss: 0.0081\n",
            "Epoch 127/2001/1 - 0s - loss: 0.0080\n",
            "Epoch 128/2001/1 - 0s - loss: 0.0079\n",
            "Epoch 129/2001/1 - 0s - loss: 0.0078\n",
            "Epoch 130/2001/1 - 0s - loss: 0.0078\n",
            "Epoch 131/2001/1 - 0s - loss: 0.0077\n",
            "Epoch 132/2001/1 - 0s - loss: 0.0076\n",
            "Epoch 133/2001/1 - 0s - loss: 0.0075\n",
            "Epoch 134/2001/1 - 0s - loss: 0.0074\n",
            "Epoch 135/2001/1 - 0s - loss: 0.0073\n",
            "Epoch 136/2001/1 - 0s - loss: 0.0073\n",
            "Epoch 137/2001/1 - 0s - loss: 0.0072\n",
            "Epoch 138/2001/1 - 0s - loss: 0.0071\n",
            "Epoch 139/2001/1 - 0s - loss: 0.0070\n",
            "Epoch 140/2001/1 - 0s - loss: 0.0069\n",
            "Epoch 141/2001/1 - 0s - loss: 0.0069\n",
            "Epoch 142/2001/1 - 0s - loss: 0.0068\n",
            "Epoch 143/2001/1 - 0s - loss: 0.0067\n",
            "Epoch 144/2001/1 - 0s - loss: 0.0067\n",
            "Epoch 145/2001/1 - 0s - loss: 0.0066\n",
            "Epoch 146/2001/1 - 0s - loss: 0.0065\n",
            "Epoch 147/2001/1 - 0s - loss: 0.0064\n",
            "Epoch 148/2001/1 - 0s - loss: 0.0064\n",
            "Epoch 149/2001/1 - 0s - loss: 0.0063\n",
            "Epoch 150/2001/1 - 0s - loss: 0.0062\n",
            "Epoch 151/2001/1 - 0s - loss: 0.0062\n",
            "Epoch 152/2001/1 - 0s - loss: 0.0061\n",
            "Epoch 153/2001/1 - 0s - loss: 0.0060\n",
            "Epoch 154/2001/1 - 0s - loss: 0.0060\n",
            "Epoch 155/2001/1 - 0s - loss: 0.0059\n",
            "Epoch 156/2001/1 - 0s - loss: 0.0058\n",
            "Epoch 157/2001/1 - 0s - loss: 0.0058\n",
            "Epoch 158/2001/1 - 0s - loss: 0.0057\n",
            "Epoch 159/2001/1 - 0s - loss: 0.0056\n",
            "Epoch 160/2001/1 - 0s - loss: 0.0056\n",
            "Epoch 161/2001/1 - 0s - loss: 0.0055\n",
            "Epoch 162/2001/1 - 0s - loss: 0.0055\n",
            "Epoch 163/2001/1 - 0s - loss: 0.0054\n",
            "Epoch 164/2001/1 - 0s - loss: 0.0053\n",
            "Epoch 165/2001/1 - 0s - loss: 0.0053\n",
            "Epoch 166/2001/1 - 0s - loss: 0.0052\n",
            "Epoch 167/2001/1 - 0s - loss: 0.0052\n",
            "Epoch 168/2001/1 - 0s - loss: 0.0051\n",
            "Epoch 169/2001/1 - 0s - loss: 0.0051\n",
            "Epoch 170/2001/1 - 0s - loss: 0.0050\n",
            "Epoch 171/2001/1 - 0s - loss: 0.0049\n",
            "Epoch 172/2001/1 - 0s - loss: 0.0049\n",
            "Epoch 173/2001/1 - 0s - loss: 0.0048\n",
            "Epoch 174/2001/1 - 0s - loss: 0.0048\n",
            "Epoch 175/2001/1 - 0s - loss: 0.0047\n",
            "Epoch 176/2001/1 - 0s - loss: 0.0047\n",
            "Epoch 177/2001/1 - 0s - loss: 0.0046\n",
            "Epoch 178/2001/1 - 0s - loss: 0.0046\n",
            "Epoch 179/2001/1 - 0s - loss: 0.0045\n",
            "Epoch 180/2001/1 - 0s - loss: 0.0045\n",
            "Epoch 181/2001/1 - 0s - loss: 0.0044\n",
            "Epoch 182/2001/1 - 0s - loss: 0.0044\n",
            "Epoch 183/2001/1 - 0s - loss: 0.0043\n",
            "Epoch 184/2001/1 - 0s - loss: 0.0043\n",
            "Epoch 185/2001/1 - 0s - loss: 0.0042\n",
            "Epoch 186/2001/1 - 0s - loss: 0.0042\n",
            "Epoch 187/2001/1 - 0s - loss: 0.0041\n",
            "Epoch 188/2001/1 - 0s - loss: 0.0041\n",
            "Epoch 189/2001/1 - 0s - loss: 0.0041\n",
            "Epoch 190/2001/1 - 0s - loss: 0.0040\n",
            "Epoch 191/2001/1 - 0s - loss: 0.0040\n",
            "Epoch 192/2001/1 - 0s - loss: 0.0039\n",
            "Epoch 193/2001/1 - 0s - loss: 0.0039\n",
            "Epoch 194/2001/1 - 0s - loss: 0.0038\n",
            "Epoch 195/2001/1 - 0s - loss: 0.0038\n",
            "Epoch 196/2001/1 - 0s - loss: 0.0038\n",
            "Epoch 197/2001/1 - 0s - loss: 0.0037\n",
            "Epoch 198/2001/1 - 0s - loss: 0.0037\n",
            "Epoch 199/2001/1 - 0s - loss: 0.0036\n",
            "Epoch 200/2001/1 - 0s - loss: 0.0036\n"
          ],
          "name": "stdout"
        }
      ]
    },
    {
      "cell_type": "code",
      "metadata": {
        "id": "jGR3N2VcZfr7",
        "colab_type": "code",
        "outputId": "9d5b2ec2-f1a7-47da-f2b0-8da426d0c560",
        "colab": {
          "base_uri": "https://localhost:8080/",
          "height": 35
        }
      },
      "source": [
        "print(prediction)"
      ],
      "execution_count": 11,
      "outputs": [
        {
          "output_type": "stream",
          "text": [
            "[4.016599]\n"
          ],
          "name": "stdout"
        }
      ]
    },
    {
      "cell_type": "markdown",
      "metadata": {
        "id": "s-6HHPNjA56z",
        "colab_type": "text"
      },
      "source": [
        "****************************************************************************************************"
      ]
    },
    {
      "cell_type": "markdown",
      "metadata": {
        "id": "zzDyOLrwGH3R",
        "colab_type": "text"
      },
      "source": [
        "# **3. Computer Vision - Fashion MNIST**"
      ]
    },
    {
      "cell_type": "code",
      "metadata": {
        "id": "vY4vUSYHGna9",
        "colab_type": "code",
        "colab": {}
      },
      "source": [
        "import tensorflow as tf"
      ],
      "execution_count": 0,
      "outputs": []
    },
    {
      "cell_type": "code",
      "metadata": {
        "id": "hNWh4VGbGRlh",
        "colab_type": "code",
        "colab": {}
      },
      "source": [
        "mnist = tf.keras.datasets.fashion_mnist"
      ],
      "execution_count": 0,
      "outputs": []
    },
    {
      "cell_type": "markdown",
      "metadata": {
        "id": "fOLJaqvmGtQi",
        "colab_type": "text"
      },
      "source": [
        "Calling load_data on this object will give you two sets of two lists, these will be the training and testing values for the graphics that contain the clothing items and their labels.\n"
      ]
    },
    {
      "cell_type": "code",
      "metadata": {
        "id": "NbQGsiZWGmT6",
        "colab_type": "code",
        "colab": {}
      },
      "source": [
        "(training_images, training_labels), (test_images, test_labels) = mnist.load_data()"
      ],
      "execution_count": 0,
      "outputs": []
    },
    {
      "cell_type": "markdown",
      "metadata": {
        "id": "uTvvYtQa7PvW",
        "colab_type": "text"
      },
      "source": [
        "## Representing the image\n",
        "Showing the grey scale image in an array\n",
        "You'll notice that all of the values in the number are between 0 and 255."
      ]
    },
    {
      "cell_type": "code",
      "metadata": {
        "id": "avzzc_djGwCh",
        "colab_type": "code",
        "outputId": "e1924533-9b68-4de8-9944-8c18eabfdc43",
        "colab": {
          "base_uri": "https://localhost:8080/",
          "height": 791
        }
      },
      "source": [
        "import numpy as np\n",
        "np.set_printoptions(linewidth=200)\n",
        "import matplotlib.pyplot as plt\n",
        "plt.imshow(training_images[0])\n",
        "print(training_labels[0])\n",
        "print(training_images[0])"
      ],
      "execution_count": 15,
      "outputs": [
        {
          "output_type": "stream",
          "text": [
            "9\n",
            "[[  0   0   0   0   0   0   0   0   0   0   0   0   0   0   0   0   0   0   0   0   0   0   0   0   0   0   0   0]\n",
            " [  0   0   0   0   0   0   0   0   0   0   0   0   0   0   0   0   0   0   0   0   0   0   0   0   0   0   0   0]\n",
            " [  0   0   0   0   0   0   0   0   0   0   0   0   0   0   0   0   0   0   0   0   0   0   0   0   0   0   0   0]\n",
            " [  0   0   0   0   0   0   0   0   0   0   0   0   1   0   0  13  73   0   0   1   4   0   0   0   0   1   1   0]\n",
            " [  0   0   0   0   0   0   0   0   0   0   0   0   3   0  36 136 127  62  54   0   0   0   1   3   4   0   0   3]\n",
            " [  0   0   0   0   0   0   0   0   0   0   0   0   6   0 102 204 176 134 144 123  23   0   0   0   0  12  10   0]\n",
            " [  0   0   0   0   0   0   0   0   0   0   0   0   0   0 155 236 207 178 107 156 161 109  64  23  77 130  72  15]\n",
            " [  0   0   0   0   0   0   0   0   0   0   0   1   0  69 207 223 218 216 216 163 127 121 122 146 141  88 172  66]\n",
            " [  0   0   0   0   0   0   0   0   0   1   1   1   0 200 232 232 233 229 223 223 215 213 164 127 123 196 229   0]\n",
            " [  0   0   0   0   0   0   0   0   0   0   0   0   0 183 225 216 223 228 235 227 224 222 224 221 223 245 173   0]\n",
            " [  0   0   0   0   0   0   0   0   0   0   0   0   0 193 228 218 213 198 180 212 210 211 213 223 220 243 202   0]\n",
            " [  0   0   0   0   0   0   0   0   0   1   3   0  12 219 220 212 218 192 169 227 208 218 224 212 226 197 209  52]\n",
            " [  0   0   0   0   0   0   0   0   0   0   6   0  99 244 222 220 218 203 198 221 215 213 222 220 245 119 167  56]\n",
            " [  0   0   0   0   0   0   0   0   0   4   0   0  55 236 228 230 228 240 232 213 218 223 234 217 217 209  92   0]\n",
            " [  0   0   1   4   6   7   2   0   0   0   0   0 237 226 217 223 222 219 222 221 216 223 229 215 218 255  77   0]\n",
            " [  0   3   0   0   0   0   0   0   0  62 145 204 228 207 213 221 218 208 211 218 224 223 219 215 224 244 159   0]\n",
            " [  0   0   0   0  18  44  82 107 189 228 220 222 217 226 200 205 211 230 224 234 176 188 250 248 233 238 215   0]\n",
            " [  0  57 187 208 224 221 224 208 204 214 208 209 200 159 245 193 206 223 255 255 221 234 221 211 220 232 246   0]\n",
            " [  3 202 228 224 221 211 211 214 205 205 205 220 240  80 150 255 229 221 188 154 191 210 204 209 222 228 225   0]\n",
            " [ 98 233 198 210 222 229 229 234 249 220 194 215 217 241  65  73 106 117 168 219 221 215 217 223 223 224 229  29]\n",
            " [ 75 204 212 204 193 205 211 225 216 185 197 206 198 213 240 195 227 245 239 223 218 212 209 222 220 221 230  67]\n",
            " [ 48 203 183 194 213 197 185 190 194 192 202 214 219 221 220 236 225 216 199 206 186 181 177 172 181 205 206 115]\n",
            " [  0 122 219 193 179 171 183 196 204 210 213 207 211 210 200 196 194 191 195 191 198 192 176 156 167 177 210  92]\n",
            " [  0   0  74 189 212 191 175 172 175 181 185 188 189 188 193 198 204 209 210 210 211 188 188 194 192 216 170   0]\n",
            " [  2   0   0   0  66 200 222 237 239 242 246 243 244 221 220 193 191 179 182 182 181 176 166 168  99  58   0   0]\n",
            " [  0   0   0   0   0   0   0  40  61  44  72  41  35   0   0   0   0   0   0   0   0   0   0   0   0   0   0   0]\n",
            " [  0   0   0   0   0   0   0   0   0   0   0   0   0   0   0   0   0   0   0   0   0   0   0   0   0   0   0   0]\n",
            " [  0   0   0   0   0   0   0   0   0   0   0   0   0   0   0   0   0   0   0   0   0   0   0   0   0   0   0   0]]\n"
          ],
          "name": "stdout"
        },
        {
          "output_type": "display_data",
          "data": {
            "image/png": "[encoded data removed]",
            "text/plain": [
              "<Figure size 432x288 with 1 Axes>"
            ]
          },
          "metadata": {
            "tags": [],
            "needs_background": "light"
          }
        }
      ]
    },
    {
      "cell_type": "markdown",
      "metadata": {
        "id": "N96yoQUb7vqY",
        "colab_type": "text"
      },
      "source": [
        "## Normalizing\n",
        "If we are training a neural network, for various reasons it's easier if we treat all values as between 0 and 1, a process called '**normalizing**'...and fortunately in Python it's easy to normalize a list like this without looping. You do it like this:"
      ]
    },
    {
      "cell_type": "code",
      "metadata": {
        "id": "kyRuYUseG4x5",
        "colab_type": "code",
        "colab": {}
      },
      "source": [
        "training_images  = training_images / 255.0\n",
        "test_images = test_images / 255.0"
      ],
      "execution_count": 0,
      "outputs": []
    },
    {
      "cell_type": "markdown",
      "metadata": {
        "id": "ls9RB4kx399d",
        "colab_type": "text"
      },
      "source": [
        "## Model \n",
        "\n",
        "**Sequential**: That defines a SEQUENCE of layers in the neural network\n",
        "\n",
        "**Flatten**: Remember earlier where our images were a square, when you printed them out? Flatten just takes that square and turns it into a 1 dimensional set.\n",
        "\n",
        "**Dense**: Adds a layer of neurons\n",
        "\n",
        "**activation function**: Each layer of neurons need an activation function to tell them what to do. There's lots of options, but just use these for now. \n",
        "\n",
        "**Relu**: effectively means \"If X>0 return X, else return 0\" -- so what it does it it only passes values 0 or greater to the next layer in the network.\n",
        "\n",
        "*Softmax* takes a set of values, and effectively picks the biggest one, so, for example, if the output of the last layer looks like [0.1, 0.1, 0.05, 0.1, 9.5, 0.1, 0.05, 0.05, 0.05], it saves you from fishing through it looking for the biggest value, and turns it into [0,0,0,0,1,0,0,0,0] -- The goal is to save a lot of coding!"
      ]
    },
    {
      "cell_type": "code",
      "metadata": {
        "id": "jAuBE0uMHGjB",
        "colab_type": "code",
        "colab": {}
      },
      "source": [
        "model = tf.keras.models.Sequential([tf.keras.layers.Flatten(), \n",
        "                                    tf.keras.layers.Dense(128, activation=tf.nn.relu), \n",
        "                                    tf.keras.layers.Dense(10, activation=tf.nn.softmax)])"
      ],
      "execution_count": 0,
      "outputs": []
    },
    {
      "cell_type": "markdown",
      "metadata": {
        "id": "VygO4zOK8xcw",
        "colab_type": "text"
      },
      "source": [
        "\n",
        "**Few Questions:**<br>\n",
        "1.Increase to 1024 Neurons -- What's the impact?\n",
        "By adding more Neurons we have to do more calculations, slowing down the process, but in this case they have a good impact -- we do get more accurate. That doesn't mean it's always a case of 'more is better', you can hit the law of diminishing returns very quickly!\n",
        "\n",
        "2.What would happen if you remove the Flatten() layer. Why do you think that's the case?\n",
        "\n",
        "You get an error about the shape of the data. It may seem vague right now, but it reinforces the rule of thumb that the first layer in your network should be the same shape as your data. Right now our data is 28x28 images, and 28 layers of 28 neurons would be infeasible, so it makes more sense to 'flatten' that 28,28 into a 784x1. Instead of wriitng all the code to handle that ourselves, we add the Flatten() layer at the begining, and when the arrays are loaded into the model later, they'll automatically be flattened for us.\n",
        "\n",
        "3.Consider the final (output) layers. Why are there 10 of them? What would happen if you had a different amount than 10? For example, try training the network with 5\n",
        "\n",
        "You get an error as soon as it finds an unexpected value. Another rule of thumb -- the number of neurons in the last layer should match the number of classes you are classifying for. In this case it's the digits 0-9, so there are 10 of them, hence you should have 10 neurons in your final layer.\n",
        "\n",
        "4.Consider the effects of additional layers in the network. What will happen if you add another layer between the one with 512 and the final layer with 10. \n",
        "\n",
        "Ans: There isn't a significant impact -- because this is relatively simple data. For far more complex data (including color images to be classified as flowers that you'll see in the next lesson), extra layers are often necessary.\n",
        "\n",
        "5.Consider the impact of training for more or less epochs. Why do you think that would be the case? \n",
        "\n",
        "Try 15 epochs -- you'll probably get a model with a much better loss than the one with 5\n",
        "Try 30 epochs -- you might see the loss value stops decreasing, and sometimes increases. This is a side effect of something called 'overfitting' which you can learn about [somewhere] and it's something you need to keep an eye out for when training neural networks. There's no point in wasting your time training if you aren't improving your loss, right! :)"
      ]
    },
    {
      "cell_type": "markdown",
      "metadata": {
        "id": "Yy1hybEFH3Zb",
        "colab_type": "text"
      },
      "source": [
        "## Custom Callbacks\n",
        "To handle the lot of things that are output while model is fitting labels to data, for that we can handle it using custom callback function.\n",
        "Also we can stop training our models after they reach some perticular accuracy"
      ]
    },
    {
      "cell_type": "code",
      "metadata": {
        "id": "riuZsW_fJNYO",
        "colab_type": "code",
        "colab": {}
      },
      "source": [
        "class CustomCallBack(tf.keras.callbacks.Callback):\n",
        "    def __init__(self, epochs):\n",
        "        self.epochs = epochs\n",
        "\n",
        "    def set_params(self, params):\n",
        "        params['epochs'] = 0\n",
        "\n",
        "    def on_epoch_begin(self, epoch, logs=None):\n",
        "        print('Epoch %d/%d' % (epoch + 1, self.epochs), end='')\n",
        "\n",
        "    def on_epoch_end(self, epoch, logs={}):\n",
        "        print(logs.get('accuracy'))\n",
        "        if(logs.get('accuracy')>0.92):\n",
        "          print(\"\\nReached 92% accuracy so cancelling training!\")\n",
        "          self.model.stop_training = True"
      ],
      "execution_count": 0,
      "outputs": []
    },
    {
      "cell_type": "markdown",
      "metadata": {
        "id": "KPscKj8z9Bku",
        "colab_type": "text"
      },
      "source": [
        "## Fit the model\n",
        "Figure out the relationship between the training data and its actual labels, so in future if you have data that looks like the training data, then it can make a prediction for what that data would look like. "
      ]
    },
    {
      "cell_type": "code",
      "metadata": {
        "id": "ukMNMhmfHK3i",
        "colab_type": "code",
        "outputId": "ca449480-89ff-4ee0-80c5-b45324217048",
        "colab": {
          "base_uri": "https://localhost:8080/",
          "height": 580
        }
      },
      "source": [
        "model.compile(optimizer = tf.optimizers.Adam(),\n",
        "              loss = 'sparse_categorical_crossentropy',\n",
        "              metrics=['accuracy'])\n",
        "model.fit(training_images, training_labels, epochs=50, verbose=2, callbacks=[CustomCallBack(50)])"
      ],
      "execution_count": 19,
      "outputs": [
        {
          "output_type": "stream",
          "text": [
            "Epoch 1/500.8237333297729492\n",
            "1875/1875 - 3s - loss: 0.5008 - accuracy: 0.8237\n",
            "Epoch 2/500.8617833256721497\n",
            "1875/1875 - 3s - loss: 0.3814 - accuracy: 0.8618\n",
            "Epoch 3/500.8761833310127258\n",
            "1875/1875 - 3s - loss: 0.3428 - accuracy: 0.8762\n",
            "Epoch 4/500.883400022983551\n",
            "1875/1875 - 3s - loss: 0.3174 - accuracy: 0.8834\n",
            "Epoch 5/500.8897500038146973\n",
            "1875/1875 - 3s - loss: 0.2988 - accuracy: 0.8898\n",
            "Epoch 6/500.8942166566848755\n",
            "1875/1875 - 3s - loss: 0.2825 - accuracy: 0.8942\n",
            "Epoch 7/500.8996166586875916\n",
            "1875/1875 - 3s - loss: 0.2711 - accuracy: 0.8996\n",
            "Epoch 8/500.9015499949455261\n",
            "1875/1875 - 3s - loss: 0.2602 - accuracy: 0.9015\n",
            "Epoch 9/500.9073833227157593\n",
            "1875/1875 - 3s - loss: 0.2482 - accuracy: 0.9074\n",
            "Epoch 10/500.9093166589736938\n",
            "1875/1875 - 3s - loss: 0.2414 - accuracy: 0.9093\n",
            "Epoch 11/500.9121166467666626\n",
            "1875/1875 - 3s - loss: 0.2340 - accuracy: 0.9121\n",
            "Epoch 12/500.9156000018119812\n",
            "1875/1875 - 3s - loss: 0.2253 - accuracy: 0.9156\n",
            "Epoch 13/500.9179499745368958\n",
            "1875/1875 - 3s - loss: 0.2179 - accuracy: 0.9179\n",
            "Epoch 14/500.9201333522796631\n",
            "\n",
            "Reached 92% accuracy so cancelling training!\n",
            "1875/1875 - 3s - loss: 0.2135 - accuracy: 0.9201\n"
          ],
          "name": "stdout"
        },
        {
          "output_type": "execute_result",
          "data": {
            "text/plain": [
              "<tensorflow.python.keras.callbacks.History at 0x7fd1b01f4240>"
            ]
          },
          "metadata": {
            "tags": []
          },
          "execution_count": 19
        }
      ]
    },
    {
      "cell_type": "markdown",
      "metadata": {
        "id": "O8cljX7xILmr",
        "colab_type": "text"
      },
      "source": [
        "## Evaluate\n",
        "Once it's done training -- you should see an accuracy value at the end of the final epoch. It might look something like 0.89. This tells you that your neural network is about 89% accurate in classifying the training data. I.E., it figured out a pattern match between the image and the labels that worked 91% of the time. Not great, but not bad considering it was only trained for 5 epochs and done quite quickly.\n",
        "\n",
        "But how would it work with unseen data? That's why we have the test images. We can call model.evaluate, and pass in the two sets, and it will report back the loss for each. Let's give it a try:"
      ]
    },
    {
      "cell_type": "code",
      "metadata": {
        "id": "skQBc1S3H5th",
        "colab_type": "code",
        "outputId": "3106cc2a-546b-4875-fd8d-b760d80f1c0b",
        "colab": {
          "base_uri": "https://localhost:8080/",
          "height": 54
        }
      },
      "source": [
        "model.evaluate(test_images, test_labels)"
      ],
      "execution_count": 20,
      "outputs": [
        {
          "output_type": "stream",
          "text": [
            "313/313 [==============================] - 0s 2ms/step - loss: 0.3319 - accuracy: 0.8874\n"
          ],
          "name": "stdout"
        },
        {
          "output_type": "execute_result",
          "data": {
            "text/plain": [
              "[0.33189547061920166, 0.8873999714851379]"
            ]
          },
          "metadata": {
            "tags": []
          },
          "execution_count": 20
        }
      ]
    },
    {
      "cell_type": "code",
      "metadata": {
        "id": "tg46kl-GITkp",
        "colab_type": "code",
        "outputId": "01e7a111-b5ab-4b15-a881-fa963e64b523",
        "colab": {
          "base_uri": "https://localhost:8080/",
          "height": 35
        }
      },
      "source": [
        "classifications = model.predict(test_images)\n",
        "\n",
        "print(classifications[0])"
      ],
      "execution_count": 21,
      "outputs": [
        {
          "output_type": "stream",
          "text": [
            "[7.7376819e-07 2.8314386e-08 2.3449859e-07 5.0632789e-06 3.2505232e-06 2.1666738e-03 1.1254042e-04 3.4810893e-02 3.6766712e-06 9.6289682e-01]\n"
          ],
          "name": "stdout"
        }
      ]
    },
    {
      "cell_type": "markdown",
      "metadata": {
        "id": "7yl2pKGv28s2",
        "colab_type": "text"
      },
      "source": [
        "The output of the model is a list of 10 numbers. These numbers are a probability that the value being classified is the corresponding value, i.e. the first value in the list is the probability that the handwriting is of a '0', the next is a '1' etc. Notice that they are all VERY LOW probabilities.\n"
      ]
    },
    {
      "cell_type": "code",
      "metadata": {
        "id": "wP2F-aLQNqWa",
        "colab_type": "code",
        "outputId": "e9fc0c16-fa05-454d-9e04-054bf811c2c7",
        "colab": {
          "base_uri": "https://localhost:8080/",
          "height": 35
        }
      },
      "source": [
        "print(test_labels[0])"
      ],
      "execution_count": 22,
      "outputs": [
        {
          "output_type": "stream",
          "text": [
            "9\n"
          ],
          "name": "stdout"
        }
      ]
    },
    {
      "cell_type": "markdown",
      "metadata": {
        "id": "uEw4Vfru3ClN",
        "colab_type": "text"
      },
      "source": [
        "Both the list and the labels are 0 based, so the ankle boot having label 9 means that it is the 10th of the 10 classes. The list having the 10th element being the highest value means that the Neural Network has predicted that the item it is classifying is most likely an ankle boot"
      ]
    },
    {
      "cell_type": "markdown",
      "metadata": {
        "id": "wufQTdnoUuos",
        "colab_type": "text"
      },
      "source": [
        "*********************************************************************************************"
      ]
    },
    {
      "cell_type": "markdown",
      "metadata": {
        "id": "Xo-4kyZ5N8yS",
        "colab_type": "text"
      },
      "source": [
        "# **4. Computer Vision - Handwritten Digits MNIST**\n",
        "Write an MNIST classifier that trains to 99% accuracy or above, and does it without a fixed number of epochs -- i.e. you should stop training once you reach that level of accuracy.\n",
        "\n",
        "Some notes:\n",
        "1. It should succeed in less than 10 epochs, so it is okay to change epochs= to 10, but nothing larger\n",
        "2. When it reaches 99% or greater it should print out the string \"Reached 99% accuracy so cancelling training!\"\n",
        "3. If you add any additional variables, make sure you use the same names as the ones used in the class\n",
        "\n",
        "I've started the code for you below -- how would you finish it? "
      ]
    },
    {
      "cell_type": "code",
      "metadata": {
        "id": "bfuWf6ziN6yb",
        "colab_type": "code",
        "colab": {}
      },
      "source": [
        "import tensorflow as tf\n",
        "from os import path, getcwd, chdir"
      ],
      "execution_count": 0,
      "outputs": []
    },
    {
      "cell_type": "code",
      "metadata": {
        "id": "TsqF4cVQOtXc",
        "colab_type": "code",
        "outputId": "bf92be31-6e66-47e1-a8f0-6b50e396d88d",
        "colab": {
          "base_uri": "https://localhost:8080/",
          "height": 937
        }
      },
      "source": [
        "mnist = tf.keras.datasets.mnist\n",
        "(x_train, y_train), (x_test, y_test) = mnist.load_data()\n",
        "\n",
        "print(\"Number of unique labels: \", len(np.unique(y_train)))\n",
        "print(\"\\nLabel: \", y_train[0])\n",
        "print(\"\\nImage array:\\n\", x_train[0])\n",
        "\n",
        "print(\"\\n Actual  Image:\")\n",
        "import numpy as np\n",
        "np.set_printoptions(linewidth=200)\n",
        "import matplotlib.pyplot as plt\n",
        "plt.imshow(x_train[0]);"
      ],
      "execution_count": 24,
      "outputs": [
        {
          "output_type": "stream",
          "text": [
            "Downloading data from https://storage.googleapis.com/tensorflow/tf-keras-datasets/mnist.npz\n",
            "11493376/11490434 [==============================] - 0s 0us/step\n",
            "Number of unique labels:  10\n",
            "\n",
            "Label:  5\n",
            "\n",
            "Image array:\n",
            " [[  0   0   0   0   0   0   0   0   0   0   0   0   0   0   0   0   0   0   0   0   0   0   0   0   0   0   0   0]\n",
            " [  0   0   0   0   0   0   0   0   0   0   0   0   0   0   0   0   0   0   0   0   0   0   0   0   0   0   0   0]\n",
            " [  0   0   0   0   0   0   0   0   0   0   0   0   0   0   0   0   0   0   0   0   0   0   0   0   0   0   0   0]\n",
            " [  0   0   0   0   0   0   0   0   0   0   0   0   0   0   0   0   0   0   0   0   0   0   0   0   0   0   0   0]\n",
            " [  0   0   0   0   0   0   0   0   0   0   0   0   0   0   0   0   0   0   0   0   0   0   0   0   0   0   0   0]\n",
            " [  0   0   0   0   0   0   0   0   0   0   0   0   3  18  18  18 126 136 175  26 166 255 247 127   0   0   0   0]\n",
            " [  0   0   0   0   0   0   0   0  30  36  94 154 170 253 253 253 253 253 225 172 253 242 195  64   0   0   0   0]\n",
            " [  0   0   0   0   0   0   0  49 238 253 253 253 253 253 253 253 253 251  93  82  82  56  39   0   0   0   0   0]\n",
            " [  0   0   0   0   0   0   0  18 219 253 253 253 253 253 198 182 247 241   0   0   0   0   0   0   0   0   0   0]\n",
            " [  0   0   0   0   0   0   0   0  80 156 107 253 253 205  11   0  43 154   0   0   0   0   0   0   0   0   0   0]\n",
            " [  0   0   0   0   0   0   0   0   0  14   1 154 253  90   0   0   0   0   0   0   0   0   0   0   0   0   0   0]\n",
            " [  0   0   0   0   0   0   0   0   0   0   0 139 253 190   2   0   0   0   0   0   0   0   0   0   0   0   0   0]\n",
            " [  0   0   0   0   0   0   0   0   0   0   0  11 190 253  70   0   0   0   0   0   0   0   0   0   0   0   0   0]\n",
            " [  0   0   0   0   0   0   0   0   0   0   0   0  35 241 225 160 108   1   0   0   0   0   0   0   0   0   0   0]\n",
            " [  0   0   0   0   0   0   0   0   0   0   0   0   0  81 240 253 253 119  25   0   0   0   0   0   0   0   0   0]\n",
            " [  0   0   0   0   0   0   0   0   0   0   0   0   0   0  45 186 253 253 150  27   0   0   0   0   0   0   0   0]\n",
            " [  0   0   0   0   0   0   0   0   0   0   0   0   0   0   0  16  93 252 253 187   0   0   0   0   0   0   0   0]\n",
            " [  0   0   0   0   0   0   0   0   0   0   0   0   0   0   0   0   0 249 253 249  64   0   0   0   0   0   0   0]\n",
            " [  0   0   0   0   0   0   0   0   0   0   0   0   0   0  46 130 183 253 253 207   2   0   0   0   0   0   0   0]\n",
            " [  0   0   0   0   0   0   0   0   0   0   0   0  39 148 229 253 253 253 250 182   0   0   0   0   0   0   0   0]\n",
            " [  0   0   0   0   0   0   0   0   0   0  24 114 221 253 253 253 253 201  78   0   0   0   0   0   0   0   0   0]\n",
            " [  0   0   0   0   0   0   0   0  23  66 213 253 253 253 253 198  81   2   0   0   0   0   0   0   0   0   0   0]\n",
            " [  0   0   0   0   0   0  18 171 219 253 253 253 253 195  80   9   0   0   0   0   0   0   0   0   0   0   0   0]\n",
            " [  0   0   0   0  55 172 226 253 253 253 253 244 133  11   0   0   0   0   0   0   0   0   0   0   0   0   0   0]\n",
            " [  0   0   0   0 136 253 253 253 212 135 132  16   0   0   0   0   0   0   0   0   0   0   0   0   0   0   0   0]\n",
            " [  0   0   0   0   0   0   0   0   0   0   0   0   0   0   0   0   0   0   0   0   0   0   0   0   0   0   0   0]\n",
            " [  0   0   0   0   0   0   0   0   0   0   0   0   0   0   0   0   0   0   0   0   0   0   0   0   0   0   0   0]\n",
            " [  0   0   0   0   0   0   0   0   0   0   0   0   0   0   0   0   0   0   0   0   0   0   0   0   0   0   0   0]]\n",
            "\n",
            " Actual  Image:\n"
          ],
          "name": "stdout"
        },
        {
          "output_type": "display_data",
          "data": {
            "image/png": "[encoded data removed]",
            "text/plain": [
              "<Figure size 432x288 with 1 Axes>"
            ]
          },
          "metadata": {
            "tags": [],
            "needs_background": "light"
          }
        }
      ]
    },
    {
      "cell_type": "code",
      "metadata": {
        "id": "7lpI5qRxOIv9",
        "colab_type": "code",
        "colab": {}
      },
      "source": [
        "def train_mnist():\n",
        "\n",
        "    class CustomCallBack(tf.keras.callbacks.Callback):\n",
        "        def on_epoch_end(self, epoch, logs={}):\n",
        "            print(logs.get('accuracy'))               # To note: in some envs we use 'acc' instead of 'accuracy'\n",
        "            if(logs.get('accuracy')>0.99):\n",
        "                print(\"\\nReached 99% accuracy so cancelling training!\")\n",
        "                self.model.stop_training = True\n",
        "\n",
        "    mnist = tf.keras.datasets.mnist\n",
        "\n",
        "    (x_train, y_train),(x_test, y_test) = mnist.load_data()\n",
        "\n",
        "    x_train = x_train/255\n",
        "    x_test = x_test/255                               # To note: we normalize image data not the image labels\n",
        "    \n",
        "    model = tf.keras.models.Sequential([\n",
        "    tf.keras.layers.Flatten(),\n",
        "    tf.keras.layers.Dense(512,activation=tf.nn.relu),\n",
        "    tf.keras.layers.Dense(10,activation=tf.nn.softmax)\n",
        "    ])\n",
        "\n",
        "    model.compile(optimizer='adam',\n",
        "                  loss='sparse_categorical_crossentropy',\n",
        "                  metrics=['accuracy'])\n",
        "    # model fitting\n",
        "    history = model.fit(x_train, y_train, epochs=10, callbacks=[CustomCallBack()])\n",
        "    print(\"\\n Evaluated Scores: [loss, accuracy]\", model.evaluate(x_test, y_test))\n",
        "    # model fitting\n",
        "    return history.history['accuracy'][-1]"
      ],
      "execution_count": 0,
      "outputs": []
    },
    {
      "cell_type": "code",
      "metadata": {
        "id": "bv9dBv3MONfe",
        "colab_type": "code",
        "outputId": "6d048cf4-640e-4859-90d8-9ef446c184bc",
        "colab": {
          "base_uri": "https://localhost:8080/",
          "height": 399
        }
      },
      "source": [
        "train_mnist()"
      ],
      "execution_count": 26,
      "outputs": [
        {
          "output_type": "stream",
          "text": [
            "Epoch 1/10\n",
            "1851/1875 [============================>.] - ETA: 0s - loss: 0.2000 - accuracy: 0.94230.9426833391189575\n",
            "1875/1875 [==============================] - 3s 2ms/step - loss: 0.1986 - accuracy: 0.9427\n",
            "Epoch 2/10\n",
            "1850/1875 [============================>.] - ETA: 0s - loss: 0.0801 - accuracy: 0.97600.9760833382606506\n",
            "1875/1875 [==============================] - 3s 2ms/step - loss: 0.0798 - accuracy: 0.9761\n",
            "Epoch 3/10\n",
            "1845/1875 [============================>.] - ETA: 0s - loss: 0.0525 - accuracy: 0.98380.9837166666984558\n",
            "1875/1875 [==============================] - 3s 2ms/step - loss: 0.0527 - accuracy: 0.9837\n",
            "Epoch 4/10\n",
            "1847/1875 [============================>.] - ETA: 0s - loss: 0.0363 - accuracy: 0.98860.9884999990463257\n",
            "1875/1875 [==============================] - 3s 2ms/step - loss: 0.0364 - accuracy: 0.9885\n",
            "Epoch 5/10\n",
            "1863/1875 [============================>.] - ETA: 0s - loss: 0.0269 - accuracy: 0.99110.9910500049591064\n",
            "\n",
            "Reached 99% accuracy so cancelling training!\n",
            "1875/1875 [==============================] - 3s 2ms/step - loss: 0.0270 - accuracy: 0.9911\n",
            "313/313 [==============================] - 0s 2ms/step - loss: 0.0681 - accuracy: 0.9803\n",
            "\n",
            " Evaluated Scores: [loss, accuracy] [0.06812041997909546, 0.9803000092506409]\n"
          ],
          "name": "stdout"
        },
        {
          "output_type": "execute_result",
          "data": {
            "text/plain": [
              "0.9910500049591064"
            ]
          },
          "metadata": {
            "tags": []
          },
          "execution_count": 26
        }
      ]
    },
    {
      "cell_type": "markdown",
      "metadata": {
        "id": "65a5KHquVEU3",
        "colab_type": "text"
      },
      "source": [
        "# **5. Convolutional Neral Network**\n"
      ]
    },
    {
      "cell_type": "markdown",
      "metadata": {
        "id": "uDPDp-l43lvL",
        "colab_type": "text"
      },
      "source": [
        "How do you make that accuracy better? One way is to use something called Convolutions.\n",
        "\n",
        "If you've ever done image processing using a filter (like this: https://en.wikipedia.org/wiki/Kernel_(image_processing)) then convolutions will look very familiar.\n",
        "\n",
        "In short, you take an array (usually 3x3 or 5x5) and pass it over the image. By changing the underlying pixels based on the formula within that matrix, you can do things like edge detection. So, for example, if you look at the above link, you'll see a 3x3 that is defined for edge detection where the middle cell is 8, and all of its neighbors are -1. In this case, for each pixel, you would multiply its value by 8, then subtract the value of each neighbor. Do this for every pixel, and you'll end up with a new image that has the edges enhanced.\n",
        "\n",
        "This is perfect for computer vision, because often it's features that can get highlighted like this that distinguish one item for another, and the amount of information needed is then much less...because you'll just train on the highlighted features.\n",
        "\n",
        "That's the concept of Convolutional Neural Networks. Add some layers to do convolution before you have the dense layers, and then the information going to the dense layers is more focussed, and possibly more accurate.\n",
        "\n",
        "Run the below code -- this is the same neural network as earlier, but this time with Convolutional layers added first. It will take longer, but look at the impact on the accuracy:"
      ]
    },
    {
      "cell_type": "markdown",
      "metadata": {
        "id": "9sBWoTUz6ruQ",
        "colab_type": "text"
      },
      "source": [
        "## Example for CNN\n",
        "Convolution is the process of adding each element of the image to its local neighbors, weighted by the kernel."
      ]
    },
    {
      "cell_type": "code",
      "metadata": {
        "id": "bt39OlEEVEHB",
        "colab_type": "code",
        "colab": {
          "base_uri": "https://localhost:8080/",
          "height": 635
        },
        "outputId": "8486c82e-ea81-428a-e0c1-b6ba779c6c01"
      },
      "source": [
        "import tensorflow as tf\n",
        "print(tf.__version__)\n",
        "mnist = tf.keras.datasets.fashion_mnist\n",
        "(training_images, training_labels), (test_images, test_labels) = mnist.load_data()\n",
        "training_images=training_images.reshape(60000, 28, 28, 1) # convolution expects a single tensor containing everything, so instead of 60,000 28x28x1 items in a list, we have a single 4D list that is 60,000x28x28x1, and the same for the test images. If you don't do this, you'll get an error when training as the Convolutions do not recognize the shape. \n",
        "training_images=training_images / 255.0\n",
        "test_images = test_images.reshape(10000, 28, 28, 1)       # convolution expects a single tensor containing everything, so instead of 60,000 28x28x1 items in a list, we have a single 4D list that is 60,000x28x28x1, and the same for the test images. If you don't do this, you'll get an error when training as the Convolutions do not recognize the shape. \n",
        "test_images=test_images/255.0\n",
        "model = tf.keras.models.Sequential([\n",
        "  tf.keras.layers.Conv2D(64, (3,3), activation='relu', input_shape=(28, 28, 1)),\n",
        "  tf.keras.layers.MaxPooling2D(2, 2),\n",
        "  tf.keras.layers.Conv2D(64, (3,3), activation='relu'),\n",
        "  tf.keras.layers.MaxPooling2D(2,2),\n",
        "  tf.keras.layers.Flatten(),\n",
        "  tf.keras.layers.Dense(128, activation='relu'),\n",
        "  tf.keras.layers.Dense(10, activation='softmax')\n",
        "])\n",
        "model.compile(optimizer='adam', loss='sparse_categorical_crossentropy', metrics=['accuracy'])\n",
        "model.summary()\n",
        "model.fit(training_images, training_labels, epochs=5)\n",
        "test_loss = model.evaluate(test_images, test_labels)\n"
      ],
      "execution_count": 27,
      "outputs": [
        {
          "output_type": "stream",
          "text": [
            "2.2.0-rc4\n",
            "Model: \"sequential_4\"\n",
            "_________________________________________________________________\n",
            "Layer (type)                 Output Shape              Param #   \n",
            "=================================================================\n",
            "conv2d (Conv2D)              (None, 26, 26, 64)        640       \n",
            "_________________________________________________________________\n",
            "max_pooling2d (MaxPooling2D) (None, 13, 13, 64)        0         \n",
            "_________________________________________________________________\n",
            "conv2d_1 (Conv2D)            (None, 11, 11, 64)        36928     \n",
            "_________________________________________________________________\n",
            "max_pooling2d_1 (MaxPooling2 (None, 5, 5, 64)          0         \n",
            "_________________________________________________________________\n",
            "flatten_2 (Flatten)          (None, 1600)              0         \n",
            "_________________________________________________________________\n",
            "dense_6 (Dense)              (None, 128)               204928    \n",
            "_________________________________________________________________\n",
            "dense_7 (Dense)              (None, 10)                1290      \n",
            "=================================================================\n",
            "Total params: 243,786\n",
            "Trainable params: 243,786\n",
            "Non-trainable params: 0\n",
            "_________________________________________________________________\n",
            "Epoch 1/5\n",
            "1875/1875 [==============================] - 4s 2ms/step - loss: 0.4324 - accuracy: 0.8412\n",
            "Epoch 2/5\n",
            "1875/1875 [==============================] - 4s 2ms/step - loss: 0.2919 - accuracy: 0.8926\n",
            "Epoch 3/5\n",
            "1875/1875 [==============================] - 4s 2ms/step - loss: 0.2468 - accuracy: 0.9086\n",
            "Epoch 4/5\n",
            "1875/1875 [==============================] - 4s 2ms/step - loss: 0.2141 - accuracy: 0.9206\n",
            "Epoch 5/5\n",
            "1875/1875 [==============================] - 4s 2ms/step - loss: 0.1871 - accuracy: 0.9300\n",
            "313/313 [==============================] - 1s 2ms/step - loss: 0.2636 - accuracy: 0.9057\n"
          ],
          "name": "stdout"
        }
      ]
    },
    {
      "cell_type": "markdown",
      "metadata": {
        "id": "IzWH_d8657b8",
        "colab_type": "text"
      },
      "source": [
        "Now instead of the input layer at the top, you're going to add a Convolution. The parameters are:\n",
        "\n",
        "1. The number of convolutions you want to generate. Purely arbitrary, but good to start with something in the order of 32\n",
        "2. The size of the Convolution, in this case a 3x3 grid\n",
        "3. The activation function to use -- in this case we'll use relu, which you might recall is the equivalent of returning x when x>0, else returning 0\n",
        "4. In the first layer, the shape of the input data.\n",
        "\n",
        "You'll follow the Convolution with a MaxPooling layer which is then designed to compress the image, while maintaining the content of the features that were highlighted by the convlution. By specifying (2,2) for the MaxPooling, the effect is to quarter the size of the image. Without going into too much detail here, the idea is that it creates a 2x2 array of pixels, and picks the biggest one, thus turning 4 pixels into 1. It repeats this across the image, and in so doing halves the number of horizontal, and halves the number of vertical pixels, effectively reducing the image by 25%.\n",
        "\n",
        "You can call model.summary() to see the size and shape of the network, and you'll notice that after every MaxPooling layer, the image size is reduced in this way. \n",
        "\n",
        "Then add another convolution.\n",
        "\n",
        "Now flatten the output. After this you'll just have the same DNN (Deep Nueral Network) structure as the non convolutional version.\n",
        "\n",
        "TRY:\n",
        "\n",
        "1. Try editing the convolutions. Change the 32s to either 16 or 64. What impact will this have on accuracy and/or training time.\n",
        "\n",
        "2. Remove the final Convolution. What impact will this have on accuracy or training time?\n",
        "\n",
        "3. How about adding more Convolutions? What impact do you think this will have? Experiment with it.\n",
        "\n",
        "4. Remove all Convolutions but the first. What impact do you think this will have? Experiment with it. \n",
        "\n",
        "5. In the previous lesson you implemented a callback to check on the loss function and to cancel training once it hit a certain amount. See if you can implement that here!\n",
        "\n"
      ]
    },
    {
      "cell_type": "markdown",
      "metadata": {
        "id": "GI9Wp1f76xg8",
        "colab_type": "text"
      },
      "source": [
        "## Visualize CNN"
      ]
    },
    {
      "cell_type": "markdown",
      "metadata": {
        "id": "ap8CoSgF64S5",
        "colab_type": "text"
      },
      "source": [
        "This code will show us the convolutions graphically. The print (test_labels[;100]) shows us the first 100 labels in the test set, and you can see that the ones at index 0, index 23 and index 28 are all the same value (9). They're all shoes. Let's take a look at the result of running the convolution on each, and you'll begin to see common features between them emerge. Now, when the DNN is training on that data, it's working with a lot less, and it's perhaps finding a commonality between shoes based on this convolution/pooling combination."
      ]
    },
    {
      "cell_type": "code",
      "metadata": {
        "id": "6PUpriuA4OzT",
        "colab_type": "code",
        "colab": {
          "base_uri": "https://localhost:8080/",
          "height": 74
        },
        "outputId": "f5d7de52-a07f-4bb0-dc92-3e1a6c542bad"
      },
      "source": [
        "print(test_labels[:100])"
      ],
      "execution_count": 28,
      "outputs": [
        {
          "output_type": "stream",
          "text": [
            "[9 2 1 1 6 1 4 6 5 7 4 5 7 3 4 1 2 4 8 0 2 5 7 9 1 4 6 0 9 3 8 8 3 3 8 0 7 5 7 9 6 1 3 7 6 7 2 1 2 2 4 4 5 8 2 2 8 4 8 0 7 7 8 5 1 1 2 3 9 8 7 0 2 6 2 3 1 2 8 4 1 8 5 9 5 0 3 2 0 6 5 3 6 7 1 8 0 1 4\n",
            " 2]\n"
          ],
          "name": "stdout"
        }
      ]
    },
    {
      "cell_type": "code",
      "metadata": {
        "id": "tS12QTVw6-Ll",
        "colab_type": "code",
        "colab": {
          "base_uri": "https://localhost:8080/",
          "height": 268
        },
        "outputId": "dbd96f56-8e6a-44f2-82a9-c3673f96d0f8"
      },
      "source": [
        "import matplotlib.pyplot as plt\n",
        "f, axarr = plt.subplots(3,4)\n",
        "FIRST_IMAGE=1\n",
        "SECOND_IMAGE=7\n",
        "THIRD_IMAGE=26\n",
        "CONVOLUTION_NUMBER = 32\n",
        "from tensorflow.keras import models\n",
        "layer_outputs = [layer.output for layer in model.layers]\n",
        "activation_model = tf.keras.models.Model(inputs = model.input, outputs = layer_outputs)\n",
        "for x in range(0,4):\n",
        "  f1 = activation_model.predict(test_images[FIRST_IMAGE].reshape(1, 28, 28, 1))[x]\n",
        "  axarr[0,x].imshow(f1[0, : , :, CONVOLUTION_NUMBER], cmap='inferno')\n",
        "  axarr[0,x].grid(False)\n",
        "  f2 = activation_model.predict(test_images[SECOND_IMAGE].reshape(1, 28, 28, 1))[x]\n",
        "  axarr[1,x].imshow(f2[0, : , :, CONVOLUTION_NUMBER], cmap='inferno')\n",
        "  axarr[1,x].grid(False)\n",
        "  f3 = activation_model.predict(test_images[THIRD_IMAGE].reshape(1, 28, 28, 1))[x]\n",
        "  axarr[2,x].imshow(f3[0, : , :, CONVOLUTION_NUMBER], cmap='inferno')\n",
        "  axarr[2,x].grid(False)"
      ],
      "execution_count": 29,
      "outputs": [
        {
          "output_type": "display_data",
          "data": {
            "image/png": "[encoded data removed]",
            "text/plain": [
              "<Figure size 432x288 with 12 Axes>"
            ]
          },
          "metadata": {
            "tags": [],
            "needs_background": "light"
          }
        }
      ]
    }
  ]
}