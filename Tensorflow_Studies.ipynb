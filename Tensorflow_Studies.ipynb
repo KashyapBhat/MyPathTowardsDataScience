{
  "nbformat": 4,
  "nbformat_minor": 0,
  "metadata": {
    "colab": {
      "name": "Tensorflow Studies.ipynb",
      "provenance": [],
      "collapsed_sections": [],
      "toc_visible": true,
      "authorship_tag": "ABX9TyO4rSA2kWsEqnPlYY7sigSm",
      "include_colab_link": true
    },
    "kernelspec": {
      "name": "python3",
      "display_name": "Python 3"
    }
  },
  "cells": [
    {
      "cell_type": "markdown",
      "metadata": {
        "id": "view-in-github",
        "colab_type": "text"
      },
      "source": [
        "<a href=\"https://colab.research.google.com/github/KashyapBhat/MyPathTowardsMachineLearning/blob/master/Tensorflow_Studies.ipynb\" target=\"_parent\"><img src=\"https://colab.research.google.com/assets/colab-badge.svg\" alt=\"Open In Colab\"/></a>"
      ]
    },
    {
      "cell_type": "markdown",
      "metadata": {
        "id": "zirikWJ7SPN7",
        "colab_type": "text"
      },
      "source": [
        "# Tensorflow"
      ]
    },
    {
      "cell_type": "markdown",
      "metadata": {
        "id": "lEAmV4MaSF6r",
        "colab_type": "text"
      },
      "source": [
        "### Why Machine Learning\n",
        "\n",
        "Like every first app you should start with something super simple that shows the overall scaffolding for how your code works. \n",
        "\n",
        "In the case of creating neural networks, the sample I like to use is one where it learns the relationship between two numbers. So, for example, if you were writing code for a function like this, you already know the 'rules' — \n",
        "\n",
        "\n",
        "```\n",
        "float hw_function(float x){\n",
        "    float y = (2 * x) - 1;\n",
        "    return y;\n",
        "}\n",
        "```\n",
        "\n",
        "So how would you train a neural network to do the equivalent task? Using data! By feeding it with a set of Xs, and a set of Ys, it should be able to figure out the relationship between them. \n",
        "\n",
        "This is obviously a very different paradigm than what you might be used to, so let's step through it piece by piece.\n"
      ]
    },
    {
      "cell_type": "markdown",
      "metadata": {
        "id": "MciqCYe3VANJ",
        "colab_type": "text"
      },
      "source": [
        "****************************************************************************************************"
      ]
    },
    {
      "cell_type": "markdown",
      "metadata": {
        "id": "GKXHnXytUOLm",
        "colab_type": "text"
      },
      "source": [
        "# **1. Simple example problem using tf**"
      ]
    },
    {
      "cell_type": "markdown",
      "metadata": {
        "id": "fupjr1XcTlVn",
        "colab_type": "text"
      },
      "source": [
        "### Lets get started\n",
        "We then import a library called numpy, which helps us to represent our data as lists easily and quickly.\n",
        "The framework for defining a neural network as a set of Sequential layers is called keras, so we import that too."
      ]
    },
    {
      "cell_type": "code",
      "metadata": {
        "id": "HhDGUezBSIAD",
        "colab_type": "code",
        "colab": {}
      },
      "source": [
        "\n",
        "\n",
        "import tensorflow as tf\n",
        "import numpy as np\n",
        "from tensorflow import keras"
      ],
      "execution_count": 0,
      "outputs": []
    },
    {
      "cell_type": "markdown",
      "metadata": {
        "id": "iY4rL3vUSevH",
        "colab_type": "text"
      },
      "source": [
        "### Define the Neural Network\n",
        "\n",
        "Next we will create the simplest possible neural network. It has 1 layer, and that layer has 1 neuron, and the input shape to it is just 1 value.\n"
      ]
    },
    {
      "cell_type": "code",
      "metadata": {
        "id": "7ccen0XQSbuz",
        "colab_type": "code",
        "colab": {}
      },
      "source": [
        "model = tf.keras.Sequential([keras.layers.Dense(units=1, input_shape=[1])])"
      ],
      "execution_count": 0,
      "outputs": []
    },
    {
      "cell_type": "markdown",
      "metadata": {
        "id": "-9U5TWZSS7-e",
        "colab_type": "text"
      },
      "source": [
        "### Compile the Neural Network\n",
        "\n",
        "Now we compile our Neural Network. When we do so, we have to specify 2 functions, a loss and an optimizer.\n",
        "\n",
        "If you've seen lots of math for machine learning, here's where it's usually used, but in this case it's nicely encapsulated in functions for you. But what happens here — let's explain...\n",
        "\n",
        "We know that in our function, the relationship between the numbers is y=2x-1. \n",
        "\n",
        "When the computer is trying to 'learn' that, it makes a guess...maybe y=10x+10. The LOSS function measures the guessed answers against the known correct answers and measures how well or how badly it did.\n",
        "\n",
        "It then uses the OPTIMIZER function to make another guess. Based on how the loss function went, it will try to minimize the loss. At that point maybe it will come up with somehting like y=5x+5, which, while still pretty bad, is closer to the correct result (i.e. the loss is lower)\n",
        "\n",
        "It will repeat this for the number of EPOCHS which you will see shortly. But first, here's how we tell it to use 'MEAN SQUARED ERROR' for the loss and 'STOCHASTIC GRADIENT DESCENT' for the optimizer. You don't need to understand the math for these yet, but you can see that they work! :)\n",
        "\n",
        "Over time you will learn the different and appropriate loss and optimizer functions for different scenarios. \n"
      ]
    },
    {
      "cell_type": "code",
      "metadata": {
        "id": "_Xb32wNrSfHA",
        "colab_type": "code",
        "colab": {}
      },
      "source": [
        "model.compile(optimizer='sgd', loss='mean_squared_error')"
      ],
      "execution_count": 0,
      "outputs": []
    },
    {
      "cell_type": "markdown",
      "metadata": {
        "id": "gaScdreVTBuV",
        "colab_type": "text"
      },
      "source": [
        "## Providing the Data\n",
        "\n",
        "Next up we'll feed in some data. In this case we are taking 6 xs and 6ys. You can see that the relationship between these is that y=2x-1, so where x = -1, y=-3 etc. etc. \n",
        "\n",
        "A python library called 'Numpy' provides lots of array type data structures that are a defacto standard way of doing it. We declare that we want to use these by specifying the values as an np.array[]"
      ]
    },
    {
      "cell_type": "code",
      "metadata": {
        "id": "w30bccAKS5Lf",
        "colab_type": "code",
        "colab": {}
      },
      "source": [
        "xs = np.array([-1.0,  0.0, 1.0, 2.0, 3.0, 4.0], dtype=float)\n",
        "ys = np.array([-3.0, -1.0, 1.0, 3.0, 5.0, 7.0], dtype=float)"
      ],
      "execution_count": 0,
      "outputs": []
    },
    {
      "cell_type": "markdown",
      "metadata": {
        "id": "r3Dfqe1tTLrd",
        "colab_type": "text"
      },
      "source": [
        "## Training the model\n",
        "\n",
        "The process of training the neural network, where it 'learns' the relationship between the Xs and Ys is in the **model.fit**  call. This is where it will go through the loop we spoke about above, making a guess, measuring how good or bad it is (aka the loss), using the opimizer to make another guess etc. It will do it for the number of epochs you specify. When you run this code, you'll see the loss on the right hand side."
      ]
    },
    {
      "cell_type": "code",
      "metadata": {
        "id": "yOdO9TVJTOt6",
        "colab_type": "code",
        "outputId": "a11cb764-df84-4c31-f3a3-797e3adf063b",
        "colab": {
          "base_uri": "https://localhost:8080/",
          "height": 35
        }
      },
      "source": [
        "model.fit(xs, ys, epochs=500,verbose=0)"
      ],
      "execution_count": 5,
      "outputs": [
        {
          "output_type": "execute_result",
          "data": {
            "text/plain": [
              "<tensorflow.python.keras.callbacks.History at 0x7f61946f5dd8>"
            ]
          },
          "metadata": {
            "tags": []
          },
          "execution_count": 5
        }
      ]
    },
    {
      "cell_type": "markdown",
      "metadata": {
        "id": "oN6IqZxUTabM",
        "colab_type": "text"
      },
      "source": [
        "## Make a prediction\n",
        "\n",
        "Ok, now you have a model that has been trained to learn the relationshop between X and Y. You can use the **model.predict** method to have it figure out the Y for a previously unknown X. So, for example, if X = 10, what do you think Y will be? Take a guess before you run this code:"
      ]
    },
    {
      "cell_type": "code",
      "metadata": {
        "id": "-dTQdp87TQ0Y",
        "colab_type": "code",
        "outputId": "bb06898e-a1a5-4a32-cd25-07306c3ef3bf",
        "colab": {
          "base_uri": "https://localhost:8080/",
          "height": 35
        }
      },
      "source": [
        "print(model.predict([10.0]))"
      ],
      "execution_count": 6,
      "outputs": [
        {
          "output_type": "stream",
          "text": [
            "[[18.986526]]\n"
          ],
          "name": "stdout"
        }
      ]
    },
    {
      "cell_type": "markdown",
      "metadata": {
        "id": "XZhlG9l0Tdiv",
        "colab_type": "text"
      },
      "source": [
        "You might have thought 19, right? But it ended up being a little under. Why do you think that is? \n",
        "\n",
        "Remember that neural networks deal with probabilities, so given the data that we fed the NN with, it calculated that there is a very high probability that the relationship between X and Y is Y=2X-1, but with only 6 data points we can't know for sure. As a result, the result for 10 is very close to 19, but not necessarily 19. \n",
        "\n",
        "As you work with neural networks, you'll see this pattern recurring. You will almost always deal with probabilities, not certainties, and will do a little bit of coding to figure out what the result is based on the probabilities, particularly when it comes to classification.\n"
      ]
    },
    {
      "cell_type": "markdown",
      "metadata": {
        "id": "67q6VXzxUrC8",
        "colab_type": "text"
      },
      "source": [
        "**********************************************************************************************"
      ]
    },
    {
      "cell_type": "markdown",
      "metadata": {
        "id": "XwK2XhCiZOs2",
        "colab_type": "text"
      },
      "source": [
        "# **2. House price prediction**"
      ]
    },
    {
      "cell_type": "markdown",
      "metadata": {
        "id": "DB5eTwRFZXL7",
        "colab_type": "text"
      },
      "source": [
        "In this exercise you'll try to build a neural network that predicts the price of a house according to a simple formula.\n",
        "\n",
        "So, imagine if house pricing was as easy as a house costs 50k + 50k per bedroom, so that a 1 bedroom house costs 100k, a 2 bedroom house costs 150k etc.\n",
        "\n",
        "How would you create a neural network that learns this relationship so that it would predict a 7 bedroom house as costing close to 400k etc.\n",
        "\n",
        "Hint: Your network might work better if you scale the house price down. You don't have to give the answer 400...it might be better to create something that predicts the number 4, and then your answer is in the 'hundreds of thousands' etc."
      ]
    },
    {
      "cell_type": "code",
      "metadata": {
        "id": "5IyW62ajU7FZ",
        "colab_type": "code",
        "colab": {}
      },
      "source": [
        "import tensorflow as tf\n",
        "import numpy as np\n",
        "from tensorflow import keras"
      ],
      "execution_count": 0,
      "outputs": []
    },
    {
      "cell_type": "code",
      "metadata": {
        "id": "QoPKS-hl_BeY",
        "colab_type": "code",
        "colab": {}
      },
      "source": [
        "class PrintLogs(tf.keras.callbacks.Callback):\n",
        "    def __init__(self, epochs):\n",
        "        self.epochs = epochs\n",
        "\n",
        "    def set_params(self, params):\n",
        "        params['epochs'] = 0\n",
        "\n",
        "    def on_epoch_begin(self, epoch, logs=None):\n",
        "        print('Epoch %d/%d' % (epoch + 1, self.epochs), end='')"
      ],
      "execution_count": 0,
      "outputs": []
    },
    {
      "cell_type": "code",
      "metadata": {
        "id": "reI1VQY1ZaC_",
        "colab_type": "code",
        "colab": {}
      },
      "source": [
        "# GRADED FUNCTION: house_model\n",
        "def house_model(y_new):\n",
        "    xs = np.array([1,2,3,4,5,6], dtype=float)\n",
        "    ys = np.array([1,1.5,2,2.5,3,3.5], dtype=float)\n",
        "    model = tf.keras.Sequential([keras.layers.Dense(units=1, input_shape=[1])])\n",
        "    model.compile(optimizer='sgd', loss='mean_squared_error')\n",
        "    model.fit(xs, ys, epochs=500, verbose=2, callbacks=[PrintLogs(500)])\n",
        "    return model.predict(y_new)[0]"
      ],
      "execution_count": 0,
      "outputs": []
    },
    {
      "cell_type": "code",
      "metadata": {
        "id": "HYi81vWFZb2J",
        "colab_type": "code",
        "outputId": "4f4137db-e046-423c-f405-7d73e386d80a",
        "colab": {
          "base_uri": "https://localhost:8080/",
          "height": 1000
        }
      },
      "source": [
        "prediction = house_model([7.0])"
      ],
      "execution_count": 10,
      "outputs": [
        {
          "output_type": "stream",
          "text": [
            "Epoch 1/5001/1 - 0s - loss: 16.5386\n",
            "Epoch 2/5001/1 - 0s - loss: 7.7090\n",
            "Epoch 3/5001/1 - 0s - loss: 3.6220\n",
            "Epoch 4/5001/1 - 0s - loss: 1.7300\n",
            "Epoch 5/5001/1 - 0s - loss: 0.8540\n",
            "Epoch 6/5001/1 - 0s - loss: 0.4481\n",
            "Epoch 7/5001/1 - 0s - loss: 0.2599\n",
            "Epoch 8/5001/1 - 0s - loss: 0.1724\n",
            "Epoch 9/5001/1 - 0s - loss: 0.1315\n",
            "Epoch 10/5001/1 - 0s - loss: 0.1122\n",
            "Epoch 11/5001/1 - 0s - loss: 0.1029\n",
            "Epoch 12/5001/1 - 0s - loss: 0.0982\n",
            "Epoch 13/5001/1 - 0s - loss: 0.0957\n",
            "Epoch 14/5001/1 - 0s - loss: 0.0941\n",
            "Epoch 15/5001/1 - 0s - loss: 0.0931\n",
            "Epoch 16/5001/1 - 0s - loss: 0.0922\n",
            "Epoch 17/5001/1 - 0s - loss: 0.0915\n",
            "Epoch 18/5001/1 - 0s - loss: 0.0908\n",
            "Epoch 19/5001/1 - 0s - loss: 0.0901\n",
            "Epoch 20/5001/1 - 0s - loss: 0.0894\n",
            "Epoch 21/5001/1 - 0s - loss: 0.0888\n",
            "Epoch 22/5001/1 - 0s - loss: 0.0881\n",
            "Epoch 23/5001/1 - 0s - loss: 0.0875\n",
            "Epoch 24/5001/1 - 0s - loss: 0.0868\n",
            "Epoch 25/5001/1 - 0s - loss: 0.0862\n",
            "Epoch 26/5001/1 - 0s - loss: 0.0856\n",
            "Epoch 27/5001/1 - 0s - loss: 0.0849\n",
            "Epoch 28/5001/1 - 0s - loss: 0.0843\n",
            "Epoch 29/5001/1 - 0s - loss: 0.0837\n",
            "Epoch 30/5001/1 - 0s - loss: 0.0831\n",
            "Epoch 31/5001/1 - 0s - loss: 0.0825\n",
            "Epoch 32/5001/1 - 0s - loss: 0.0819\n",
            "Epoch 33/5001/1 - 0s - loss: 0.0813\n",
            "Epoch 34/5001/1 - 0s - loss: 0.0807\n",
            "Epoch 35/5001/1 - 0s - loss: 0.0801\n",
            "Epoch 36/5001/1 - 0s - loss: 0.0795\n",
            "Epoch 37/5001/1 - 0s - loss: 0.0790\n",
            "Epoch 38/5001/1 - 0s - loss: 0.0784\n",
            "Epoch 39/5001/1 - 0s - loss: 0.0778\n",
            "Epoch 40/5001/1 - 0s - loss: 0.0772\n",
            "Epoch 41/5001/1 - 0s - loss: 0.0767\n",
            "Epoch 42/5001/1 - 0s - loss: 0.0761\n",
            "Epoch 43/5001/1 - 0s - loss: 0.0756\n",
            "Epoch 44/5001/1 - 0s - loss: 0.0750\n",
            "Epoch 45/5001/1 - 0s - loss: 0.0745\n",
            "Epoch 46/5001/1 - 0s - loss: 0.0739\n",
            "Epoch 47/5001/1 - 0s - loss: 0.0734\n",
            "Epoch 48/5001/1 - 0s - loss: 0.0728\n",
            "Epoch 49/5001/1 - 0s - loss: 0.0723\n",
            "Epoch 50/5001/1 - 0s - loss: 0.0718\n",
            "Epoch 51/5001/1 - 0s - loss: 0.0713\n",
            "Epoch 52/5001/1 - 0s - loss: 0.0707\n",
            "Epoch 53/5001/1 - 0s - loss: 0.0702\n",
            "Epoch 54/5001/1 - 0s - loss: 0.0697\n",
            "Epoch 55/5001/1 - 0s - loss: 0.0692\n",
            "Epoch 56/5001/1 - 0s - loss: 0.0687\n",
            "Epoch 57/5001/1 - 0s - loss: 0.0682\n",
            "Epoch 58/5001/1 - 0s - loss: 0.0677\n",
            "Epoch 59/5001/1 - 0s - loss: 0.0672\n",
            "Epoch 60/5001/1 - 0s - loss: 0.0667\n",
            "Epoch 61/5001/1 - 0s - loss: 0.0662\n",
            "Epoch 62/5001/1 - 0s - loss: 0.0658\n",
            "Epoch 63/5001/1 - 0s - loss: 0.0653\n",
            "Epoch 64/5001/1 - 0s - loss: 0.0648\n",
            "Epoch 65/5001/1 - 0s - loss: 0.0643\n",
            "Epoch 66/5001/1 - 0s - loss: 0.0639\n",
            "Epoch 67/5001/1 - 0s - loss: 0.0634\n",
            "Epoch 68/5001/1 - 0s - loss: 0.0629\n",
            "Epoch 69/5001/1 - 0s - loss: 0.0625\n",
            "Epoch 70/5001/1 - 0s - loss: 0.0620\n",
            "Epoch 71/5001/1 - 0s - loss: 0.0616\n",
            "Epoch 72/5001/1 - 0s - loss: 0.0611\n",
            "Epoch 73/5001/1 - 0s - loss: 0.0607\n",
            "Epoch 74/5001/1 - 0s - loss: 0.0602\n",
            "Epoch 75/5001/1 - 0s - loss: 0.0598\n",
            "Epoch 76/5001/1 - 0s - loss: 0.0594\n",
            "Epoch 77/5001/1 - 0s - loss: 0.0589\n",
            "Epoch 78/5001/1 - 0s - loss: 0.0585\n",
            "Epoch 79/5001/1 - 0s - loss: 0.0581\n",
            "Epoch 80/5001/1 - 0s - loss: 0.0577\n",
            "Epoch 81/5001/1 - 0s - loss: 0.0572\n",
            "Epoch 82/5001/1 - 0s - loss: 0.0568\n",
            "Epoch 83/5001/1 - 0s - loss: 0.0564\n",
            "Epoch 84/5001/1 - 0s - loss: 0.0560\n",
            "Epoch 85/5001/1 - 0s - loss: 0.0556\n",
            "Epoch 86/5001/1 - 0s - loss: 0.0552\n",
            "Epoch 87/5001/1 - 0s - loss: 0.0548\n",
            "Epoch 88/5001/1 - 0s - loss: 0.0544\n",
            "Epoch 89/5001/1 - 0s - loss: 0.0540\n",
            "Epoch 90/5001/1 - 0s - loss: 0.0536\n",
            "Epoch 91/5001/1 - 0s - loss: 0.0532\n",
            "Epoch 92/5001/1 - 0s - loss: 0.0528\n",
            "Epoch 93/5001/1 - 0s - loss: 0.0524\n",
            "Epoch 94/5001/1 - 0s - loss: 0.0520\n",
            "Epoch 95/5001/1 - 0s - loss: 0.0517\n",
            "Epoch 96/5001/1 - 0s - loss: 0.0513\n",
            "Epoch 97/5001/1 - 0s - loss: 0.0509\n",
            "Epoch 98/5001/1 - 0s - loss: 0.0505\n",
            "Epoch 99/5001/1 - 0s - loss: 0.0502\n",
            "Epoch 100/5001/1 - 0s - loss: 0.0498\n",
            "Epoch 101/5001/1 - 0s - loss: 0.0494\n",
            "Epoch 102/5001/1 - 0s - loss: 0.0491\n",
            "Epoch 103/5001/1 - 0s - loss: 0.0487\n",
            "Epoch 104/5001/1 - 0s - loss: 0.0484\n",
            "Epoch 105/5001/1 - 0s - loss: 0.0480\n",
            "Epoch 106/5001/1 - 0s - loss: 0.0477\n",
            "Epoch 107/5001/1 - 0s - loss: 0.0473\n",
            "Epoch 108/5001/1 - 0s - loss: 0.0470\n",
            "Epoch 109/5001/1 - 0s - loss: 0.0466\n",
            "Epoch 110/5001/1 - 0s - loss: 0.0463\n",
            "Epoch 111/5001/1 - 0s - loss: 0.0460\n",
            "Epoch 112/5001/1 - 0s - loss: 0.0456\n",
            "Epoch 113/5001/1 - 0s - loss: 0.0453\n",
            "Epoch 114/5001/1 - 0s - loss: 0.0450\n",
            "Epoch 115/5001/1 - 0s - loss: 0.0446\n",
            "Epoch 116/5001/1 - 0s - loss: 0.0443\n",
            "Epoch 117/5001/1 - 0s - loss: 0.0440\n",
            "Epoch 118/5001/1 - 0s - loss: 0.0437\n",
            "Epoch 119/5001/1 - 0s - loss: 0.0433\n",
            "Epoch 120/5001/1 - 0s - loss: 0.0430\n",
            "Epoch 121/5001/1 - 0s - loss: 0.0427\n",
            "Epoch 122/5001/1 - 0s - loss: 0.0424\n",
            "Epoch 123/5001/1 - 0s - loss: 0.0421\n",
            "Epoch 124/5001/1 - 0s - loss: 0.0418\n",
            "Epoch 125/5001/1 - 0s - loss: 0.0415\n",
            "Epoch 126/5001/1 - 0s - loss: 0.0412\n",
            "Epoch 127/5001/1 - 0s - loss: 0.0409\n",
            "Epoch 128/5001/1 - 0s - loss: 0.0406\n",
            "Epoch 129/5001/1 - 0s - loss: 0.0403\n",
            "Epoch 130/5001/1 - 0s - loss: 0.0400\n",
            "Epoch 131/5001/1 - 0s - loss: 0.0397\n",
            "Epoch 132/5001/1 - 0s - loss: 0.0394\n",
            "Epoch 133/5001/1 - 0s - loss: 0.0391\n",
            "Epoch 134/5001/1 - 0s - loss: 0.0388\n",
            "Epoch 135/5001/1 - 0s - loss: 0.0386\n",
            "Epoch 136/5001/1 - 0s - loss: 0.0383\n",
            "Epoch 137/5001/1 - 0s - loss: 0.0380\n",
            "Epoch 138/5001/1 - 0s - loss: 0.0377\n",
            "Epoch 139/5001/1 - 0s - loss: 0.0374\n",
            "Epoch 140/5001/1 - 0s - loss: 0.0372\n",
            "Epoch 141/5001/1 - 0s - loss: 0.0369\n",
            "Epoch 142/5001/1 - 0s - loss: 0.0366\n",
            "Epoch 143/5001/1 - 0s - loss: 0.0364\n",
            "Epoch 144/5001/1 - 0s - loss: 0.0361\n",
            "Epoch 145/5001/1 - 0s - loss: 0.0358\n",
            "Epoch 146/5001/1 - 0s - loss: 0.0356\n",
            "Epoch 147/5001/1 - 0s - loss: 0.0353\n",
            "Epoch 148/5001/1 - 0s - loss: 0.0351\n",
            "Epoch 149/5001/1 - 0s - loss: 0.0348\n",
            "Epoch 150/5001/1 - 0s - loss: 0.0346\n",
            "Epoch 151/5001/1 - 0s - loss: 0.0343\n",
            "Epoch 152/5001/1 - 0s - loss: 0.0341\n",
            "Epoch 153/5001/1 - 0s - loss: 0.0338\n",
            "Epoch 154/5001/1 - 0s - loss: 0.0336\n",
            "Epoch 155/5001/1 - 0s - loss: 0.0333\n",
            "Epoch 156/5001/1 - 0s - loss: 0.0331\n",
            "Epoch 157/5001/1 - 0s - loss: 0.0328\n",
            "Epoch 158/5001/1 - 0s - loss: 0.0326\n",
            "Epoch 159/5001/1 - 0s - loss: 0.0324\n",
            "Epoch 160/5001/1 - 0s - loss: 0.0321\n",
            "Epoch 161/5001/1 - 0s - loss: 0.0319\n",
            "Epoch 162/5001/1 - 0s - loss: 0.0317\n",
            "Epoch 163/5001/1 - 0s - loss: 0.0314\n",
            "Epoch 164/5001/1 - 0s - loss: 0.0312\n",
            "Epoch 165/5001/1 - 0s - loss: 0.0310\n",
            "Epoch 166/5001/1 - 0s - loss: 0.0307\n",
            "Epoch 167/5001/1 - 0s - loss: 0.0305\n",
            "Epoch 168/5001/1 - 0s - loss: 0.0303\n",
            "Epoch 169/5001/1 - 0s - loss: 0.0301\n",
            "Epoch 170/5001/1 - 0s - loss: 0.0299\n",
            "Epoch 171/5001/1 - 0s - loss: 0.0296\n",
            "Epoch 172/5001/1 - 0s - loss: 0.0294\n",
            "Epoch 173/5001/1 - 0s - loss: 0.0292\n",
            "Epoch 174/5001/1 - 0s - loss: 0.0290\n",
            "Epoch 175/5001/1 - 0s - loss: 0.0288\n",
            "Epoch 176/5001/1 - 0s - loss: 0.0286\n",
            "Epoch 177/5001/1 - 0s - loss: 0.0284\n",
            "Epoch 178/5001/1 - 0s - loss: 0.0282\n",
            "Epoch 179/5001/1 - 0s - loss: 0.0280\n",
            "Epoch 180/5001/1 - 0s - loss: 0.0277\n",
            "Epoch 181/5001/1 - 0s - loss: 0.0275\n",
            "Epoch 182/5001/1 - 0s - loss: 0.0273\n",
            "Epoch 183/5001/1 - 0s - loss: 0.0271\n",
            "Epoch 184/5001/1 - 0s - loss: 0.0269\n",
            "Epoch 185/5001/1 - 0s - loss: 0.0268\n",
            "Epoch 186/5001/1 - 0s - loss: 0.0266\n",
            "Epoch 187/5001/1 - 0s - loss: 0.0264\n",
            "Epoch 188/5001/1 - 0s - loss: 0.0262\n",
            "Epoch 189/5001/1 - 0s - loss: 0.0260\n",
            "Epoch 190/5001/1 - 0s - loss: 0.0258\n",
            "Epoch 191/5001/1 - 0s - loss: 0.0256\n",
            "Epoch 192/5001/1 - 0s - loss: 0.0254\n",
            "Epoch 193/5001/1 - 0s - loss: 0.0252\n",
            "Epoch 194/5001/1 - 0s - loss: 0.0250\n",
            "Epoch 195/5001/1 - 0s - loss: 0.0249\n",
            "Epoch 196/5001/1 - 0s - loss: 0.0247\n",
            "Epoch 197/5001/1 - 0s - loss: 0.0245\n",
            "Epoch 198/5001/1 - 0s - loss: 0.0243\n",
            "Epoch 199/5001/1 - 0s - loss: 0.0241\n",
            "Epoch 200/5001/1 - 0s - loss: 0.0240\n",
            "Epoch 201/5001/1 - 0s - loss: 0.0238\n",
            "Epoch 202/5001/1 - 0s - loss: 0.0236\n",
            "Epoch 203/5001/1 - 0s - loss: 0.0235\n",
            "Epoch 204/5001/1 - 0s - loss: 0.0233\n",
            "Epoch 205/5001/1 - 0s - loss: 0.0231\n",
            "Epoch 206/5001/1 - 0s - loss: 0.0229\n",
            "Epoch 207/5001/1 - 0s - loss: 0.0228\n",
            "Epoch 208/5001/1 - 0s - loss: 0.0226\n",
            "Epoch 209/5001/1 - 0s - loss: 0.0224\n",
            "Epoch 210/5001/1 - 0s - loss: 0.0223\n",
            "Epoch 211/5001/1 - 0s - loss: 0.0221\n",
            "Epoch 212/5001/1 - 0s - loss: 0.0220\n",
            "Epoch 213/5001/1 - 0s - loss: 0.0218\n",
            "Epoch 214/5001/1 - 0s - loss: 0.0216\n",
            "Epoch 215/5001/1 - 0s - loss: 0.0215\n",
            "Epoch 216/5001/1 - 0s - loss: 0.0213\n",
            "Epoch 217/5001/1 - 0s - loss: 0.0212\n",
            "Epoch 218/5001/1 - 0s - loss: 0.0210\n",
            "Epoch 219/5001/1 - 0s - loss: 0.0209\n",
            "Epoch 220/5001/1 - 0s - loss: 0.0207\n",
            "Epoch 221/5001/1 - 0s - loss: 0.0206\n",
            "Epoch 222/5001/1 - 0s - loss: 0.0204\n",
            "Epoch 223/5001/1 - 0s - loss: 0.0203\n",
            "Epoch 224/5001/1 - 0s - loss: 0.0201\n",
            "Epoch 225/5001/1 - 0s - loss: 0.0200\n",
            "Epoch 226/5001/1 - 0s - loss: 0.0198\n",
            "Epoch 227/5001/1 - 0s - loss: 0.0197\n",
            "Epoch 228/5001/1 - 0s - loss: 0.0195\n",
            "Epoch 229/5001/1 - 0s - loss: 0.0194\n",
            "Epoch 230/5001/1 - 0s - loss: 0.0193\n",
            "Epoch 231/5001/1 - 0s - loss: 0.0191\n",
            "Epoch 232/5001/1 - 0s - loss: 0.0190\n",
            "Epoch 233/5001/1 - 0s - loss: 0.0188\n",
            "Epoch 234/5001/1 - 0s - loss: 0.0187\n",
            "Epoch 235/5001/1 - 0s - loss: 0.0186\n",
            "Epoch 236/5001/1 - 0s - loss: 0.0184\n",
            "Epoch 237/5001/1 - 0s - loss: 0.0183\n",
            "Epoch 238/5001/1 - 0s - loss: 0.0182\n",
            "Epoch 239/5001/1 - 0s - loss: 0.0180\n",
            "Epoch 240/5001/1 - 0s - loss: 0.0179\n",
            "Epoch 241/5001/1 - 0s - loss: 0.0178\n",
            "Epoch 242/5001/1 - 0s - loss: 0.0176\n",
            "Epoch 243/5001/1 - 0s - loss: 0.0175\n",
            "Epoch 244/5001/1 - 0s - loss: 0.0174\n",
            "Epoch 245/5001/1 - 0s - loss: 0.0173\n",
            "Epoch 246/5001/1 - 0s - loss: 0.0171\n",
            "Epoch 247/5001/1 - 0s - loss: 0.0170\n",
            "Epoch 248/5001/1 - 0s - loss: 0.0169\n",
            "Epoch 249/5001/1 - 0s - loss: 0.0168\n",
            "Epoch 250/5001/1 - 0s - loss: 0.0166\n",
            "Epoch 251/5001/1 - 0s - loss: 0.0165\n",
            "Epoch 252/5001/1 - 0s - loss: 0.0164\n",
            "Epoch 253/5001/1 - 0s - loss: 0.0163\n",
            "Epoch 254/5001/1 - 0s - loss: 0.0162\n",
            "Epoch 255/5001/1 - 0s - loss: 0.0160\n",
            "Epoch 256/5001/1 - 0s - loss: 0.0159\n",
            "Epoch 257/5001/1 - 0s - loss: 0.0158\n",
            "Epoch 258/5001/1 - 0s - loss: 0.0157\n",
            "Epoch 259/5001/1 - 0s - loss: 0.0156\n",
            "Epoch 260/5001/1 - 0s - loss: 0.0155\n",
            "Epoch 261/5001/1 - 0s - loss: 0.0153\n",
            "Epoch 262/5001/1 - 0s - loss: 0.0152\n",
            "Epoch 263/5001/1 - 0s - loss: 0.0151\n",
            "Epoch 264/5001/1 - 0s - loss: 0.0150\n",
            "Epoch 265/5001/1 - 0s - loss: 0.0149\n",
            "Epoch 266/5001/1 - 0s - loss: 0.0148\n",
            "Epoch 267/5001/1 - 0s - loss: 0.0147\n",
            "Epoch 268/5001/1 - 0s - loss: 0.0146\n",
            "Epoch 269/5001/1 - 0s - loss: 0.0145\n",
            "Epoch 270/5001/1 - 0s - loss: 0.0144\n",
            "Epoch 271/5001/1 - 0s - loss: 0.0143\n",
            "Epoch 272/5001/1 - 0s - loss: 0.0142\n",
            "Epoch 273/5001/1 - 0s - loss: 0.0141\n",
            "Epoch 274/5001/1 - 0s - loss: 0.0140\n",
            "Epoch 275/5001/1 - 0s - loss: 0.0139\n",
            "Epoch 276/5001/1 - 0s - loss: 0.0138\n",
            "Epoch 277/5001/1 - 0s - loss: 0.0137\n",
            "Epoch 278/5001/1 - 0s - loss: 0.0136\n",
            "Epoch 279/5001/1 - 0s - loss: 0.0135\n",
            "Epoch 280/5001/1 - 0s - loss: 0.0134\n",
            "Epoch 281/5001/1 - 0s - loss: 0.0133\n",
            "Epoch 282/5001/1 - 0s - loss: 0.0132\n",
            "Epoch 283/5001/1 - 0s - loss: 0.0131\n",
            "Epoch 284/5001/1 - 0s - loss: 0.0130\n",
            "Epoch 285/5001/1 - 0s - loss: 0.0129\n",
            "Epoch 286/5001/1 - 0s - loss: 0.0128\n",
            "Epoch 287/5001/1 - 0s - loss: 0.0127\n",
            "Epoch 288/5001/1 - 0s - loss: 0.0126\n",
            "Epoch 289/5001/1 - 0s - loss: 0.0125\n",
            "Epoch 290/5001/1 - 0s - loss: 0.0124\n",
            "Epoch 291/5001/1 - 0s - loss: 0.0123\n",
            "Epoch 292/5001/1 - 0s - loss: 0.0122\n",
            "Epoch 293/5001/1 - 0s - loss: 0.0121\n",
            "Epoch 294/5001/1 - 0s - loss: 0.0121\n",
            "Epoch 295/5001/1 - 0s - loss: 0.0120\n",
            "Epoch 296/5001/1 - 0s - loss: 0.0119\n",
            "Epoch 297/5001/1 - 0s - loss: 0.0118\n",
            "Epoch 298/5001/1 - 0s - loss: 0.0117\n",
            "Epoch 299/5001/1 - 0s - loss: 0.0116\n",
            "Epoch 300/5001/1 - 0s - loss: 0.0115\n",
            "Epoch 301/5001/1 - 0s - loss: 0.0115\n",
            "Epoch 302/5001/1 - 0s - loss: 0.0114\n",
            "Epoch 303/5001/1 - 0s - loss: 0.0113\n",
            "Epoch 304/5001/1 - 0s - loss: 0.0112\n",
            "Epoch 305/5001/1 - 0s - loss: 0.0111\n",
            "Epoch 306/5001/1 - 0s - loss: 0.0110\n",
            "Epoch 307/5001/1 - 0s - loss: 0.0110\n",
            "Epoch 308/5001/1 - 0s - loss: 0.0109\n",
            "Epoch 309/5001/1 - 0s - loss: 0.0108\n",
            "Epoch 310/5001/1 - 0s - loss: 0.0107\n",
            "Epoch 311/5001/1 - 0s - loss: 0.0106\n",
            "Epoch 312/5001/1 - 0s - loss: 0.0106\n",
            "Epoch 313/5001/1 - 0s - loss: 0.0105\n",
            "Epoch 314/5001/1 - 0s - loss: 0.0104\n",
            "Epoch 315/5001/1 - 0s - loss: 0.0103\n",
            "Epoch 316/5001/1 - 0s - loss: 0.0103\n",
            "Epoch 317/5001/1 - 0s - loss: 0.0102\n",
            "Epoch 318/5001/1 - 0s - loss: 0.0101\n",
            "Epoch 319/5001/1 - 0s - loss: 0.0100\n",
            "Epoch 320/5001/1 - 0s - loss: 0.0100\n",
            "Epoch 321/5001/1 - 0s - loss: 0.0099\n",
            "Epoch 322/5001/1 - 0s - loss: 0.0098\n",
            "Epoch 323/5001/1 - 0s - loss: 0.0098\n",
            "Epoch 324/5001/1 - 0s - loss: 0.0097\n",
            "Epoch 325/5001/1 - 0s - loss: 0.0096\n",
            "Epoch 326/5001/1 - 0s - loss: 0.0095\n",
            "Epoch 327/5001/1 - 0s - loss: 0.0095\n",
            "Epoch 328/5001/1 - 0s - loss: 0.0094\n",
            "Epoch 329/5001/1 - 0s - loss: 0.0093\n",
            "Epoch 330/5001/1 - 0s - loss: 0.0093\n",
            "Epoch 331/5001/1 - 0s - loss: 0.0092\n",
            "Epoch 332/5001/1 - 0s - loss: 0.0091\n",
            "Epoch 333/5001/1 - 0s - loss: 0.0091\n",
            "Epoch 334/5001/1 - 0s - loss: 0.0090\n",
            "Epoch 335/5001/1 - 0s - loss: 0.0089\n",
            "Epoch 336/5001/1 - 0s - loss: 0.0089\n",
            "Epoch 337/5001/1 - 0s - loss: 0.0088\n",
            "Epoch 338/5001/1 - 0s - loss: 0.0087\n",
            "Epoch 339/5001/1 - 0s - loss: 0.0087\n",
            "Epoch 340/5001/1 - 0s - loss: 0.0086\n",
            "Epoch 341/5001/1 - 0s - loss: 0.0085\n",
            "Epoch 342/5001/1 - 0s - loss: 0.0085\n",
            "Epoch 343/5001/1 - 0s - loss: 0.0084\n",
            "Epoch 344/5001/1 - 0s - loss: 0.0084\n",
            "Epoch 345/5001/1 - 0s - loss: 0.0083\n",
            "Epoch 346/5001/1 - 0s - loss: 0.0082\n",
            "Epoch 347/5001/1 - 0s - loss: 0.0082\n",
            "Epoch 348/5001/1 - 0s - loss: 0.0081\n",
            "Epoch 349/5001/1 - 0s - loss: 0.0081\n",
            "Epoch 350/5001/1 - 0s - loss: 0.0080\n",
            "Epoch 351/5001/1 - 0s - loss: 0.0079\n",
            "Epoch 352/5001/1 - 0s - loss: 0.0079\n",
            "Epoch 353/5001/1 - 0s - loss: 0.0078\n",
            "Epoch 354/5001/1 - 0s - loss: 0.0078\n",
            "Epoch 355/5001/1 - 0s - loss: 0.0077\n",
            "Epoch 356/5001/1 - 0s - loss: 0.0077\n",
            "Epoch 357/5001/1 - 0s - loss: 0.0076\n",
            "Epoch 358/5001/1 - 0s - loss: 0.0076\n",
            "Epoch 359/5001/1 - 0s - loss: 0.0075\n",
            "Epoch 360/5001/1 - 0s - loss: 0.0074\n",
            "Epoch 361/5001/1 - 0s - loss: 0.0074\n",
            "Epoch 362/5001/1 - 0s - loss: 0.0073\n",
            "Epoch 363/5001/1 - 0s - loss: 0.0073\n",
            "Epoch 364/5001/1 - 0s - loss: 0.0072\n",
            "Epoch 365/5001/1 - 0s - loss: 0.0072\n",
            "Epoch 366/5001/1 - 0s - loss: 0.0071\n",
            "Epoch 367/5001/1 - 0s - loss: 0.0071\n",
            "Epoch 368/5001/1 - 0s - loss: 0.0070\n",
            "Epoch 369/5001/1 - 0s - loss: 0.0070\n",
            "Epoch 370/5001/1 - 0s - loss: 0.0069\n",
            "Epoch 371/5001/1 - 0s - loss: 0.0069\n",
            "Epoch 372/5001/1 - 0s - loss: 0.0068\n",
            "Epoch 373/5001/1 - 0s - loss: 0.0068\n",
            "Epoch 374/5001/1 - 0s - loss: 0.0067\n",
            "Epoch 375/5001/1 - 0s - loss: 0.0067\n",
            "Epoch 376/5001/1 - 0s - loss: 0.0066\n",
            "Epoch 377/5001/1 - 0s - loss: 0.0066\n",
            "Epoch 378/5001/1 - 0s - loss: 0.0065\n",
            "Epoch 379/5001/1 - 0s - loss: 0.0065\n",
            "Epoch 380/5001/1 - 0s - loss: 0.0064\n",
            "Epoch 381/5001/1 - 0s - loss: 0.0064\n",
            "Epoch 382/5001/1 - 0s - loss: 0.0063\n",
            "Epoch 383/5001/1 - 0s - loss: 0.0063\n",
            "Epoch 384/5001/1 - 0s - loss: 0.0062\n",
            "Epoch 385/5001/1 - 0s - loss: 0.0062\n",
            "Epoch 386/5001/1 - 0s - loss: 0.0062\n",
            "Epoch 387/5001/1 - 0s - loss: 0.0061\n",
            "Epoch 388/5001/1 - 0s - loss: 0.0061\n",
            "Epoch 389/5001/1 - 0s - loss: 0.0060\n",
            "Epoch 390/5001/1 - 0s - loss: 0.0060\n",
            "Epoch 391/5001/1 - 0s - loss: 0.0059\n",
            "Epoch 392/5001/1 - 0s - loss: 0.0059\n",
            "Epoch 393/5001/1 - 0s - loss: 0.0058\n",
            "Epoch 394/5001/1 - 0s - loss: 0.0058\n",
            "Epoch 395/5001/1 - 0s - loss: 0.0058\n",
            "Epoch 396/5001/1 - 0s - loss: 0.0057\n",
            "Epoch 397/5001/1 - 0s - loss: 0.0057\n",
            "Epoch 398/5001/1 - 0s - loss: 0.0056\n",
            "Epoch 399/5001/1 - 0s - loss: 0.0056\n",
            "Epoch 400/5001/1 - 0s - loss: 0.0056\n",
            "Epoch 401/5001/1 - 0s - loss: 0.0055\n",
            "Epoch 402/5001/1 - 0s - loss: 0.0055\n",
            "Epoch 403/5001/1 - 0s - loss: 0.0054\n",
            "Epoch 404/5001/1 - 0s - loss: 0.0054\n",
            "Epoch 405/5001/1 - 0s - loss: 0.0054\n",
            "Epoch 406/5001/1 - 0s - loss: 0.0053\n",
            "Epoch 407/5001/1 - 0s - loss: 0.0053\n",
            "Epoch 408/5001/1 - 0s - loss: 0.0052\n",
            "Epoch 409/5001/1 - 0s - loss: 0.0052\n",
            "Epoch 410/5001/1 - 0s - loss: 0.0052\n",
            "Epoch 411/5001/1 - 0s - loss: 0.0051\n",
            "Epoch 412/5001/1 - 0s - loss: 0.0051\n",
            "Epoch 413/5001/1 - 0s - loss: 0.0051\n",
            "Epoch 414/5001/1 - 0s - loss: 0.0050\n",
            "Epoch 415/5001/1 - 0s - loss: 0.0050\n",
            "Epoch 416/5001/1 - 0s - loss: 0.0049\n",
            "Epoch 417/5001/1 - 0s - loss: 0.0049\n",
            "Epoch 418/5001/1 - 0s - loss: 0.0049\n",
            "Epoch 419/5001/1 - 0s - loss: 0.0048\n",
            "Epoch 420/5001/1 - 0s - loss: 0.0048\n",
            "Epoch 421/5001/1 - 0s - loss: 0.0048\n",
            "Epoch 422/5001/1 - 0s - loss: 0.0047\n",
            "Epoch 423/5001/1 - 0s - loss: 0.0047\n",
            "Epoch 424/5001/1 - 0s - loss: 0.0047\n",
            "Epoch 425/5001/1 - 0s - loss: 0.0046\n",
            "Epoch 426/5001/1 - 0s - loss: 0.0046\n",
            "Epoch 427/5001/1 - 0s - loss: 0.0046\n",
            "Epoch 428/5001/1 - 0s - loss: 0.0045\n",
            "Epoch 429/5001/1 - 0s - loss: 0.0045\n",
            "Epoch 430/5001/1 - 0s - loss: 0.0045\n",
            "Epoch 431/5001/1 - 0s - loss: 0.0044\n",
            "Epoch 432/5001/1 - 0s - loss: 0.0044\n",
            "Epoch 433/5001/1 - 0s - loss: 0.0044\n",
            "Epoch 434/5001/1 - 0s - loss: 0.0043\n",
            "Epoch 435/5001/1 - 0s - loss: 0.0043\n",
            "Epoch 436/5001/1 - 0s - loss: 0.0043\n",
            "Epoch 437/5001/1 - 0s - loss: 0.0042\n",
            "Epoch 438/5001/1 - 0s - loss: 0.0042\n",
            "Epoch 439/5001/1 - 0s - loss: 0.0042\n",
            "Epoch 440/5001/1 - 0s - loss: 0.0041\n",
            "Epoch 441/5001/1 - 0s - loss: 0.0041\n",
            "Epoch 442/5001/1 - 0s - loss: 0.0041\n",
            "Epoch 443/5001/1 - 0s - loss: 0.0041\n",
            "Epoch 444/5001/1 - 0s - loss: 0.0040\n",
            "Epoch 445/5001/1 - 0s - loss: 0.0040\n",
            "Epoch 446/5001/1 - 0s - loss: 0.0040\n",
            "Epoch 447/5001/1 - 0s - loss: 0.0039\n",
            "Epoch 448/5001/1 - 0s - loss: 0.0039\n",
            "Epoch 449/5001/1 - 0s - loss: 0.0039\n",
            "Epoch 450/5001/1 - 0s - loss: 0.0039\n",
            "Epoch 451/5001/1 - 0s - loss: 0.0038\n",
            "Epoch 452/5001/1 - 0s - loss: 0.0038\n",
            "Epoch 453/5001/1 - 0s - loss: 0.0038\n",
            "Epoch 454/5001/1 - 0s - loss: 0.0037\n",
            "Epoch 455/5001/1 - 0s - loss: 0.0037\n",
            "Epoch 456/5001/1 - 0s - loss: 0.0037\n",
            "Epoch 457/5001/1 - 0s - loss: 0.0037\n",
            "Epoch 458/5001/1 - 0s - loss: 0.0036\n",
            "Epoch 459/5001/1 - 0s - loss: 0.0036\n",
            "Epoch 460/5001/1 - 0s - loss: 0.0036\n",
            "Epoch 461/5001/1 - 0s - loss: 0.0036\n",
            "Epoch 462/5001/1 - 0s - loss: 0.0035\n",
            "Epoch 463/5001/1 - 0s - loss: 0.0035\n",
            "Epoch 464/5001/1 - 0s - loss: 0.0035\n",
            "Epoch 465/5001/1 - 0s - loss: 0.0035\n",
            "Epoch 466/5001/1 - 0s - loss: 0.0034\n",
            "Epoch 467/5001/1 - 0s - loss: 0.0034\n",
            "Epoch 468/5001/1 - 0s - loss: 0.0034\n",
            "Epoch 469/5001/1 - 0s - loss: 0.0034\n",
            "Epoch 470/5001/1 - 0s - loss: 0.0033\n",
            "Epoch 471/5001/1 - 0s - loss: 0.0033\n",
            "Epoch 472/5001/1 - 0s - loss: 0.0033\n",
            "Epoch 473/5001/1 - 0s - loss: 0.0033\n",
            "Epoch 474/5001/1 - 0s - loss: 0.0032\n",
            "Epoch 475/5001/1 - 0s - loss: 0.0032\n",
            "Epoch 476/5001/1 - 0s - loss: 0.0032\n",
            "Epoch 477/5001/1 - 0s - loss: 0.0032\n",
            "Epoch 478/5001/1 - 0s - loss: 0.0031\n",
            "Epoch 479/5001/1 - 0s - loss: 0.0031\n",
            "Epoch 480/5001/1 - 0s - loss: 0.0031\n",
            "Epoch 481/5001/1 - 0s - loss: 0.0031\n",
            "Epoch 482/5001/1 - 0s - loss: 0.0030\n",
            "Epoch 483/5001/1 - 0s - loss: 0.0030\n",
            "Epoch 484/5001/1 - 0s - loss: 0.0030\n",
            "Epoch 485/5001/1 - 0s - loss: 0.0030\n",
            "Epoch 486/5001/1 - 0s - loss: 0.0030\n",
            "Epoch 487/5001/1 - 0s - loss: 0.0029\n",
            "Epoch 488/5001/1 - 0s - loss: 0.0029\n",
            "Epoch 489/5001/1 - 0s - loss: 0.0029\n",
            "Epoch 490/5001/1 - 0s - loss: 0.0029\n",
            "Epoch 491/5001/1 - 0s - loss: 0.0029\n",
            "Epoch 492/5001/1 - 0s - loss: 0.0028\n",
            "Epoch 493/5001/1 - 0s - loss: 0.0028\n",
            "Epoch 494/5001/1 - 0s - loss: 0.0028\n",
            "Epoch 495/5001/1 - 0s - loss: 0.0028\n",
            "Epoch 496/5001/1 - 0s - loss: 0.0028\n",
            "Epoch 497/5001/1 - 0s - loss: 0.0027\n",
            "Epoch 498/5001/1 - 0s - loss: 0.0027\n",
            "Epoch 499/5001/1 - 0s - loss: 0.0027\n",
            "Epoch 500/5001/1 - 0s - loss: 0.0027\n"
          ],
          "name": "stdout"
        }
      ]
    },
    {
      "cell_type": "code",
      "metadata": {
        "id": "jGR3N2VcZfr7",
        "colab_type": "code",
        "outputId": "e7a0c93f-11c8-4c10-da3c-481050e9da48",
        "colab": {
          "base_uri": "https://localhost:8080/",
          "height": 35
        }
      },
      "source": [
        "print(prediction)"
      ],
      "execution_count": 11,
      "outputs": [
        {
          "output_type": "stream",
          "text": [
            "[4.074577]\n"
          ],
          "name": "stdout"
        }
      ]
    },
    {
      "cell_type": "markdown",
      "metadata": {
        "id": "s-6HHPNjA56z",
        "colab_type": "text"
      },
      "source": [
        "****************************************************************************************************"
      ]
    },
    {
      "cell_type": "markdown",
      "metadata": {
        "id": "zzDyOLrwGH3R",
        "colab_type": "text"
      },
      "source": [
        "# **3. Computer Vision - Fashion MNIST**"
      ]
    },
    {
      "cell_type": "code",
      "metadata": {
        "id": "vY4vUSYHGna9",
        "colab_type": "code",
        "colab": {}
      },
      "source": [
        "import tensorflow as tf"
      ],
      "execution_count": 0,
      "outputs": []
    },
    {
      "cell_type": "code",
      "metadata": {
        "id": "hNWh4VGbGRlh",
        "colab_type": "code",
        "colab": {}
      },
      "source": [
        "mnist = tf.keras.datasets.fashion_mnist"
      ],
      "execution_count": 0,
      "outputs": []
    },
    {
      "cell_type": "markdown",
      "metadata": {
        "id": "fOLJaqvmGtQi",
        "colab_type": "text"
      },
      "source": [
        "Calling load_data on this object will give you two sets of two lists, these will be the training and testing values for the graphics that contain the clothing items and their labels.\n"
      ]
    },
    {
      "cell_type": "code",
      "metadata": {
        "id": "NbQGsiZWGmT6",
        "colab_type": "code",
        "colab": {}
      },
      "source": [
        "(training_images, training_labels), (test_images, test_labels) = mnist.load_data()"
      ],
      "execution_count": 0,
      "outputs": []
    },
    {
      "cell_type": "markdown",
      "metadata": {
        "id": "uTvvYtQa7PvW",
        "colab_type": "text"
      },
      "source": [
        "## Representing the image\n",
        "Showing the grey scale image in an array\n",
        "You'll notice that all of the values in the number are between 0 and 255."
      ]
    },
    {
      "cell_type": "code",
      "metadata": {
        "id": "avzzc_djGwCh",
        "colab_type": "code",
        "colab": {
          "base_uri": "https://localhost:8080/",
          "height": 791
        },
        "outputId": "85617f4d-ba36-4f8e-9619-1be84e19240d"
      },
      "source": [
        "import numpy as np\n",
        "np.set_printoptions(linewidth=200)\n",
        "import matplotlib.pyplot as plt\n",
        "plt.imshow(training_images[0])\n",
        "print(training_labels[0])\n",
        "print(training_images[0])"
      ],
      "execution_count": 15,
      "outputs": [
        {
          "output_type": "stream",
          "text": [
            "9\n",
            "[[  0   0   0   0   0   0   0   0   0   0   0   0   0   0   0   0   0   0   0   0   0   0   0   0   0   0   0   0]\n",
            " [  0   0   0   0   0   0   0   0   0   0   0   0   0   0   0   0   0   0   0   0   0   0   0   0   0   0   0   0]\n",
            " [  0   0   0   0   0   0   0   0   0   0   0   0   0   0   0   0   0   0   0   0   0   0   0   0   0   0   0   0]\n",
            " [  0   0   0   0   0   0   0   0   0   0   0   0   1   0   0  13  73   0   0   1   4   0   0   0   0   1   1   0]\n",
            " [  0   0   0   0   0   0   0   0   0   0   0   0   3   0  36 136 127  62  54   0   0   0   1   3   4   0   0   3]\n",
            " [  0   0   0   0   0   0   0   0   0   0   0   0   6   0 102 204 176 134 144 123  23   0   0   0   0  12  10   0]\n",
            " [  0   0   0   0   0   0   0   0   0   0   0   0   0   0 155 236 207 178 107 156 161 109  64  23  77 130  72  15]\n",
            " [  0   0   0   0   0   0   0   0   0   0   0   1   0  69 207 223 218 216 216 163 127 121 122 146 141  88 172  66]\n",
            " [  0   0   0   0   0   0   0   0   0   1   1   1   0 200 232 232 233 229 223 223 215 213 164 127 123 196 229   0]\n",
            " [  0   0   0   0   0   0   0   0   0   0   0   0   0 183 225 216 223 228 235 227 224 222 224 221 223 245 173   0]\n",
            " [  0   0   0   0   0   0   0   0   0   0   0   0   0 193 228 218 213 198 180 212 210 211 213 223 220 243 202   0]\n",
            " [  0   0   0   0   0   0   0   0   0   1   3   0  12 219 220 212 218 192 169 227 208 218 224 212 226 197 209  52]\n",
            " [  0   0   0   0   0   0   0   0   0   0   6   0  99 244 222 220 218 203 198 221 215 213 222 220 245 119 167  56]\n",
            " [  0   0   0   0   0   0   0   0   0   4   0   0  55 236 228 230 228 240 232 213 218 223 234 217 217 209  92   0]\n",
            " [  0   0   1   4   6   7   2   0   0   0   0   0 237 226 217 223 222 219 222 221 216 223 229 215 218 255  77   0]\n",
            " [  0   3   0   0   0   0   0   0   0  62 145 204 228 207 213 221 218 208 211 218 224 223 219 215 224 244 159   0]\n",
            " [  0   0   0   0  18  44  82 107 189 228 220 222 217 226 200 205 211 230 224 234 176 188 250 248 233 238 215   0]\n",
            " [  0  57 187 208 224 221 224 208 204 214 208 209 200 159 245 193 206 223 255 255 221 234 221 211 220 232 246   0]\n",
            " [  3 202 228 224 221 211 211 214 205 205 205 220 240  80 150 255 229 221 188 154 191 210 204 209 222 228 225   0]\n",
            " [ 98 233 198 210 222 229 229 234 249 220 194 215 217 241  65  73 106 117 168 219 221 215 217 223 223 224 229  29]\n",
            " [ 75 204 212 204 193 205 211 225 216 185 197 206 198 213 240 195 227 245 239 223 218 212 209 222 220 221 230  67]\n",
            " [ 48 203 183 194 213 197 185 190 194 192 202 214 219 221 220 236 225 216 199 206 186 181 177 172 181 205 206 115]\n",
            " [  0 122 219 193 179 171 183 196 204 210 213 207 211 210 200 196 194 191 195 191 198 192 176 156 167 177 210  92]\n",
            " [  0   0  74 189 212 191 175 172 175 181 185 188 189 188 193 198 204 209 210 210 211 188 188 194 192 216 170   0]\n",
            " [  2   0   0   0  66 200 222 237 239 242 246 243 244 221 220 193 191 179 182 182 181 176 166 168  99  58   0   0]\n",
            " [  0   0   0   0   0   0   0  40  61  44  72  41  35   0   0   0   0   0   0   0   0   0   0   0   0   0   0   0]\n",
            " [  0   0   0   0   0   0   0   0   0   0   0   0   0   0   0   0   0   0   0   0   0   0   0   0   0   0   0   0]\n",
            " [  0   0   0   0   0   0   0   0   0   0   0   0   0   0   0   0   0   0   0   0   0   0   0   0   0   0   0   0]]\n"
          ],
          "name": "stdout"
        },
        {
          "output_type": "display_data",
          "data": {
            "image/png": "[encoded data removed]",
            "text/plain": [
              "<Figure size 432x288 with 1 Axes>"
            ]
          },
          "metadata": {
            "tags": [],
            "needs_background": "light"
          }
        }
      ]
    },
    {
      "cell_type": "markdown",
      "metadata": {
        "id": "N96yoQUb7vqY",
        "colab_type": "text"
      },
      "source": [
        "## Normalizing\n",
        "If we are training a neural network, for various reasons it's easier if we treat all values as between 0 and 1, a process called '**normalizing**'...and fortunately in Python it's easy to normalize a list like this without looping. You do it like this:"
      ]
    },
    {
      "cell_type": "code",
      "metadata": {
        "id": "kyRuYUseG4x5",
        "colab_type": "code",
        "colab": {}
      },
      "source": [
        "training_images  = training_images / 255.0\n",
        "test_images = test_images / 255.0"
      ],
      "execution_count": 0,
      "outputs": []
    },
    {
      "cell_type": "markdown",
      "metadata": {
        "id": "ls9RB4kx399d",
        "colab_type": "text"
      },
      "source": [
        "## Model \n",
        "\n",
        "**Sequential**: That defines a SEQUENCE of layers in the neural network\n",
        "\n",
        "**Flatten**: Remember earlier where our images were a square, when you printed them out? Flatten just takes that square and turns it into a 1 dimensional set.\n",
        "\n",
        "**Dense**: Adds a layer of neurons\n",
        "\n",
        "**activation function**: Each layer of neurons need an activation function to tell them what to do. There's lots of options, but just use these for now. \n",
        "\n",
        "**Relu**: effectively means \"If X>0 return X, else return 0\" -- so what it does it it only passes values 0 or greater to the next layer in the network.\n",
        "\n",
        "*Softmax* takes a set of values, and effectively picks the biggest one, so, for example, if the output of the last layer looks like [0.1, 0.1, 0.05, 0.1, 9.5, 0.1, 0.05, 0.05, 0.05], it saves you from fishing through it looking for the biggest value, and turns it into [0,0,0,0,1,0,0,0,0] -- The goal is to save a lot of coding!"
      ]
    },
    {
      "cell_type": "code",
      "metadata": {
        "id": "jAuBE0uMHGjB",
        "colab_type": "code",
        "colab": {}
      },
      "source": [
        "model = tf.keras.models.Sequential([tf.keras.layers.Flatten(), \n",
        "                                    tf.keras.layers.Dense(128, activation=tf.nn.relu), \n",
        "                                    tf.keras.layers.Dense(10, activation=tf.nn.softmax)])"
      ],
      "execution_count": 0,
      "outputs": []
    },
    {
      "cell_type": "markdown",
      "metadata": {
        "id": "VygO4zOK8xcw",
        "colab_type": "text"
      },
      "source": [
        "\n",
        "**Few Questions:**<br>\n",
        "1.Increase to 1024 Neurons -- What's the impact?\n",
        "By adding more Neurons we have to do more calculations, slowing down the process, but in this case they have a good impact -- we do get more accurate. That doesn't mean it's always a case of 'more is better', you can hit the law of diminishing returns very quickly!\n",
        "\n",
        "2.What would happen if you remove the Flatten() layer. Why do you think that's the case?\n",
        "\n",
        "You get an error about the shape of the data. It may seem vague right now, but it reinforces the rule of thumb that the first layer in your network should be the same shape as your data. Right now our data is 28x28 images, and 28 layers of 28 neurons would be infeasible, so it makes more sense to 'flatten' that 28,28 into a 784x1. Instead of wriitng all the code to handle that ourselves, we add the Flatten() layer at the begining, and when the arrays are loaded into the model later, they'll automatically be flattened for us.\n",
        "\n",
        "3.Consider the final (output) layers. Why are there 10 of them? What would happen if you had a different amount than 10? For example, try training the network with 5\n",
        "\n",
        "You get an error as soon as it finds an unexpected value. Another rule of thumb -- the number of neurons in the last layer should match the number of classes you are classifying for. In this case it's the digits 0-9, so there are 10 of them, hence you should have 10 neurons in your final layer.\n",
        "\n",
        "4.Consider the effects of additional layers in the network. What will happen if you add another layer between the one with 512 and the final layer with 10. \n",
        "\n",
        "Ans: There isn't a significant impact -- because this is relatively simple data. For far more complex data (including color images to be classified as flowers that you'll see in the next lesson), extra layers are often necessary.\n",
        "\n",
        "5.Consider the impact of training for more or less epochs. Why do you think that would be the case? \n",
        "\n",
        "Try 15 epochs -- you'll probably get a model with a much better loss than the one with 5\n",
        "Try 30 epochs -- you might see the loss value stops decreasing, and sometimes increases. This is a side effect of something called 'overfitting' which you can learn about [somewhere] and it's something you need to keep an eye out for when training neural networks. There's no point in wasting your time training if you aren't improving your loss, right! :)"
      ]
    },
    {
      "cell_type": "markdown",
      "metadata": {
        "id": "Yy1hybEFH3Zb",
        "colab_type": "text"
      },
      "source": [
        "## Custom Callbacks\n",
        "To handle the lot of things that are output while model is fitting labels to data, for that we can handle it using custom callback function.\n",
        "Also we can stop training our models after they reach some perticular accuracy"
      ]
    },
    {
      "cell_type": "code",
      "metadata": {
        "id": "riuZsW_fJNYO",
        "colab_type": "code",
        "colab": {}
      },
      "source": [
        "class CustomCallBack(tf.keras.callbacks.Callback):\n",
        "    def __init__(self, epochs):\n",
        "        self.epochs = epochs\n",
        "\n",
        "    def set_params(self, params):\n",
        "        params['epochs'] = 0\n",
        "\n",
        "    def on_epoch_begin(self, epoch, logs=None):\n",
        "        print('Epoch %d/%d' % (epoch + 1, self.epochs), end='')\n",
        "\n",
        "    def on_epoch_end(self, epoch, logs={}):\n",
        "        print(logs.get('accuracy'))\n",
        "        if(logs.get('accuracy')>0.95):\n",
        "          print(\"\\nReached 95% accuracy so cancelling training!\")\n",
        "          self.model.stop_training = True"
      ],
      "execution_count": 0,
      "outputs": []
    },
    {
      "cell_type": "markdown",
      "metadata": {
        "id": "KPscKj8z9Bku",
        "colab_type": "text"
      },
      "source": [
        "## Fit the model\n",
        "Figure out the relationship between the training data and its actual labels, so in future if you have data that looks like the training data, then it can make a prediction for what that data would look like. "
      ]
    },
    {
      "cell_type": "code",
      "metadata": {
        "id": "ukMNMhmfHK3i",
        "colab_type": "code",
        "colab": {
          "base_uri": "https://localhost:8080/",
          "height": 1000
        },
        "outputId": "98f3271c-f521-4f14-af11-0d3d21849cb2"
      },
      "source": [
        "model.compile(optimizer = tf.optimizers.Adam(),\n",
        "              loss = 'sparse_categorical_crossentropy',\n",
        "              metrics=['accuracy'])\n",
        "model.fit(training_images, training_labels, epochs=50, verbose=2, callbacks=[CustomCallBack(50)])"
      ],
      "execution_count": 19,
      "outputs": [
        {
          "output_type": "stream",
          "text": [
            "Epoch 1/500.8236333131790161\n",
            "1875/1875 - 3s - loss: 0.4995 - accuracy: 0.8236\n",
            "Epoch 2/500.8652333617210388\n",
            "1875/1875 - 3s - loss: 0.3757 - accuracy: 0.8652\n",
            "Epoch 3/500.8764500021934509\n",
            "1875/1875 - 3s - loss: 0.3381 - accuracy: 0.8765\n",
            "Epoch 4/500.8861666917800903\n",
            "1875/1875 - 3s - loss: 0.3105 - accuracy: 0.8862\n",
            "Epoch 5/500.8923333287239075\n",
            "1875/1875 - 3s - loss: 0.2938 - accuracy: 0.8923\n",
            "Epoch 6/500.8955833315849304\n",
            "1875/1875 - 3s - loss: 0.2813 - accuracy: 0.8956\n",
            "Epoch 7/500.9003999829292297\n",
            "1875/1875 - 3s - loss: 0.2683 - accuracy: 0.9004\n",
            "Epoch 8/500.9044833183288574\n",
            "1875/1875 - 3s - loss: 0.2584 - accuracy: 0.9045\n",
            "Epoch 9/500.9070833325386047\n",
            "1875/1875 - 3s - loss: 0.2481 - accuracy: 0.9071\n",
            "Epoch 10/500.9104833602905273\n",
            "1875/1875 - 3s - loss: 0.2389 - accuracy: 0.9105\n",
            "Epoch 11/500.9147499799728394\n",
            "1875/1875 - 3s - loss: 0.2300 - accuracy: 0.9147\n",
            "Epoch 12/500.9160000085830688\n",
            "1875/1875 - 3s - loss: 0.2260 - accuracy: 0.9160\n",
            "Epoch 13/500.9189500212669373\n",
            "1875/1875 - 3s - loss: 0.2177 - accuracy: 0.9190\n",
            "Epoch 14/500.9201333522796631\n",
            "1875/1875 - 3s - loss: 0.2116 - accuracy: 0.9201\n",
            "Epoch 15/500.9234833121299744\n",
            "1875/1875 - 3s - loss: 0.2055 - accuracy: 0.9235\n",
            "Epoch 16/500.9254000186920166\n",
            "1875/1875 - 3s - loss: 0.1986 - accuracy: 0.9254\n",
            "Epoch 17/500.9273666739463806\n",
            "1875/1875 - 3s - loss: 0.1944 - accuracy: 0.9274\n",
            "Epoch 18/500.9298999905586243\n",
            "1875/1875 - 3s - loss: 0.1892 - accuracy: 0.9299\n",
            "Epoch 19/500.9309333562850952\n",
            "1875/1875 - 3s - loss: 0.1856 - accuracy: 0.9309\n",
            "Epoch 20/500.9314333200454712\n",
            "1875/1875 - 3s - loss: 0.1812 - accuracy: 0.9314\n",
            "Epoch 21/500.9340500235557556\n",
            "1875/1875 - 3s - loss: 0.1764 - accuracy: 0.9341\n",
            "Epoch 22/500.934149980545044\n",
            "1875/1875 - 3s - loss: 0.1731 - accuracy: 0.9341\n",
            "Epoch 23/500.9367833137512207\n",
            "1875/1875 - 3s - loss: 0.1695 - accuracy: 0.9368\n",
            "Epoch 24/500.9384833574295044\n",
            "1875/1875 - 3s - loss: 0.1630 - accuracy: 0.9385\n",
            "Epoch 25/500.9386166930198669\n",
            "1875/1875 - 3s - loss: 0.1624 - accuracy: 0.9386\n",
            "Epoch 26/500.9416166543960571\n",
            "1875/1875 - 3s - loss: 0.1575 - accuracy: 0.9416\n",
            "Epoch 27/500.9413833618164062\n",
            "1875/1875 - 3s - loss: 0.1548 - accuracy: 0.9414\n",
            "Epoch 28/500.9428499937057495\n",
            "1875/1875 - 3s - loss: 0.1504 - accuracy: 0.9428\n",
            "Epoch 29/500.9444833397865295\n",
            "1875/1875 - 3s - loss: 0.1486 - accuracy: 0.9445\n",
            "Epoch 30/500.9467999935150146\n",
            "1875/1875 - 3s - loss: 0.1443 - accuracy: 0.9468\n",
            "Epoch 31/500.9465000033378601\n",
            "1875/1875 - 3s - loss: 0.1415 - accuracy: 0.9465\n",
            "Epoch 32/500.9472166895866394\n",
            "1875/1875 - 3s - loss: 0.1398 - accuracy: 0.9472\n",
            "Epoch 33/500.9472666382789612\n",
            "1875/1875 - 3s - loss: 0.1385 - accuracy: 0.9473\n",
            "Epoch 34/500.9499833583831787\n",
            "1875/1875 - 3s - loss: 0.1331 - accuracy: 0.9500\n",
            "Epoch 35/500.950083315372467\n",
            "\n",
            "Reached 95% accuracy so cancelling training!\n",
            "1875/1875 - 3s - loss: 0.1316 - accuracy: 0.9501\n"
          ],
          "name": "stdout"
        },
        {
          "output_type": "execute_result",
          "data": {
            "text/plain": [
              "<tensorflow.python.keras.callbacks.History at 0x7f61945fb710>"
            ]
          },
          "metadata": {
            "tags": []
          },
          "execution_count": 19
        }
      ]
    },
    {
      "cell_type": "markdown",
      "metadata": {
        "id": "O8cljX7xILmr",
        "colab_type": "text"
      },
      "source": [
        "## Evaluate\n",
        "Once it's done training -- you should see an accuracy value at the end of the final epoch. It might look something like 0.89. This tells you that your neural network is about 89% accurate in classifying the training data. I.E., it figured out a pattern match between the image and the labels that worked 91% of the time. Not great, but not bad considering it was only trained for 5 epochs and done quite quickly.\n",
        "\n",
        "But how would it work with unseen data? That's why we have the test images. We can call model.evaluate, and pass in the two sets, and it will report back the loss for each. Let's give it a try:"
      ]
    },
    {
      "cell_type": "code",
      "metadata": {
        "id": "skQBc1S3H5th",
        "colab_type": "code",
        "colab": {
          "base_uri": "https://localhost:8080/",
          "height": 54
        },
        "outputId": "1fbaeb9e-b75f-44da-aa78-5be3b9325f6a"
      },
      "source": [
        "model.evaluate(test_images, test_labels)"
      ],
      "execution_count": 20,
      "outputs": [
        {
          "output_type": "stream",
          "text": [
            "313/313 [==============================] - 0s 1ms/step - loss: 0.4240 - accuracy: 0.8831\n"
          ],
          "name": "stdout"
        },
        {
          "output_type": "execute_result",
          "data": {
            "text/plain": [
              "[0.4239528179168701, 0.8830999732017517]"
            ]
          },
          "metadata": {
            "tags": []
          },
          "execution_count": 20
        }
      ]
    },
    {
      "cell_type": "code",
      "metadata": {
        "id": "tg46kl-GITkp",
        "colab_type": "code",
        "colab": {
          "base_uri": "https://localhost:8080/",
          "height": 35
        },
        "outputId": "e37be408-c800-4d2e-fc8e-24e883f96733"
      },
      "source": [
        "classifications = model.predict(test_images)\n",
        "\n",
        "print(classifications[0])"
      ],
      "execution_count": 21,
      "outputs": [
        {
          "output_type": "stream",
          "text": [
            "[1.8887076e-14 4.0321366e-18 8.2243316e-15 8.3544621e-20 1.4591125e-18 4.2539699e-07 1.6922129e-14 3.8379374e-05 2.1193511e-14 9.9996114e-01]\n"
          ],
          "name": "stdout"
        }
      ]
    },
    {
      "cell_type": "markdown",
      "metadata": {
        "id": "7yl2pKGv28s2",
        "colab_type": "text"
      },
      "source": [
        "The output of the model is a list of 10 numbers. These numbers are a probability that the value being classified is the corresponding value, i.e. the first value in the list is the probability that the handwriting is of a '0', the next is a '1' etc. Notice that they are all VERY LOW probabilities.\n"
      ]
    },
    {
      "cell_type": "code",
      "metadata": {
        "id": "wP2F-aLQNqWa",
        "colab_type": "code",
        "colab": {
          "base_uri": "https://localhost:8080/",
          "height": 35
        },
        "outputId": "9c37e9f8-f324-486c-8dd2-dc977a08c259"
      },
      "source": [
        "print(test_labels[0])"
      ],
      "execution_count": 22,
      "outputs": [
        {
          "output_type": "stream",
          "text": [
            "9\n"
          ],
          "name": "stdout"
        }
      ]
    },
    {
      "cell_type": "markdown",
      "metadata": {
        "id": "uEw4Vfru3ClN",
        "colab_type": "text"
      },
      "source": [
        "Both the list and the labels are 0 based, so the ankle boot having label 9 means that it is the 10th of the 10 classes. The list having the 10th element being the highest value means that the Neural Network has predicted that the item it is classifying is most likely an ankle boot"
      ]
    }
  ]
}