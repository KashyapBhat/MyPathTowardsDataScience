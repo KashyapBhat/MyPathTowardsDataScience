{
  "nbformat": 4,
  "nbformat_minor": 0,
  "metadata": {
    "colab": {
      "name": "Tensorflow Studies.ipynb",
      "provenance": [],
      "collapsed_sections": [],
      "authorship_tag": "ABX9TyNi+1l3E+Vw1IRukDZRkehe",
      "include_colab_link": true
    },
    "kernelspec": {
      "name": "python3",
      "display_name": "Python 3"
    }
  },
  "cells": [
    {
      "cell_type": "markdown",
      "metadata": {
        "id": "view-in-github",
        "colab_type": "text"
      },
      "source": [
        "<a href=\"https://colab.research.google.com/github/KashyapBhat/MyPathTowardsMachineLearning/blob/master/Tensorflow_Studies.ipynb\" target=\"_parent\"><img src=\"https://colab.research.google.com/assets/colab-badge.svg\" alt=\"Open In Colab\"/></a>"
      ]
    },
    {
      "cell_type": "markdown",
      "metadata": {
        "id": "zirikWJ7SPN7",
        "colab_type": "text"
      },
      "source": [
        "# Tensorflow"
      ]
    },
    {
      "cell_type": "markdown",
      "metadata": {
        "id": "lEAmV4MaSF6r",
        "colab_type": "text"
      },
      "source": [
        "### Why Machine Learning\n",
        "\n",
        "Like every first app you should start with something super simple that shows the overall scaffolding for how your code works. \n",
        "\n",
        "In the case of creating neural networks, the sample I like to use is one where it learns the relationship between two numbers. So, for example, if you were writing code for a function like this, you already know the 'rules' — \n",
        "\n",
        "\n",
        "```\n",
        "float hw_function(float x){\n",
        "    float y = (2 * x) - 1;\n",
        "    return y;\n",
        "}\n",
        "```\n",
        "\n",
        "So how would you train a neural network to do the equivalent task? Using data! By feeding it with a set of Xs, and a set of Ys, it should be able to figure out the relationship between them. \n",
        "\n",
        "This is obviously a very different paradigm than what you might be used to, so let's step through it piece by piece.\n"
      ]
    },
    {
      "cell_type": "markdown",
      "metadata": {
        "id": "MciqCYe3VANJ",
        "colab_type": "text"
      },
      "source": [
        "****************************************************************************************************"
      ]
    },
    {
      "cell_type": "markdown",
      "metadata": {
        "id": "GKXHnXytUOLm",
        "colab_type": "text"
      },
      "source": [
        "# **1. Simple example problem using tf**"
      ]
    },
    {
      "cell_type": "markdown",
      "metadata": {
        "id": "fupjr1XcTlVn",
        "colab_type": "text"
      },
      "source": [
        "### Lets get started\n",
        "We then import a library called numpy, which helps us to represent our data as lists easily and quickly.\n",
        "The framework for defining a neural network as a set of Sequential layers is called keras, so we import that too."
      ]
    },
    {
      "cell_type": "code",
      "metadata": {
        "id": "HhDGUezBSIAD",
        "colab_type": "code",
        "colab": {}
      },
      "source": [
        "\n",
        "\n",
        "import tensorflow as tf\n",
        "import numpy as np\n",
        "from tensorflow import keras"
      ],
      "execution_count": 0,
      "outputs": []
    },
    {
      "cell_type": "markdown",
      "metadata": {
        "id": "iY4rL3vUSevH",
        "colab_type": "text"
      },
      "source": [
        "### Define the Neural Network\n",
        "\n",
        "Next we will create the simplest possible neural network. It has 1 layer, and that layer has 1 neuron, and the input shape to it is just 1 value.\n"
      ]
    },
    {
      "cell_type": "code",
      "metadata": {
        "id": "7ccen0XQSbuz",
        "colab_type": "code",
        "colab": {}
      },
      "source": [
        "model = tf.keras.Sequential([keras.layers.Dense(units=1, input_shape=[1])])"
      ],
      "execution_count": 0,
      "outputs": []
    },
    {
      "cell_type": "markdown",
      "metadata": {
        "id": "-9U5TWZSS7-e",
        "colab_type": "text"
      },
      "source": [
        "### Compile the Neural Network\n",
        "\n",
        "Now we compile our Neural Network. When we do so, we have to specify 2 functions, a loss and an optimizer.\n",
        "\n",
        "If you've seen lots of math for machine learning, here's where it's usually used, but in this case it's nicely encapsulated in functions for you. But what happens here — let's explain...\n",
        "\n",
        "We know that in our function, the relationship between the numbers is y=2x-1. \n",
        "\n",
        "When the computer is trying to 'learn' that, it makes a guess...maybe y=10x+10. The LOSS function measures the guessed answers against the known correct answers and measures how well or how badly it did.\n",
        "\n",
        "It then uses the OPTIMIZER function to make another guess. Based on how the loss function went, it will try to minimize the loss. At that point maybe it will come up with somehting like y=5x+5, which, while still pretty bad, is closer to the correct result (i.e. the loss is lower)\n",
        "\n",
        "It will repeat this for the number of EPOCHS which you will see shortly. But first, here's how we tell it to use 'MEAN SQUARED ERROR' for the loss and 'STOCHASTIC GRADIENT DESCENT' for the optimizer. You don't need to understand the math for these yet, but you can see that they work! :)\n",
        "\n",
        "Over time you will learn the different and appropriate loss and optimizer functions for different scenarios. \n"
      ]
    },
    {
      "cell_type": "code",
      "metadata": {
        "id": "_Xb32wNrSfHA",
        "colab_type": "code",
        "colab": {}
      },
      "source": [
        "model.compile(optimizer='sgd', loss='mean_squared_error')"
      ],
      "execution_count": 0,
      "outputs": []
    },
    {
      "cell_type": "markdown",
      "metadata": {
        "id": "gaScdreVTBuV",
        "colab_type": "text"
      },
      "source": [
        "## Providing the Data\n",
        "\n",
        "Next up we'll feed in some data. In this case we are taking 6 xs and 6ys. You can see that the relationship between these is that y=2x-1, so where x = -1, y=-3 etc. etc. \n",
        "\n",
        "A python library called 'Numpy' provides lots of array type data structures that are a defacto standard way of doing it. We declare that we want to use these by specifying the values as an np.array[]"
      ]
    },
    {
      "cell_type": "code",
      "metadata": {
        "id": "w30bccAKS5Lf",
        "colab_type": "code",
        "colab": {}
      },
      "source": [
        "xs = np.array([-1.0,  0.0, 1.0, 2.0, 3.0, 4.0], dtype=float)\n",
        "ys = np.array([-3.0, -1.0, 1.0, 3.0, 5.0, 7.0], dtype=float)"
      ],
      "execution_count": 0,
      "outputs": []
    },
    {
      "cell_type": "markdown",
      "metadata": {
        "id": "r3Dfqe1tTLrd",
        "colab_type": "text"
      },
      "source": [
        "### Training the model\n",
        "\n",
        "The process of training the neural network, where it 'learns' the relationship between the Xs and Ys is in the **model.fit**  call. This is where it will go through the loop we spoke about above, making a guess, measuring how good or bad it is (aka the loss), using the opimizer to make another guess etc. It will do it for the number of epochs you specify. When you run this code, you'll see the loss on the right hand side."
      ]
    },
    {
      "cell_type": "code",
      "metadata": {
        "id": "yOdO9TVJTOt6",
        "colab_type": "code",
        "outputId": "0fee71bc-c802-474e-afed-bf41a14233be",
        "colab": {
          "base_uri": "https://localhost:8080/",
          "height": 35
        }
      },
      "source": [
        "model.fit(xs, ys, epochs=500,verbose=0)"
      ],
      "execution_count": 5,
      "outputs": [
        {
          "output_type": "execute_result",
          "data": {
            "text/plain": [
              "<tensorflow.python.keras.callbacks.History at 0x7f3b6e637d68>"
            ]
          },
          "metadata": {
            "tags": []
          },
          "execution_count": 5
        }
      ]
    },
    {
      "cell_type": "markdown",
      "metadata": {
        "id": "oN6IqZxUTabM",
        "colab_type": "text"
      },
      "source": [
        "### Make a prediction\n",
        "\n",
        "Ok, now you have a model that has been trained to learn the relationshop between X and Y. You can use the **model.predict** method to have it figure out the Y for a previously unknown X. So, for example, if X = 10, what do you think Y will be? Take a guess before you run this code:"
      ]
    },
    {
      "cell_type": "code",
      "metadata": {
        "id": "-dTQdp87TQ0Y",
        "colab_type": "code",
        "outputId": "d3cc7247-c260-444d-e10f-9bb83e8baa18",
        "colab": {
          "base_uri": "https://localhost:8080/",
          "height": 35
        }
      },
      "source": [
        "print(model.predict([10.0]))"
      ],
      "execution_count": 6,
      "outputs": [
        {
          "output_type": "stream",
          "text": [
            "[[18.975718]]\n"
          ],
          "name": "stdout"
        }
      ]
    },
    {
      "cell_type": "markdown",
      "metadata": {
        "id": "XZhlG9l0Tdiv",
        "colab_type": "text"
      },
      "source": [
        "You might have thought 19, right? But it ended up being a little under. Why do you think that is? \n",
        "\n",
        "Remember that neural networks deal with probabilities, so given the data that we fed the NN with, it calculated that there is a very high probability that the relationship between X and Y is Y=2X-1, but with only 6 data points we can't know for sure. As a result, the result for 10 is very close to 19, but not necessarily 19. \n",
        "\n",
        "As you work with neural networks, you'll see this pattern recurring. You will almost always deal with probabilities, not certainties, and will do a little bit of coding to figure out what the result is based on the probabilities, particularly when it comes to classification.\n"
      ]
    },
    {
      "cell_type": "markdown",
      "metadata": {
        "id": "67q6VXzxUrC8",
        "colab_type": "text"
      },
      "source": [
        "**********************************************************************************************"
      ]
    },
    {
      "cell_type": "markdown",
      "metadata": {
        "id": "XwK2XhCiZOs2",
        "colab_type": "text"
      },
      "source": [
        "# **2. House price prediction**"
      ]
    },
    {
      "cell_type": "markdown",
      "metadata": {
        "id": "DB5eTwRFZXL7",
        "colab_type": "text"
      },
      "source": [
        "In this exercise you'll try to build a neural network that predicts the price of a house according to a simple formula.\n",
        "\n",
        "So, imagine if house pricing was as easy as a house costs 50k + 50k per bedroom, so that a 1 bedroom house costs 100k, a 2 bedroom house costs 150k etc.\n",
        "\n",
        "How would you create a neural network that learns this relationship so that it would predict a 7 bedroom house as costing close to 400k etc.\n",
        "\n",
        "Hint: Your network might work better if you scale the house price down. You don't have to give the answer 400...it might be better to create something that predicts the number 4, and then your answer is in the 'hundreds of thousands' etc."
      ]
    },
    {
      "cell_type": "code",
      "metadata": {
        "id": "5IyW62ajU7FZ",
        "colab_type": "code",
        "colab": {}
      },
      "source": [
        "import tensorflow as tf\n",
        "import numpy as np\n",
        "from tensorflow import keras"
      ],
      "execution_count": 0,
      "outputs": []
    },
    {
      "cell_type": "code",
      "metadata": {
        "id": "QoPKS-hl_BeY",
        "colab_type": "code",
        "colab": {}
      },
      "source": [
        "class PrintLogs(tf.keras.callbacks.Callback):\n",
        "    def __init__(self, epochs):\n",
        "        self.epochs = epochs\n",
        "\n",
        "    def set_params(self, params):\n",
        "        params['epochs'] = 0\n",
        "\n",
        "    def on_epoch_begin(self, epoch, logs=None):\n",
        "        print('Epoch %d/%d' % (epoch + 1, self.epochs), end='')"
      ],
      "execution_count": 0,
      "outputs": []
    },
    {
      "cell_type": "code",
      "metadata": {
        "id": "reI1VQY1ZaC_",
        "colab_type": "code",
        "colab": {}
      },
      "source": [
        "# GRADED FUNCTION: house_model\n",
        "def house_model(y_new):\n",
        "    xs = np.array([1,2,3,4,5,6], dtype=float)\n",
        "    ys = np.array([1,1.5,2,2.5,3,3.5], dtype=float)\n",
        "    model = tf.keras.Sequential([keras.layers.Dense(units=1, input_shape=[1])])\n",
        "    model.compile(optimizer='sgd', loss='mean_squared_error')\n",
        "    model.fit(xs, ys, epochs=500, verbose=2, callbacks=[PrintLogs(500)])\n",
        "    return model.predict(y_new)[0]"
      ],
      "execution_count": 0,
      "outputs": []
    },
    {
      "cell_type": "code",
      "metadata": {
        "id": "HYi81vWFZb2J",
        "colab_type": "code",
        "outputId": "08f5686f-8ba8-45b5-b814-c882f8ce7405",
        "colab": {
          "base_uri": "https://localhost:8080/",
          "height": 1000
        }
      },
      "source": [
        "prediction = house_model([7.0])"
      ],
      "execution_count": 10,
      "outputs": [
        {
          "output_type": "stream",
          "text": [
            "Epoch 1/5001/1 - 0s - loss: 11.3019\n",
            "Epoch 2/5001/1 - 0s - loss: 5.2406\n",
            "Epoch 3/5001/1 - 0s - loss: 2.4352\n",
            "Epoch 4/5001/1 - 0s - loss: 1.1367\n",
            "Epoch 5/5001/1 - 0s - loss: 0.5356\n",
            "Epoch 6/5001/1 - 0s - loss: 0.2573\n",
            "Epoch 7/5001/1 - 0s - loss: 0.1285\n",
            "Epoch 8/5001/1 - 0s - loss: 0.0688\n",
            "Epoch 9/5001/1 - 0s - loss: 0.0411\n",
            "Epoch 10/5001/1 - 0s - loss: 0.0282\n",
            "Epoch 11/5001/1 - 0s - loss: 0.0222\n",
            "Epoch 12/5001/1 - 0s - loss: 0.0193\n",
            "Epoch 13/5001/1 - 0s - loss: 0.0179\n",
            "Epoch 14/5001/1 - 0s - loss: 0.0172\n",
            "Epoch 15/5001/1 - 0s - loss: 0.0168\n",
            "Epoch 16/5001/1 - 0s - loss: 0.0166\n",
            "Epoch 17/5001/1 - 0s - loss: 0.0164\n",
            "Epoch 18/5001/1 - 0s - loss: 0.0162\n",
            "Epoch 19/5001/1 - 0s - loss: 0.0161\n",
            "Epoch 20/5001/1 - 0s - loss: 0.0160\n",
            "Epoch 21/5001/1 - 0s - loss: 0.0159\n",
            "Epoch 22/5001/1 - 0s - loss: 0.0157\n",
            "Epoch 23/5001/1 - 0s - loss: 0.0156\n",
            "Epoch 24/5001/1 - 0s - loss: 0.0155\n",
            "Epoch 25/5001/1 - 0s - loss: 0.0154\n",
            "Epoch 26/5001/1 - 0s - loss: 0.0153\n",
            "Epoch 27/5001/1 - 0s - loss: 0.0152\n",
            "Epoch 28/5001/1 - 0s - loss: 0.0151\n",
            "Epoch 29/5001/1 - 0s - loss: 0.0150\n",
            "Epoch 30/5001/1 - 0s - loss: 0.0149\n",
            "Epoch 31/5001/1 - 0s - loss: 0.0147\n",
            "Epoch 32/5001/1 - 0s - loss: 0.0146\n",
            "Epoch 33/5001/1 - 0s - loss: 0.0145\n",
            "Epoch 34/5001/1 - 0s - loss: 0.0144\n",
            "Epoch 35/5001/1 - 0s - loss: 0.0143\n",
            "Epoch 36/5001/1 - 0s - loss: 0.0142\n",
            "Epoch 37/5001/1 - 0s - loss: 0.0141\n",
            "Epoch 38/5001/1 - 0s - loss: 0.0140\n",
            "Epoch 39/5001/1 - 0s - loss: 0.0139\n",
            "Epoch 40/5001/1 - 0s - loss: 0.0138\n",
            "Epoch 41/5001/1 - 0s - loss: 0.0137\n",
            "Epoch 42/5001/1 - 0s - loss: 0.0136\n",
            "Epoch 43/5001/1 - 0s - loss: 0.0135\n",
            "Epoch 44/5001/1 - 0s - loss: 0.0134\n",
            "Epoch 45/5001/1 - 0s - loss: 0.0133\n",
            "Epoch 46/5001/1 - 0s - loss: 0.0132\n",
            "Epoch 47/5001/1 - 0s - loss: 0.0131\n",
            "Epoch 48/5001/1 - 0s - loss: 0.0130\n",
            "Epoch 49/5001/1 - 0s - loss: 0.0129\n",
            "Epoch 50/5001/1 - 0s - loss: 0.0128\n",
            "Epoch 51/5001/1 - 0s - loss: 0.0127\n",
            "Epoch 52/5001/1 - 0s - loss: 0.0126\n",
            "Epoch 53/5001/1 - 0s - loss: 0.0126\n",
            "Epoch 54/5001/1 - 0s - loss: 0.0125\n",
            "Epoch 55/5001/1 - 0s - loss: 0.0124\n",
            "Epoch 56/5001/1 - 0s - loss: 0.0123\n",
            "Epoch 57/5001/1 - 0s - loss: 0.0122\n",
            "Epoch 58/5001/1 - 0s - loss: 0.0121\n",
            "Epoch 59/5001/1 - 0s - loss: 0.0120\n",
            "Epoch 60/5001/1 - 0s - loss: 0.0119\n",
            "Epoch 61/5001/1 - 0s - loss: 0.0118\n",
            "Epoch 62/5001/1 - 0s - loss: 0.0118\n",
            "Epoch 63/5001/1 - 0s - loss: 0.0117\n",
            "Epoch 64/5001/1 - 0s - loss: 0.0116\n",
            "Epoch 65/5001/1 - 0s - loss: 0.0115\n",
            "Epoch 66/5001/1 - 0s - loss: 0.0114\n",
            "Epoch 67/5001/1 - 0s - loss: 0.0113\n",
            "Epoch 68/5001/1 - 0s - loss: 0.0112\n",
            "Epoch 69/5001/1 - 0s - loss: 0.0112\n",
            "Epoch 70/5001/1 - 0s - loss: 0.0111\n",
            "Epoch 71/5001/1 - 0s - loss: 0.0110\n",
            "Epoch 72/5001/1 - 0s - loss: 0.0109\n",
            "Epoch 73/5001/1 - 0s - loss: 0.0108\n",
            "Epoch 74/5001/1 - 0s - loss: 0.0108\n",
            "Epoch 75/5001/1 - 0s - loss: 0.0107\n",
            "Epoch 76/5001/1 - 0s - loss: 0.0106\n",
            "Epoch 77/5001/1 - 0s - loss: 0.0105\n",
            "Epoch 78/5001/1 - 0s - loss: 0.0105\n",
            "Epoch 79/5001/1 - 0s - loss: 0.0104\n",
            "Epoch 80/5001/1 - 0s - loss: 0.0103\n",
            "Epoch 81/5001/1 - 0s - loss: 0.0102\n",
            "Epoch 82/5001/1 - 0s - loss: 0.0102\n",
            "Epoch 83/5001/1 - 0s - loss: 0.0101\n",
            "Epoch 84/5001/1 - 0s - loss: 0.0100\n",
            "Epoch 85/5001/1 - 0s - loss: 0.0099\n",
            "Epoch 86/5001/1 - 0s - loss: 0.0099\n",
            "Epoch 87/5001/1 - 0s - loss: 0.0098\n",
            "Epoch 88/5001/1 - 0s - loss: 0.0097\n",
            "Epoch 89/5001/1 - 0s - loss: 0.0096\n",
            "Epoch 90/5001/1 - 0s - loss: 0.0096\n",
            "Epoch 91/5001/1 - 0s - loss: 0.0095\n",
            "Epoch 92/5001/1 - 0s - loss: 0.0094\n",
            "Epoch 93/5001/1 - 0s - loss: 0.0094\n",
            "Epoch 94/5001/1 - 0s - loss: 0.0093\n",
            "Epoch 95/5001/1 - 0s - loss: 0.0092\n",
            "Epoch 96/5001/1 - 0s - loss: 0.0092\n",
            "Epoch 97/5001/1 - 0s - loss: 0.0091\n",
            "Epoch 98/5001/1 - 0s - loss: 0.0090\n",
            "Epoch 99/5001/1 - 0s - loss: 0.0090\n",
            "Epoch 100/5001/1 - 0s - loss: 0.0089\n",
            "Epoch 101/5001/1 - 0s - loss: 0.0088\n",
            "Epoch 102/5001/1 - 0s - loss: 0.0088\n",
            "Epoch 103/5001/1 - 0s - loss: 0.0087\n",
            "Epoch 104/5001/1 - 0s - loss: 0.0086\n",
            "Epoch 105/5001/1 - 0s - loss: 0.0086\n",
            "Epoch 106/5001/1 - 0s - loss: 0.0085\n",
            "Epoch 107/5001/1 - 0s - loss: 0.0085\n",
            "Epoch 108/5001/1 - 0s - loss: 0.0084\n",
            "Epoch 109/5001/1 - 0s - loss: 0.0083\n",
            "Epoch 110/5001/1 - 0s - loss: 0.0083\n",
            "Epoch 111/5001/1 - 0s - loss: 0.0082\n",
            "Epoch 112/5001/1 - 0s - loss: 0.0082\n",
            "Epoch 113/5001/1 - 0s - loss: 0.0081\n",
            "Epoch 114/5001/1 - 0s - loss: 0.0080\n",
            "Epoch 115/5001/1 - 0s - loss: 0.0080\n",
            "Epoch 116/5001/1 - 0s - loss: 0.0079\n",
            "Epoch 117/5001/1 - 0s - loss: 0.0079\n",
            "Epoch 118/5001/1 - 0s - loss: 0.0078\n",
            "Epoch 119/5001/1 - 0s - loss: 0.0077\n",
            "Epoch 120/5001/1 - 0s - loss: 0.0077\n",
            "Epoch 121/5001/1 - 0s - loss: 0.0076\n",
            "Epoch 122/5001/1 - 0s - loss: 0.0076\n",
            "Epoch 123/5001/1 - 0s - loss: 0.0075\n",
            "Epoch 124/5001/1 - 0s - loss: 0.0075\n",
            "Epoch 125/5001/1 - 0s - loss: 0.0074\n",
            "Epoch 126/5001/1 - 0s - loss: 0.0074\n",
            "Epoch 127/5001/1 - 0s - loss: 0.0073\n",
            "Epoch 128/5001/1 - 0s - loss: 0.0073\n",
            "Epoch 129/5001/1 - 0s - loss: 0.0072\n",
            "Epoch 130/5001/1 - 0s - loss: 0.0071\n",
            "Epoch 131/5001/1 - 0s - loss: 0.0071\n",
            "Epoch 132/5001/1 - 0s - loss: 0.0070\n",
            "Epoch 133/5001/1 - 0s - loss: 0.0070\n",
            "Epoch 134/5001/1 - 0s - loss: 0.0069\n",
            "Epoch 135/5001/1 - 0s - loss: 0.0069\n",
            "Epoch 136/5001/1 - 0s - loss: 0.0068\n",
            "Epoch 137/5001/1 - 0s - loss: 0.0068\n",
            "Epoch 138/5001/1 - 0s - loss: 0.0067\n",
            "Epoch 139/5001/1 - 0s - loss: 0.0067\n",
            "Epoch 140/5001/1 - 0s - loss: 0.0066\n",
            "Epoch 141/5001/1 - 0s - loss: 0.0066\n",
            "Epoch 142/5001/1 - 0s - loss: 0.0065\n",
            "Epoch 143/5001/1 - 0s - loss: 0.0065\n",
            "Epoch 144/5001/1 - 0s - loss: 0.0065\n",
            "Epoch 145/5001/1 - 0s - loss: 0.0064\n",
            "Epoch 146/5001/1 - 0s - loss: 0.0064\n",
            "Epoch 147/5001/1 - 0s - loss: 0.0063\n",
            "Epoch 148/5001/1 - 0s - loss: 0.0063\n",
            "Epoch 149/5001/1 - 0s - loss: 0.0062\n",
            "Epoch 150/5001/1 - 0s - loss: 0.0062\n",
            "Epoch 151/5001/1 - 0s - loss: 0.0061\n",
            "Epoch 152/5001/1 - 0s - loss: 0.0061\n",
            "Epoch 153/5001/1 - 0s - loss: 0.0060\n",
            "Epoch 154/5001/1 - 0s - loss: 0.0060\n",
            "Epoch 155/5001/1 - 0s - loss: 0.0060\n",
            "Epoch 156/5001/1 - 0s - loss: 0.0059\n",
            "Epoch 157/5001/1 - 0s - loss: 0.0059\n",
            "Epoch 158/5001/1 - 0s - loss: 0.0058\n",
            "Epoch 159/5001/1 - 0s - loss: 0.0058\n",
            "Epoch 160/5001/1 - 0s - loss: 0.0057\n",
            "Epoch 161/5001/1 - 0s - loss: 0.0057\n",
            "Epoch 162/5001/1 - 0s - loss: 0.0057\n",
            "Epoch 163/5001/1 - 0s - loss: 0.0056\n",
            "Epoch 164/5001/1 - 0s - loss: 0.0056\n",
            "Epoch 165/5001/1 - 0s - loss: 0.0055\n",
            "Epoch 166/5001/1 - 0s - loss: 0.0055\n",
            "Epoch 167/5001/1 - 0s - loss: 0.0055\n",
            "Epoch 168/5001/1 - 0s - loss: 0.0054\n",
            "Epoch 169/5001/1 - 0s - loss: 0.0054\n",
            "Epoch 170/5001/1 - 0s - loss: 0.0053\n",
            "Epoch 171/5001/1 - 0s - loss: 0.0053\n",
            "Epoch 172/5001/1 - 0s - loss: 0.0053\n",
            "Epoch 173/5001/1 - 0s - loss: 0.0052\n",
            "Epoch 174/5001/1 - 0s - loss: 0.0052\n",
            "Epoch 175/5001/1 - 0s - loss: 0.0051\n",
            "Epoch 176/5001/1 - 0s - loss: 0.0051\n",
            "Epoch 177/5001/1 - 0s - loss: 0.0051\n",
            "Epoch 178/5001/1 - 0s - loss: 0.0050\n",
            "Epoch 179/5001/1 - 0s - loss: 0.0050\n",
            "Epoch 180/5001/1 - 0s - loss: 0.0050\n",
            "Epoch 181/5001/1 - 0s - loss: 0.0049\n",
            "Epoch 182/5001/1 - 0s - loss: 0.0049\n",
            "Epoch 183/5001/1 - 0s - loss: 0.0049\n",
            "Epoch 184/5001/1 - 0s - loss: 0.0048\n",
            "Epoch 185/5001/1 - 0s - loss: 0.0048\n",
            "Epoch 186/5001/1 - 0s - loss: 0.0047\n",
            "Epoch 187/5001/1 - 0s - loss: 0.0047\n",
            "Epoch 188/5001/1 - 0s - loss: 0.0047\n",
            "Epoch 189/5001/1 - 0s - loss: 0.0046\n",
            "Epoch 190/5001/1 - 0s - loss: 0.0046\n",
            "Epoch 191/5001/1 - 0s - loss: 0.0046\n",
            "Epoch 192/5001/1 - 0s - loss: 0.0045\n",
            "Epoch 193/5001/1 - 0s - loss: 0.0045\n",
            "Epoch 194/5001/1 - 0s - loss: 0.0045\n",
            "Epoch 195/5001/1 - 0s - loss: 0.0044\n",
            "Epoch 196/5001/1 - 0s - loss: 0.0044\n",
            "Epoch 197/5001/1 - 0s - loss: 0.0044\n",
            "Epoch 198/5001/1 - 0s - loss: 0.0043\n",
            "Epoch 199/5001/1 - 0s - loss: 0.0043\n",
            "Epoch 200/5001/1 - 0s - loss: 0.0043\n",
            "Epoch 201/5001/1 - 0s - loss: 0.0043\n",
            "Epoch 202/5001/1 - 0s - loss: 0.0042\n",
            "Epoch 203/5001/1 - 0s - loss: 0.0042\n",
            "Epoch 204/5001/1 - 0s - loss: 0.0042\n",
            "Epoch 205/5001/1 - 0s - loss: 0.0041\n",
            "Epoch 206/5001/1 - 0s - loss: 0.0041\n",
            "Epoch 207/5001/1 - 0s - loss: 0.0041\n",
            "Epoch 208/5001/1 - 0s - loss: 0.0040\n",
            "Epoch 209/5001/1 - 0s - loss: 0.0040\n",
            "Epoch 210/5001/1 - 0s - loss: 0.0040\n",
            "Epoch 211/5001/1 - 0s - loss: 0.0040\n",
            "Epoch 212/5001/1 - 0s - loss: 0.0039\n",
            "Epoch 213/5001/1 - 0s - loss: 0.0039\n",
            "Epoch 214/5001/1 - 0s - loss: 0.0039\n",
            "Epoch 215/5001/1 - 0s - loss: 0.0038\n",
            "Epoch 216/5001/1 - 0s - loss: 0.0038\n",
            "Epoch 217/5001/1 - 0s - loss: 0.0038\n",
            "Epoch 218/5001/1 - 0s - loss: 0.0038\n",
            "Epoch 219/5001/1 - 0s - loss: 0.0037\n",
            "Epoch 220/5001/1 - 0s - loss: 0.0037\n",
            "Epoch 221/5001/1 - 0s - loss: 0.0037\n",
            "Epoch 222/5001/1 - 0s - loss: 0.0036\n",
            "Epoch 223/5001/1 - 0s - loss: 0.0036\n",
            "Epoch 224/5001/1 - 0s - loss: 0.0036\n",
            "Epoch 225/5001/1 - 0s - loss: 0.0036\n",
            "Epoch 226/5001/1 - 0s - loss: 0.0035\n",
            "Epoch 227/5001/1 - 0s - loss: 0.0035\n",
            "Epoch 228/5001/1 - 0s - loss: 0.0035\n",
            "Epoch 229/5001/1 - 0s - loss: 0.0035\n",
            "Epoch 230/5001/1 - 0s - loss: 0.0034\n",
            "Epoch 231/5001/1 - 0s - loss: 0.0034\n",
            "Epoch 232/5001/1 - 0s - loss: 0.0034\n",
            "Epoch 233/5001/1 - 0s - loss: 0.0034\n",
            "Epoch 234/5001/1 - 0s - loss: 0.0033\n",
            "Epoch 235/5001/1 - 0s - loss: 0.0033\n",
            "Epoch 236/5001/1 - 0s - loss: 0.0033\n",
            "Epoch 237/5001/1 - 0s - loss: 0.0033\n",
            "Epoch 238/5001/1 - 0s - loss: 0.0032\n",
            "Epoch 239/5001/1 - 0s - loss: 0.0032\n",
            "Epoch 240/5001/1 - 0s - loss: 0.0032\n",
            "Epoch 241/5001/1 - 0s - loss: 0.0032\n",
            "Epoch 242/5001/1 - 0s - loss: 0.0032\n",
            "Epoch 243/5001/1 - 0s - loss: 0.0031\n",
            "Epoch 244/5001/1 - 0s - loss: 0.0031\n",
            "Epoch 245/5001/1 - 0s - loss: 0.0031\n",
            "Epoch 246/5001/1 - 0s - loss: 0.0031\n",
            "Epoch 247/5001/1 - 0s - loss: 0.0030\n",
            "Epoch 248/5001/1 - 0s - loss: 0.0030\n",
            "Epoch 249/5001/1 - 0s - loss: 0.0030\n",
            "Epoch 250/5001/1 - 0s - loss: 0.0030\n",
            "Epoch 251/5001/1 - 0s - loss: 0.0030\n",
            "Epoch 252/5001/1 - 0s - loss: 0.0029\n",
            "Epoch 253/5001/1 - 0s - loss: 0.0029\n",
            "Epoch 254/5001/1 - 0s - loss: 0.0029\n",
            "Epoch 255/5001/1 - 0s - loss: 0.0029\n",
            "Epoch 256/5001/1 - 0s - loss: 0.0028\n",
            "Epoch 257/5001/1 - 0s - loss: 0.0028\n",
            "Epoch 258/5001/1 - 0s - loss: 0.0028\n",
            "Epoch 259/5001/1 - 0s - loss: 0.0028\n",
            "Epoch 260/5001/1 - 0s - loss: 0.0028\n",
            "Epoch 261/5001/1 - 0s - loss: 0.0027\n",
            "Epoch 262/5001/1 - 0s - loss: 0.0027\n",
            "Epoch 263/5001/1 - 0s - loss: 0.0027\n",
            "Epoch 264/5001/1 - 0s - loss: 0.0027\n",
            "Epoch 265/5001/1 - 0s - loss: 0.0027\n",
            "Epoch 266/5001/1 - 0s - loss: 0.0026\n",
            "Epoch 267/5001/1 - 0s - loss: 0.0026\n",
            "Epoch 268/5001/1 - 0s - loss: 0.0026\n",
            "Epoch 269/5001/1 - 0s - loss: 0.0026\n",
            "Epoch 270/5001/1 - 0s - loss: 0.0026\n",
            "Epoch 271/5001/1 - 0s - loss: 0.0025\n",
            "Epoch 272/5001/1 - 0s - loss: 0.0025\n",
            "Epoch 273/5001/1 - 0s - loss: 0.0025\n",
            "Epoch 274/5001/1 - 0s - loss: 0.0025\n",
            "Epoch 275/5001/1 - 0s - loss: 0.0025\n",
            "Epoch 276/5001/1 - 0s - loss: 0.0025\n",
            "Epoch 277/5001/1 - 0s - loss: 0.0024\n",
            "Epoch 278/5001/1 - 0s - loss: 0.0024\n",
            "Epoch 279/5001/1 - 0s - loss: 0.0024\n",
            "Epoch 280/5001/1 - 0s - loss: 0.0024\n",
            "Epoch 281/5001/1 - 0s - loss: 0.0024\n",
            "Epoch 282/5001/1 - 0s - loss: 0.0024\n",
            "Epoch 283/5001/1 - 0s - loss: 0.0023\n",
            "Epoch 284/5001/1 - 0s - loss: 0.0023\n",
            "Epoch 285/5001/1 - 0s - loss: 0.0023\n",
            "Epoch 286/5001/1 - 0s - loss: 0.0023\n",
            "Epoch 287/5001/1 - 0s - loss: 0.0023\n",
            "Epoch 288/5001/1 - 0s - loss: 0.0023\n",
            "Epoch 289/5001/1 - 0s - loss: 0.0022\n",
            "Epoch 290/5001/1 - 0s - loss: 0.0022\n",
            "Epoch 291/5001/1 - 0s - loss: 0.0022\n",
            "Epoch 292/5001/1 - 0s - loss: 0.0022\n",
            "Epoch 293/5001/1 - 0s - loss: 0.0022\n",
            "Epoch 294/5001/1 - 0s - loss: 0.0022\n",
            "Epoch 295/5001/1 - 0s - loss: 0.0021\n",
            "Epoch 296/5001/1 - 0s - loss: 0.0021\n",
            "Epoch 297/5001/1 - 0s - loss: 0.0021\n",
            "Epoch 298/5001/1 - 0s - loss: 0.0021\n",
            "Epoch 299/5001/1 - 0s - loss: 0.0021\n",
            "Epoch 300/5001/1 - 0s - loss: 0.0021\n",
            "Epoch 301/5001/1 - 0s - loss: 0.0020\n",
            "Epoch 302/5001/1 - 0s - loss: 0.0020\n",
            "Epoch 303/5001/1 - 0s - loss: 0.0020\n",
            "Epoch 304/5001/1 - 0s - loss: 0.0020\n",
            "Epoch 305/5001/1 - 0s - loss: 0.0020\n",
            "Epoch 306/5001/1 - 0s - loss: 0.0020\n",
            "Epoch 307/5001/1 - 0s - loss: 0.0020\n",
            "Epoch 308/5001/1 - 0s - loss: 0.0019\n",
            "Epoch 309/5001/1 - 0s - loss: 0.0019\n",
            "Epoch 310/5001/1 - 0s - loss: 0.0019\n",
            "Epoch 311/5001/1 - 0s - loss: 0.0019\n",
            "Epoch 312/5001/1 - 0s - loss: 0.0019\n",
            "Epoch 313/5001/1 - 0s - loss: 0.0019\n",
            "Epoch 314/5001/1 - 0s - loss: 0.0019\n",
            "Epoch 315/5001/1 - 0s - loss: 0.0018\n",
            "Epoch 316/5001/1 - 0s - loss: 0.0018\n",
            "Epoch 317/5001/1 - 0s - loss: 0.0018\n",
            "Epoch 318/5001/1 - 0s - loss: 0.0018\n",
            "Epoch 319/5001/1 - 0s - loss: 0.0018\n",
            "Epoch 320/5001/1 - 0s - loss: 0.0018\n",
            "Epoch 321/5001/1 - 0s - loss: 0.0018\n",
            "Epoch 322/5001/1 - 0s - loss: 0.0018\n",
            "Epoch 323/5001/1 - 0s - loss: 0.0017\n",
            "Epoch 324/5001/1 - 0s - loss: 0.0017\n",
            "Epoch 325/5001/1 - 0s - loss: 0.0017\n",
            "Epoch 326/5001/1 - 0s - loss: 0.0017\n",
            "Epoch 327/5001/1 - 0s - loss: 0.0017\n",
            "Epoch 328/5001/1 - 0s - loss: 0.0017\n",
            "Epoch 329/5001/1 - 0s - loss: 0.0017\n",
            "Epoch 330/5001/1 - 0s - loss: 0.0017\n",
            "Epoch 331/5001/1 - 0s - loss: 0.0016\n",
            "Epoch 332/5001/1 - 0s - loss: 0.0016\n",
            "Epoch 333/5001/1 - 0s - loss: 0.0016\n",
            "Epoch 334/5001/1 - 0s - loss: 0.0016\n",
            "Epoch 335/5001/1 - 0s - loss: 0.0016\n",
            "Epoch 336/5001/1 - 0s - loss: 0.0016\n",
            "Epoch 337/5001/1 - 0s - loss: 0.0016\n",
            "Epoch 338/5001/1 - 0s - loss: 0.0016\n",
            "Epoch 339/5001/1 - 0s - loss: 0.0016\n",
            "Epoch 340/5001/1 - 0s - loss: 0.0015\n",
            "Epoch 341/5001/1 - 0s - loss: 0.0015\n",
            "Epoch 342/5001/1 - 0s - loss: 0.0015\n",
            "Epoch 343/5001/1 - 0s - loss: 0.0015\n",
            "Epoch 344/5001/1 - 0s - loss: 0.0015\n",
            "Epoch 345/5001/1 - 0s - loss: 0.0015\n",
            "Epoch 346/5001/1 - 0s - loss: 0.0015\n",
            "Epoch 347/5001/1 - 0s - loss: 0.0015\n",
            "Epoch 348/5001/1 - 0s - loss: 0.0015\n",
            "Epoch 349/5001/1 - 0s - loss: 0.0014\n",
            "Epoch 350/5001/1 - 0s - loss: 0.0014\n",
            "Epoch 351/5001/1 - 0s - loss: 0.0014\n",
            "Epoch 352/5001/1 - 0s - loss: 0.0014\n",
            "Epoch 353/5001/1 - 0s - loss: 0.0014\n",
            "Epoch 354/5001/1 - 0s - loss: 0.0014\n",
            "Epoch 355/5001/1 - 0s - loss: 0.0014\n",
            "Epoch 356/5001/1 - 0s - loss: 0.0014\n",
            "Epoch 357/5001/1 - 0s - loss: 0.0014\n",
            "Epoch 358/5001/1 - 0s - loss: 0.0013\n",
            "Epoch 359/5001/1 - 0s - loss: 0.0013\n",
            "Epoch 360/5001/1 - 0s - loss: 0.0013\n",
            "Epoch 361/5001/1 - 0s - loss: 0.0013\n",
            "Epoch 362/5001/1 - 0s - loss: 0.0013\n",
            "Epoch 363/5001/1 - 0s - loss: 0.0013\n",
            "Epoch 364/5001/1 - 0s - loss: 0.0013\n",
            "Epoch 365/5001/1 - 0s - loss: 0.0013\n",
            "Epoch 366/5001/1 - 0s - loss: 0.0013\n",
            "Epoch 367/5001/1 - 0s - loss: 0.0013\n",
            "Epoch 368/5001/1 - 0s - loss: 0.0013\n",
            "Epoch 369/5001/1 - 0s - loss: 0.0012\n",
            "Epoch 370/5001/1 - 0s - loss: 0.0012\n",
            "Epoch 371/5001/1 - 0s - loss: 0.0012\n",
            "Epoch 372/5001/1 - 0s - loss: 0.0012\n",
            "Epoch 373/5001/1 - 0s - loss: 0.0012\n",
            "Epoch 374/5001/1 - 0s - loss: 0.0012\n",
            "Epoch 375/5001/1 - 0s - loss: 0.0012\n",
            "Epoch 376/5001/1 - 0s - loss: 0.0012\n",
            "Epoch 377/5001/1 - 0s - loss: 0.0012\n",
            "Epoch 378/5001/1 - 0s - loss: 0.0012\n",
            "Epoch 379/5001/1 - 0s - loss: 0.0012\n",
            "Epoch 380/5001/1 - 0s - loss: 0.0011\n",
            "Epoch 381/5001/1 - 0s - loss: 0.0011\n",
            "Epoch 382/5001/1 - 0s - loss: 0.0011\n",
            "Epoch 383/5001/1 - 0s - loss: 0.0011\n",
            "Epoch 384/5001/1 - 0s - loss: 0.0011\n",
            "Epoch 385/5001/1 - 0s - loss: 0.0011\n",
            "Epoch 386/5001/1 - 0s - loss: 0.0011\n",
            "Epoch 387/5001/1 - 0s - loss: 0.0011\n",
            "Epoch 388/5001/1 - 0s - loss: 0.0011\n",
            "Epoch 389/5001/1 - 0s - loss: 0.0011\n",
            "Epoch 390/5001/1 - 0s - loss: 0.0011\n",
            "Epoch 391/5001/1 - 0s - loss: 0.0011\n",
            "Epoch 392/5001/1 - 0s - loss: 0.0011\n",
            "Epoch 393/5001/1 - 0s - loss: 0.0010\n",
            "Epoch 394/5001/1 - 0s - loss: 0.0010\n",
            "Epoch 395/5001/1 - 0s - loss: 0.0010\n",
            "Epoch 396/5001/1 - 0s - loss: 0.0010\n",
            "Epoch 397/5001/1 - 0s - loss: 0.0010\n",
            "Epoch 398/5001/1 - 0s - loss: 0.0010\n",
            "Epoch 399/5001/1 - 0s - loss: 9.9993e-04\n",
            "Epoch 400/5001/1 - 0s - loss: 9.9264e-04\n",
            "Epoch 401/5001/1 - 0s - loss: 9.8541e-04\n",
            "Epoch 402/5001/1 - 0s - loss: 9.7823e-04\n",
            "Epoch 403/5001/1 - 0s - loss: 9.7111e-04\n",
            "Epoch 404/5001/1 - 0s - loss: 9.6403e-04\n",
            "Epoch 405/5001/1 - 0s - loss: 9.5701e-04\n",
            "Epoch 406/5001/1 - 0s - loss: 9.5004e-04\n",
            "Epoch 407/5001/1 - 0s - loss: 9.4311e-04\n",
            "Epoch 408/5001/1 - 0s - loss: 9.3624e-04\n",
            "Epoch 409/5001/1 - 0s - loss: 9.2942e-04\n",
            "Epoch 410/5001/1 - 0s - loss: 9.2265e-04\n",
            "Epoch 411/5001/1 - 0s - loss: 9.1593e-04\n",
            "Epoch 412/5001/1 - 0s - loss: 9.0926e-04\n",
            "Epoch 413/5001/1 - 0s - loss: 9.0263e-04\n",
            "Epoch 414/5001/1 - 0s - loss: 8.9606e-04\n",
            "Epoch 415/5001/1 - 0s - loss: 8.8953e-04\n",
            "Epoch 416/5001/1 - 0s - loss: 8.8305e-04\n",
            "Epoch 417/5001/1 - 0s - loss: 8.7661e-04\n",
            "Epoch 418/5001/1 - 0s - loss: 8.7023e-04\n",
            "Epoch 419/5001/1 - 0s - loss: 8.6389e-04\n",
            "Epoch 420/5001/1 - 0s - loss: 8.5759e-04\n",
            "Epoch 421/5001/1 - 0s - loss: 8.5135e-04\n",
            "Epoch 422/5001/1 - 0s - loss: 8.4514e-04\n",
            "Epoch 423/5001/1 - 0s - loss: 8.3899e-04\n",
            "Epoch 424/5001/1 - 0s - loss: 8.3287e-04\n",
            "Epoch 425/5001/1 - 0s - loss: 8.2680e-04\n",
            "Epoch 426/5001/1 - 0s - loss: 8.2078e-04\n",
            "Epoch 427/5001/1 - 0s - loss: 8.1480e-04\n",
            "Epoch 428/5001/1 - 0s - loss: 8.0887e-04\n",
            "Epoch 429/5001/1 - 0s - loss: 8.0297e-04\n",
            "Epoch 430/5001/1 - 0s - loss: 7.9712e-04\n",
            "Epoch 431/5001/1 - 0s - loss: 7.9132e-04\n",
            "Epoch 432/5001/1 - 0s - loss: 7.8555e-04\n",
            "Epoch 433/5001/1 - 0s - loss: 7.7982e-04\n",
            "Epoch 434/5001/1 - 0s - loss: 7.7415e-04\n",
            "Epoch 435/5001/1 - 0s - loss: 7.6851e-04\n",
            "Epoch 436/5001/1 - 0s - loss: 7.6291e-04\n",
            "Epoch 437/5001/1 - 0s - loss: 7.5735e-04\n",
            "Epoch 438/5001/1 - 0s - loss: 7.5183e-04\n",
            "Epoch 439/5001/1 - 0s - loss: 7.4635e-04\n",
            "Epoch 440/5001/1 - 0s - loss: 7.4092e-04\n",
            "Epoch 441/5001/1 - 0s - loss: 7.3552e-04\n",
            "Epoch 442/5001/1 - 0s - loss: 7.3016e-04\n",
            "Epoch 443/5001/1 - 0s - loss: 7.2484e-04\n",
            "Epoch 444/5001/1 - 0s - loss: 7.1956e-04\n",
            "Epoch 445/5001/1 - 0s - loss: 7.1432e-04\n",
            "Epoch 446/5001/1 - 0s - loss: 7.0911e-04\n",
            "Epoch 447/5001/1 - 0s - loss: 7.0394e-04\n",
            "Epoch 448/5001/1 - 0s - loss: 6.9882e-04\n",
            "Epoch 449/5001/1 - 0s - loss: 6.9373e-04\n",
            "Epoch 450/5001/1 - 0s - loss: 6.8867e-04\n",
            "Epoch 451/5001/1 - 0s - loss: 6.8366e-04\n",
            "Epoch 452/5001/1 - 0s - loss: 6.7867e-04\n",
            "Epoch 453/5001/1 - 0s - loss: 6.7373e-04\n",
            "Epoch 454/5001/1 - 0s - loss: 6.6882e-04\n",
            "Epoch 455/5001/1 - 0s - loss: 6.6395e-04\n",
            "Epoch 456/5001/1 - 0s - loss: 6.5911e-04\n",
            "Epoch 457/5001/1 - 0s - loss: 6.5431e-04\n",
            "Epoch 458/5001/1 - 0s - loss: 6.4954e-04\n",
            "Epoch 459/5001/1 - 0s - loss: 6.4481e-04\n",
            "Epoch 460/5001/1 - 0s - loss: 6.4011e-04\n",
            "Epoch 461/5001/1 - 0s - loss: 6.3545e-04\n",
            "Epoch 462/5001/1 - 0s - loss: 6.3082e-04\n",
            "Epoch 463/5001/1 - 0s - loss: 6.2622e-04\n",
            "Epoch 464/5001/1 - 0s - loss: 6.2166e-04\n",
            "Epoch 465/5001/1 - 0s - loss: 6.1713e-04\n",
            "Epoch 466/5001/1 - 0s - loss: 6.1263e-04\n",
            "Epoch 467/5001/1 - 0s - loss: 6.0817e-04\n",
            "Epoch 468/5001/1 - 0s - loss: 6.0374e-04\n",
            "Epoch 469/5001/1 - 0s - loss: 5.9934e-04\n",
            "Epoch 470/5001/1 - 0s - loss: 5.9497e-04\n",
            "Epoch 471/5001/1 - 0s - loss: 5.9064e-04\n",
            "Epoch 472/5001/1 - 0s - loss: 5.8634e-04\n",
            "Epoch 473/5001/1 - 0s - loss: 5.8206e-04\n",
            "Epoch 474/5001/1 - 0s - loss: 5.7782e-04\n",
            "Epoch 475/5001/1 - 0s - loss: 5.7361e-04\n",
            "Epoch 476/5001/1 - 0s - loss: 5.6943e-04\n",
            "Epoch 477/5001/1 - 0s - loss: 5.6529e-04\n",
            "Epoch 478/5001/1 - 0s - loss: 5.6117e-04\n",
            "Epoch 479/5001/1 - 0s - loss: 5.5708e-04\n",
            "Epoch 480/5001/1 - 0s - loss: 5.5302e-04\n",
            "Epoch 481/5001/1 - 0s - loss: 5.4899e-04\n",
            "Epoch 482/5001/1 - 0s - loss: 5.4499e-04\n",
            "Epoch 483/5001/1 - 0s - loss: 5.4102e-04\n",
            "Epoch 484/5001/1 - 0s - loss: 5.3708e-04\n",
            "Epoch 485/5001/1 - 0s - loss: 5.3317e-04\n",
            "Epoch 486/5001/1 - 0s - loss: 5.2928e-04\n",
            "Epoch 487/5001/1 - 0s - loss: 5.2543e-04\n",
            "Epoch 488/5001/1 - 0s - loss: 5.2160e-04\n",
            "Epoch 489/5001/1 - 0s - loss: 5.1780e-04\n",
            "Epoch 490/5001/1 - 0s - loss: 5.1403e-04\n",
            "Epoch 491/5001/1 - 0s - loss: 5.1028e-04\n",
            "Epoch 492/5001/1 - 0s - loss: 5.0656e-04\n",
            "Epoch 493/5001/1 - 0s - loss: 5.0287e-04\n",
            "Epoch 494/5001/1 - 0s - loss: 4.9921e-04\n",
            "Epoch 495/5001/1 - 0s - loss: 4.9557e-04\n",
            "Epoch 496/5001/1 - 0s - loss: 4.9196e-04\n",
            "Epoch 497/5001/1 - 0s - loss: 4.8838e-04\n",
            "Epoch 498/5001/1 - 0s - loss: 4.8482e-04\n",
            "Epoch 499/5001/1 - 0s - loss: 4.8129e-04\n",
            "Epoch 500/5001/1 - 0s - loss: 4.7778e-04\n"
          ],
          "name": "stdout"
        }
      ]
    },
    {
      "cell_type": "code",
      "metadata": {
        "id": "jGR3N2VcZfr7",
        "colab_type": "code",
        "outputId": "7f9f89e8-7a08-43ad-9cac-53dba62f5ae5",
        "colab": {
          "base_uri": "https://localhost:8080/",
          "height": 35
        }
      },
      "source": [
        "print(prediction)"
      ],
      "execution_count": 11,
      "outputs": [
        {
          "output_type": "stream",
          "text": [
            "[4.0315285]\n"
          ],
          "name": "stdout"
        }
      ]
    },
    {
      "cell_type": "markdown",
      "metadata": {
        "id": "s-6HHPNjA56z",
        "colab_type": "text"
      },
      "source": [
        "****************************************************************************************************"
      ]
    }
  ]
}