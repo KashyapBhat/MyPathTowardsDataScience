{
 "cells": [
  {
   "cell_type": "markdown",
   "metadata": {
    "colab_type": "text",
    "id": "-_nwDqr5ey_4"
   },
   "source": [
    "# Numpy"
   ]
  },
  {
   "cell_type": "markdown",
   "metadata": {
    "colab_type": "text",
    "id": "1eU7cI2vey_9"
   },
   "source": [
    "#### 1. Create a null vector of size 15."
   ]
  },
  {
   "cell_type": "code",
   "execution_count": 0,
   "metadata": {
    "colab": {},
    "colab_type": "code",
    "id": "GKvyZgfFezAI",
    "outputId": "799f17aa-2e1a-4fc7-a7a0-4173b71d8d47"
   },
   "outputs": [
    {
     "name": "stdout",
     "output_type": "stream",
     "text": [
      "[0. 0. 0. 0. 0. 0. 0. 0. 0. 0. 0. 0. 0. 0. 0.]\n"
     ]
    }
   ],
   "source": [
    "g = np.zeros(15)\n",
    "print(g)"
   ]
  },
  {
   "cell_type": "markdown",
   "metadata": {
    "colab_type": "text",
    "id": "H7Yo_IujezAd"
   },
   "source": [
    "#### 2.  Create a null vector of size 20 but the fifth value which is 1 ."
   ]
  },
  {
   "cell_type": "code",
   "execution_count": 0,
   "metadata": {
    "colab": {},
    "colab_type": "code",
    "id": "EERK-lB-ezAj",
    "outputId": "70a6a1e3-13cb-4864-bc41-778f6414d69a"
   },
   "outputs": [
    {
     "name": "stdout",
     "output_type": "stream",
     "text": [
      "[0. 0. 0. 0. 1. 0. 0. 0. 0. 0. 0. 0. 0. 0. 0. 0. 0. 0. 0. 0.]\n"
     ]
    }
   ],
   "source": [
    "g = np.zeros(20)\n",
    "g[4] = 1\n",
    "print(g)"
   ]
  },
  {
   "cell_type": "markdown",
   "metadata": {
    "colab_type": "text",
    "id": "BWo0x5wYezAx"
   },
   "source": [
    "#### 3.  Create a vector with values ranging from 11 to 45 . [Both included]"
   ]
  },
  {
   "cell_type": "code",
   "execution_count": 0,
   "metadata": {
    "colab": {},
    "colab_type": "code",
    "id": "mKN3meJcezAz",
    "outputId": "d7c113ab-de7e-4a83-f35e-9d6d9aeeb11e"
   },
   "outputs": [
    {
     "name": "stdout",
     "output_type": "stream",
     "text": [
      "[11 12 13 14 15 16 17 18 19 20 21 22 23 24 25 26 27 28 29 30 31 32 33 34\n",
      " 35 36 37 38 39 40 41 42 43 44 45]\n"
     ]
    }
   ],
   "source": [
    "g = np.arange(11,46)\n",
    "print(g)"
   ]
  },
  {
   "cell_type": "markdown",
   "metadata": {
    "colab_type": "text",
    "id": "PbQINBc-ezA6"
   },
   "source": [
    "#### 4.  Reverse a vector (first element becomes last) values for a size of 50."
   ]
  },
  {
   "cell_type": "code",
   "execution_count": 0,
   "metadata": {
    "colab": {},
    "colab_type": "code",
    "id": "bSQ5twCeezA7",
    "outputId": "cff692b0-5aa4-49ce-c7fd-6b9cfa8ec83a"
   },
   "outputs": [
    {
     "name": "stdout",
     "output_type": "stream",
     "text": [
      "[49 48 47 46 45 44 43 42 41 40 39 38 37 36 35 34 33 32 31 30 29 28 27 26\n",
      " 25 24 23 22 21 20 19 18 17 16 15 14 13 12 11 10  9  8  7  6  5  4  3  2\n",
      "  1  0]\n"
     ]
    }
   ],
   "source": [
    "g = np.arange(50)\n",
    "g= g[::-1]\n",
    "print(g)"
   ]
  },
  {
   "cell_type": "markdown",
   "metadata": {
    "colab_type": "text",
    "id": "w5A0RSPjezBB"
   },
   "source": [
    "#### 5.  Create a 3x3 matrix with values ranging from 0 to 8 .[both included]"
   ]
  },
  {
   "cell_type": "code",
   "execution_count": 0,
   "metadata": {
    "colab": {},
    "colab_type": "code",
    "id": "r5NivYLLezBD",
    "outputId": "0856d9d3-b286-41bf-aceb-b4f944b3dab9"
   },
   "outputs": [
    {
     "name": "stdout",
     "output_type": "stream",
     "text": [
      "[[0 1 2]\n",
      " [3 4 5]\n",
      " [6 7 8]]\n"
     ]
    }
   ],
   "source": [
    "g = np.arange(9).reshape(3,3)\n",
    "print(g)"
   ]
  },
  {
   "cell_type": "markdown",
   "metadata": {
    "colab_type": "text",
    "id": "CiQ10epxezBJ"
   },
   "source": [
    "#### 6. Find indices of non-zero elements from \\[1,2,0,0,4,0\\] ."
   ]
  },
  {
   "cell_type": "code",
   "execution_count": 0,
   "metadata": {
    "colab": {},
    "colab_type": "code",
    "id": "USojVxePezBL",
    "outputId": "b6fcfd84-5b4d-43f9-fbb3-3f29358fd601"
   },
   "outputs": [
    {
     "name": "stdout",
     "output_type": "stream",
     "text": [
      "(array([0, 1, 4], dtype=int64),)\n"
     ]
    }
   ],
   "source": [
    "g = np.nonzero([1,2,0,0,4,0])\n",
    "print(g)"
   ]
  },
  {
   "cell_type": "markdown",
   "metadata": {
    "colab_type": "text",
    "id": "nNUO74fOezBR"
   },
   "source": [
    "#### 7. Create a 3x3 identity matrix ."
   ]
  },
  {
   "cell_type": "code",
   "execution_count": 0,
   "metadata": {
    "colab": {},
    "colab_type": "code",
    "id": "I8BiFai_ezBT",
    "outputId": "aafa66f5-55b9-47ee-fdf6-92ac1a9654b6"
   },
   "outputs": [
    {
     "name": "stdout",
     "output_type": "stream",
     "text": [
      "[[1. 0. 0.]\n",
      " [0. 1. 0.]\n",
      " [0. 0. 1.]]\n"
     ]
    }
   ],
   "source": [
    "g = np.eye(3)\n",
    "print(g)"
   ]
  },
  {
   "cell_type": "markdown",
   "metadata": {
    "colab_type": "text",
    "id": "rSJDY_5iezBW"
   },
   "source": [
    "#### 8. Create a 3x3x3 array with random values."
   ]
  },
  {
   "cell_type": "code",
   "execution_count": 0,
   "metadata": {
    "colab": {},
    "colab_type": "code",
    "id": "PTq3E7ygezBY",
    "outputId": "3c1ab084-0e5b-46c9-cb95-3a1f2d936d0a"
   },
   "outputs": [
    {
     "name": "stdout",
     "output_type": "stream",
     "text": [
      "[[[0.4201057  0.55493867 0.20230296]\n",
      "  [0.40653811 0.56209294 0.50669518]\n",
      "  [0.05750532 0.61979928 0.49656729]]\n",
      "\n",
      " [[0.19072997 0.50389066 0.42991799]\n",
      "  [0.27559193 0.40668027 0.86013253]\n",
      "  [0.22559176 0.99840965 0.90475707]]\n",
      "\n",
      " [[0.11470782 0.17183114 0.35051629]\n",
      "  [0.15622926 0.85897568 0.10976911]\n",
      "  [0.97900306 0.9943739  0.44058405]]]\n"
     ]
    }
   ],
   "source": [
    "g = np.random.random((3,3,3))\n",
    "print(g)"
   ]
  },
  {
   "cell_type": "markdown",
   "metadata": {
    "colab_type": "text",
    "id": "qbxjZtnVezBc"
   },
   "source": [
    "#### 9. Create a 10x10 array with random values and find the minimum and maximum values ."
   ]
  },
  {
   "cell_type": "code",
   "execution_count": 0,
   "metadata": {
    "colab": {},
    "colab_type": "code",
    "id": "nWopTsEzezBd",
    "outputId": "204e41f1-b052-43ad-f33d-852d5f62086c"
   },
   "outputs": [
    {
     "name": "stdout",
     "output_type": "stream",
     "text": [
      "0.00024130663668386898 0.9921341422235711\n"
     ]
    }
   ],
   "source": [
    "g = np.random.random((10,10))\n",
    "gmin, gmax = g.min(), g.max()\n",
    "print(gmin, gmax)"
   ]
  },
  {
   "cell_type": "markdown",
   "metadata": {
    "colab_type": "text",
    "id": "Xov3dlFJezBh"
   },
   "source": [
    "#### 10. Create a random vector of size 100 and find the mean value ."
   ]
  },
  {
   "cell_type": "code",
   "execution_count": 0,
   "metadata": {
    "colab": {},
    "colab_type": "code",
    "id": "c8EqEt-AezBi",
    "outputId": "2bd3738c-926d-4791-d90d-81829dab07b2"
   },
   "outputs": [
    {
     "name": "stdout",
     "output_type": "stream",
     "text": [
      "0.5922447464320082\n"
     ]
    }
   ],
   "source": [
    "g = np.random.random(100)\n",
    "m = g.mean()\n",
    "print(m)"
   ]
  },
  {
   "cell_type": "markdown",
   "metadata": {
    "colab_type": "text",
    "id": "jrG1HDi9ezBl"
   },
   "source": [
    "#### 11. Create a 2d array for a size of 10 with 1 on the border and 0 inside .\n",
    "\n"
   ]
  },
  {
   "cell_type": "code",
   "execution_count": 0,
   "metadata": {
    "colab": {},
    "colab_type": "code",
    "id": "TXrlXrhTezBn",
    "outputId": "45bac134-9e61-4aec-e34e-c62b5507b148"
   },
   "outputs": [
    {
     "name": "stdout",
     "output_type": "stream",
     "text": [
      "[[1. 1. 1. 1. 1. 1. 1. 1. 1. 1.]\n",
      " [1. 0. 0. 0. 0. 0. 0. 0. 0. 1.]\n",
      " [1. 0. 0. 0. 0. 0. 0. 0. 0. 1.]\n",
      " [1. 0. 0. 0. 0. 0. 0. 0. 0. 1.]\n",
      " [1. 0. 0. 0. 0. 0. 0. 0. 0. 1.]\n",
      " [1. 0. 0. 0. 0. 0. 0. 0. 0. 1.]\n",
      " [1. 0. 0. 0. 0. 0. 0. 0. 0. 1.]\n",
      " [1. 0. 0. 0. 0. 0. 0. 0. 0. 1.]\n",
      " [1. 0. 0. 0. 0. 0. 0. 0. 0. 1.]\n",
      " [1. 1. 1. 1. 1. 1. 1. 1. 1. 1.]]\n"
     ]
    }
   ],
   "source": [
    "g = np.ones((10,10))\n",
    "g[1:-1,1:-1] = 0\n",
    "print(g)"
   ]
  },
  {
   "cell_type": "markdown",
   "metadata": {
    "colab_type": "text",
    "id": "BQZUVIEDezBs"
   },
   "source": [
    "#### 12. Create a 5x5 matrix with values 1,2,3,4 just below the diagonal ."
   ]
  },
  {
   "cell_type": "code",
   "execution_count": 0,
   "metadata": {
    "colab": {},
    "colab_type": "code",
    "id": "_Z_eaccvezBt",
    "outputId": "27ead9dc-abdd-402c-ccce-a53cdb4de1e5"
   },
   "outputs": [
    {
     "name": "stdout",
     "output_type": "stream",
     "text": [
      "[[0 0 0 0 0]\n",
      " [1 0 0 0 0]\n",
      " [0 2 0 0 0]\n",
      " [0 0 3 0 0]\n",
      " [0 0 0 4 0]]\n"
     ]
    }
   ],
   "source": [
    "g = np.diag(1+np.arange(4),k=-1)\n",
    "print(g)"
   ]
  },
  {
   "cell_type": "markdown",
   "metadata": {
    "colab_type": "text",
    "id": "-6w6OlLyezBx"
   },
   "source": [
    "#### 13. Create a 8x8 matrix and fill it with a checkerboard pattern ."
   ]
  },
  {
   "cell_type": "code",
   "execution_count": 0,
   "metadata": {
    "colab": {},
    "colab_type": "code",
    "id": "yJeaGDQbezBy",
    "outputId": "7d038b15-9bc0-42da-92bc-c2753d320e67"
   },
   "outputs": [
    {
     "name": "stdout",
     "output_type": "stream",
     "text": [
      "[[0 1 0 1 0 1 0 1]\n",
      " [1 0 1 0 1 0 1 0]\n",
      " [0 1 0 1 0 1 0 1]\n",
      " [1 0 1 0 1 0 1 0]\n",
      " [0 1 0 1 0 1 0 1]\n",
      " [1 0 1 0 1 0 1 0]\n",
      " [0 1 0 1 0 1 0 1]\n",
      " [1 0 1 0 1 0 1 0]]\n"
     ]
    }
   ],
   "source": [
    "Z = np.zeros((8,8),dtype=int)\n",
    "Z[1::2,::2] = 1\n",
    "Z[::2,1::2] = 1\n",
    "print(Z)"
   ]
  },
  {
   "cell_type": "markdown",
   "metadata": {
    "colab_type": "text",
    "id": "ylqYfBUlezB2"
   },
   "source": [
    "#### 14. Consider a (6,7,8) shape array, what is the index (x,y,z) of the 100th element?"
   ]
  },
  {
   "cell_type": "code",
   "execution_count": 0,
   "metadata": {
    "colab": {},
    "colab_type": "code",
    "id": "PGSKtuu7ezB4",
    "outputId": "60998c92-ddd7-40f8-ad64-0b09556419e0"
   },
   "outputs": [
    {
     "name": "stdout",
     "output_type": "stream",
     "text": [
      "(1, 5, 3)\n"
     ]
    }
   ],
   "source": [
    "print(np.unravel_index(99,(6,7,8)))"
   ]
  },
  {
   "cell_type": "markdown",
   "metadata": {
    "colab_type": "text",
    "id": "1ImDOeigezB-"
   },
   "source": [
    "#### 15. Create a checkerboard 8x8 matrix using the tile function ."
   ]
  },
  {
   "cell_type": "code",
   "execution_count": 0,
   "metadata": {
    "colab": {},
    "colab_type": "code",
    "id": "gY58cdbxezCA",
    "outputId": "9e086fad-f8da-43a5-ccdc-315065c8959b"
   },
   "outputs": [
    {
     "name": "stdout",
     "output_type": "stream",
     "text": [
      "[[0 1 0 1 0 1 0 1]\n",
      " [1 0 1 0 1 0 1 0]\n",
      " [0 1 0 1 0 1 0 1]\n",
      " [1 0 1 0 1 0 1 0]\n",
      " [0 1 0 1 0 1 0 1]\n",
      " [1 0 1 0 1 0 1 0]\n",
      " [0 1 0 1 0 1 0 1]\n",
      " [1 0 1 0 1 0 1 0]]\n"
     ]
    }
   ],
   "source": [
    "g = np.tile( np.array([[0,1],[1,0]]), (4,4))\n",
    "print(g)"
   ]
  },
  {
   "cell_type": "markdown",
   "metadata": {
    "colab_type": "text",
    "id": "1_AixTrAezCF"
   },
   "source": [
    "#### 16. Multiply a 5x3 matrix by a 3x2 matrix (real matrix product) ."
   ]
  },
  {
   "cell_type": "code",
   "execution_count": 0,
   "metadata": {
    "colab": {},
    "colab_type": "code",
    "id": "b1jZB6u_ezCG",
    "outputId": "9d68db4c-54c3-436c-ec42-7e38fc16af71"
   },
   "outputs": [
    {
     "name": "stdout",
     "output_type": "stream",
     "text": [
      "[[3. 3.]\n",
      " [3. 3.]\n",
      " [3. 3.]\n",
      " [3. 3.]\n",
      " [3. 3.]]\n"
     ]
    }
   ],
   "source": [
    "g = np.dot(np.ones((5,3)), np.ones((3,2)))\n",
    "print(g)\n",
    "\n",
    "# Alternative solution, in Python 3.5 and above\n",
    "g = np.ones((5,3)) @ np.ones((3,2))"
   ]
  },
  {
   "cell_type": "markdown",
   "metadata": {
    "colab_type": "text",
    "id": "MT6J-QFsezCS"
   },
   "source": [
    "#### 17. Given a 1D array, negate all elements which are between 2 and 9, in place. "
   ]
  },
  {
   "cell_type": "code",
   "execution_count": 0,
   "metadata": {
    "colab": {},
    "colab_type": "code",
    "id": "MRyzOYphezCT",
    "outputId": "3b961955-b3ba-40f6-f9f5-1024dd67fba9"
   },
   "outputs": [
    {
     "name": "stdout",
     "output_type": "stream",
     "text": [
      "[ 0  1  2 -3 -4 -5 -6 -7 -8 -9 10]\n"
     ]
    }
   ],
   "source": [
    "g = np.arange(11)\n",
    "g[(2 < g) & (g <= 9)] *= -1\n",
    "print(g)"
   ]
  },
  {
   "cell_type": "markdown",
   "metadata": {
    "colab_type": "text",
    "id": "7Zl3faCBezCW"
   },
   "source": [
    "#### 18. What are the result of the following expressions?"
   ]
  },
  {
   "cell_type": "code",
   "execution_count": 0,
   "metadata": {
    "colab": {},
    "colab_type": "code",
    "id": "NfOr99u-ezCX",
    "outputId": "dbbf5372-4be8-4b7b-a66d-8e636edcc19e"
   },
   "outputs": [
    {
     "name": "stdout",
     "output_type": "stream",
     "text": [
      "nan\n",
      "0\n",
      "[-2.14748365e+09]\n"
     ]
    },
    {
     "name": "stderr",
     "output_type": "stream",
     "text": [
      "C:\\Users\\DILIP\\AppData\\Local\\Continuum\\anaconda3\\lib\\site-packages\\ipykernel_launcher.py:1: RuntimeWarning: invalid value encountered in true_divide\n",
      "  \"\"\"Entry point for launching an IPython kernel.\n",
      "C:\\Users\\DILIP\\AppData\\Local\\Continuum\\anaconda3\\lib\\site-packages\\ipykernel_launcher.py:2: RuntimeWarning: divide by zero encountered in floor_divide\n",
      "  \n"
     ]
    }
   ],
   "source": [
    "print(np.array(0) / np.array(0))\n",
    "print(np.array(0) // np.array(0))\n",
    "print(np.array([np.nan]).astype(int).astype(float))"
   ]
  },
  {
   "cell_type": "markdown",
   "metadata": {
    "colab_type": "text",
    "id": "a2xKBW-3ezCa"
   },
   "source": [
    "#### 19. How to find common values between two arrays? "
   ]
  },
  {
   "cell_type": "code",
   "execution_count": 0,
   "metadata": {
    "colab": {},
    "colab_type": "code",
    "id": "0a1Q6syVezCb"
   },
   "outputs": [],
   "source": [
    "g1 = np.random.randint(0,10,10)\n",
    "g2 = np.random.randint(0,10,10)\n"
   ]
  },
  {
   "cell_type": "code",
   "execution_count": 0,
   "metadata": {
    "colab": {},
    "colab_type": "code",
    "id": "bkvSRvbgezCg",
    "outputId": "aabdd19b-9346-4c66-e2ba-5ad83b738f22"
   },
   "outputs": [
    {
     "name": "stdout",
     "output_type": "stream",
     "text": [
      "[2 4 5 8]\n"
     ]
    }
   ],
   "source": [
    "print(np.intersect1d(Z1,Z2))"
   ]
  },
  {
   "cell_type": "markdown",
   "metadata": {
    "colab_type": "text",
    "id": "GdWj8gE-ezCj"
   },
   "source": [
    "#### 20. Is the following expressions true? "
   ]
  },
  {
   "cell_type": "code",
   "execution_count": 0,
   "metadata": {
    "colab": {},
    "colab_type": "code",
    "id": "oGopJolAezCk",
    "outputId": "f148601a-0240-4e48-e518-996f3fc75ef3"
   },
   "outputs": [
    {
     "name": "stderr",
     "output_type": "stream",
     "text": [
      "C:\\Users\\DILIP\\AppData\\Local\\Continuum\\anaconda3\\lib\\site-packages\\ipykernel_launcher.py:1: RuntimeWarning: invalid value encountered in sqrt\n",
      "  \"\"\"Entry point for launching an IPython kernel.\n"
     ]
    },
    {
     "data": {
      "text/plain": [
       "False"
      ]
     },
     "execution_count": 55,
     "metadata": {
      "tags": []
     },
     "output_type": "execute_result"
    }
   ],
   "source": [
    "np.sqrt(-1) == np.emath.sqrt(-1)"
   ]
  },
  {
   "cell_type": "markdown",
   "metadata": {
    "colab_type": "text",
    "id": "KbU5svsYezCn"
   },
   "source": [
    "#### 21. How to get the dates of yesterday, today and tomorrow? "
   ]
  },
  {
   "cell_type": "code",
   "execution_count": 0,
   "metadata": {
    "colab": {},
    "colab_type": "code",
    "id": "xYSdsBkXezCo",
    "outputId": "cb44f249-58d0-4296-b169-87f36123a0ed"
   },
   "outputs": [
    {
     "name": "stdout",
     "output_type": "stream",
     "text": [
      "2019-07-28\n",
      "2019-07-29\n",
      "2019-07-30\n"
     ]
    }
   ],
   "source": [
    "yesterday = np.datetime64('today', 'D') - np.timedelta64(1, 'D')\n",
    "today     = np.datetime64('today', 'D')\n",
    "tomorrow  = np.datetime64('today', 'D') + np.timedelta64(1, 'D')\n",
    "\n",
    "print(yesterday)\n",
    "print(today)\n",
    "print(tomorrow)"
   ]
  },
  {
   "cell_type": "markdown",
   "metadata": {
    "colab_type": "text",
    "id": "4h5K6r3JezCs"
   },
   "source": [
    "#### 22. How to get all the dates corresponding to the month of July 2019? "
   ]
  },
  {
   "cell_type": "code",
   "execution_count": 0,
   "metadata": {
    "colab": {},
    "colab_type": "code",
    "id": "q7MA3yAZezCs",
    "outputId": "1d36dca3-a913-4d32-98ee-9ea479abc566"
   },
   "outputs": [
    {
     "name": "stdout",
     "output_type": "stream",
     "text": [
      "['2019-07-01' '2019-07-02' '2019-07-03' '2019-07-04' '2019-07-05'\n",
      " '2019-07-06' '2019-07-07' '2019-07-08' '2019-07-09' '2019-07-10'\n",
      " '2019-07-11' '2019-07-12' '2019-07-13' '2019-07-14' '2019-07-15'\n",
      " '2019-07-16' '2019-07-17' '2019-07-18' '2019-07-19' '2019-07-20'\n",
      " '2019-07-21' '2019-07-22' '2019-07-23' '2019-07-24' '2019-07-25'\n",
      " '2019-07-26' '2019-07-27' '2019-07-28' '2019-07-29' '2019-07-30'\n",
      " '2019-07-31']\n"
     ]
    }
   ],
   "source": [
    "g = np.arange('2019-07', '2019-08', dtype='datetime64[D]')\n",
    "print(g)"
   ]
  },
  {
   "cell_type": "markdown",
   "metadata": {
    "colab_type": "text",
    "id": "HK7p2ZZ6ezCw"
   },
   "source": [
    "#### 23. How to compute ((A+B)\\*(-A/2)) in place (without copy)? "
   ]
  },
  {
   "cell_type": "code",
   "execution_count": 0,
   "metadata": {
    "colab": {},
    "colab_type": "code",
    "id": "la7tKMuAezCx"
   },
   "outputs": [],
   "source": [
    "A = np.ones(3)*1\n",
    "B = np.ones(3)*2\n",
    "C = np.ones(3)*3\n"
   ]
  },
  {
   "cell_type": "code",
   "execution_count": 0,
   "metadata": {
    "colab": {},
    "colab_type": "code",
    "id": "sxzKIJIFezC1",
    "outputId": "fac638e9-f021-4168-b816-afe5efdb4911"
   },
   "outputs": [
    {
     "data": {
      "text/plain": [
       "array([-1.5, -1.5, -1.5])"
      ]
     },
     "execution_count": 61,
     "metadata": {
      "tags": []
     },
     "output_type": "execute_result"
    }
   ],
   "source": [
    "np.add(A,B,out=B)\n",
    "np.divide(A,2,out=A)\n",
    "np.negative(A,out=A)\n",
    "np.multiply(A,B,out=A)"
   ]
  },
  {
   "cell_type": "markdown",
   "metadata": {
    "colab_type": "text",
    "id": "k8GfF3xgezC5"
   },
   "source": [
    "#### 24. Extract the integer part of a random array using 5 different methods ."
   ]
  },
  {
   "cell_type": "code",
   "execution_count": 0,
   "metadata": {
    "colab": {},
    "colab_type": "code",
    "id": "dQ2UKzEAezC6"
   },
   "outputs": [],
   "source": [
    "Z = np.random.uniform(0,10,10)\n",
    "\n"
   ]
  },
  {
   "cell_type": "code",
   "execution_count": 0,
   "metadata": {
    "colab": {},
    "colab_type": "code",
    "id": "BtiKZrz3ezC9",
    "outputId": "439a81a8-0238-446c-e489-ab6a1281a88f"
   },
   "outputs": [
    {
     "name": "stdout",
     "output_type": "stream",
     "text": [
      "[4. 1. 7. 8. 7. 5. 9. 3. 0. 7.]\n",
      "[4. 1. 7. 8. 7. 5. 9. 3. 0. 7.]\n",
      "[4. 1. 7. 8. 7. 5. 9. 3. 0. 7.]\n",
      "[4 1 7 8 7 5 9 3 0 7]\n",
      "[4. 1. 7. 8. 7. 5. 9. 3. 0. 7.]\n"
     ]
    }
   ],
   "source": [
    "print (Z - Z%1)\n",
    "print (np.floor(Z))\n",
    "print (np.ceil(Z)-1)\n",
    "print (Z.astype(int))\n",
    "print (np.trunc(Z))"
   ]
  },
  {
   "cell_type": "markdown",
   "metadata": {
    "colab_type": "text",
    "id": "U0JJj7ieezC_"
   },
   "source": [
    "#### 25. Create a 5x5 matrix with row values ranging from 0 to 4 .[BOTH INCLUDED]"
   ]
  },
  {
   "cell_type": "code",
   "execution_count": 0,
   "metadata": {
    "colab": {},
    "colab_type": "code",
    "id": "f2qTE-6yezDE",
    "outputId": "6b3c1142-80d2-4381-8beb-d129dbc4babf"
   },
   "outputs": [
    {
     "name": "stdout",
     "output_type": "stream",
     "text": [
      "[[0. 1. 2. 3. 4.]\n",
      " [0. 1. 2. 3. 4.]\n",
      " [0. 1. 2. 3. 4.]\n",
      " [0. 1. 2. 3. 4.]\n",
      " [0. 1. 2. 3. 4.]]\n"
     ]
    }
   ],
   "source": [
    "Z = np.zeros((5,5))\n",
    "Z += np.arange(5)\n",
    "print(Z)"
   ]
  },
  {
   "cell_type": "markdown",
   "metadata": {
    "colab_type": "text",
    "id": "h_4eOizjezDH"
   },
   "source": [
    "#### 26. Create a vector of size 10 with values ranging from 0 to 1, both excluded ."
   ]
  },
  {
   "cell_type": "code",
   "execution_count": 0,
   "metadata": {
    "colab": {},
    "colab_type": "code",
    "id": "4A6mRRJQezDI",
    "outputId": "e7d6ec75-7f30-4f68-c5ef-70730af2d7c5"
   },
   "outputs": [
    {
     "name": "stdout",
     "output_type": "stream",
     "text": [
      "[0.09090909 0.18181818 0.27272727 0.36363636 0.45454545 0.54545455\n",
      " 0.63636364 0.72727273 0.81818182 0.90909091]\n"
     ]
    }
   ],
   "source": [
    "Z = np.linspace(0,1,11,endpoint=False)[1:]\n",
    "print(Z)"
   ]
  },
  {
   "cell_type": "markdown",
   "metadata": {
    "colab_type": "text",
    "id": "DZv17MgMezDK"
   },
   "source": [
    "#### 27. Create a random vector of size 10 and sort it."
   ]
  },
  {
   "cell_type": "code",
   "execution_count": 0,
   "metadata": {
    "colab": {},
    "colab_type": "code",
    "id": "1Y4PnnkKezDL",
    "outputId": "33a13c61-b400-442d-e93d-1c8ba6f8f30d"
   },
   "outputs": [
    {
     "name": "stdout",
     "output_type": "stream",
     "text": [
      "[0.145271   0.18701488 0.25072629 0.50633696 0.69104983 0.69209137\n",
      " 0.72749887 0.75155308 0.78738512 0.84672034]\n"
     ]
    }
   ],
   "source": [
    "X = np.random.random(10)\n",
    "X.sort()\n",
    "print(X)"
   ]
  },
  {
   "cell_type": "markdown",
   "metadata": {
    "colab_type": "text",
    "id": "WKf_uVwOezDO"
   },
   "source": [
    "#### 28. How to sum a small array faster than np.sum? "
   ]
  },
  {
   "cell_type": "code",
   "execution_count": 0,
   "metadata": {
    "colab": {},
    "colab_type": "code",
    "id": "jpGHVIYaezDP",
    "outputId": "a38f5833-580d-435f-bc5f-3675ea359c5c"
   },
   "outputs": [
    {
     "data": {
      "text/plain": [
       "45"
      ]
     },
     "execution_count": 74,
     "metadata": {
      "tags": []
     },
     "output_type": "execute_result"
    }
   ],
   "source": [
    "X = np.arange(10)\n",
    "np.add.reduce(X)"
   ]
  },
  {
   "cell_type": "markdown",
   "metadata": {
    "colab_type": "text",
    "id": "Shot5SsTezDR"
   },
   "source": [
    "#### 29. Consider two random array A and B, check if they are equal ."
   ]
  },
  {
   "cell_type": "code",
   "execution_count": 0,
   "metadata": {
    "colab": {},
    "colab_type": "code",
    "id": "_kg9FjYfezDS"
   },
   "outputs": [],
   "source": [
    "X = np.random.randint(0,2,5)\n",
    "Y = np.random.randint(0,2,5)\n",
    "\n"
   ]
  },
  {
   "cell_type": "code",
   "execution_count": 0,
   "metadata": {
    "colab": {},
    "colab_type": "code",
    "id": "Npc9MUjCezDV",
    "outputId": "f4479906-9236-4416-f7fd-2b10ffc41392"
   },
   "outputs": [
    {
     "name": "stdout",
     "output_type": "stream",
     "text": [
      "False\n",
      "False\n"
     ]
    }
   ],
   "source": [
    "# Assuming identical shape of the arrays and a tolerance for the comparison of values\n",
    "equal = np.allclose(X,Y)\n",
    "print(equal)\n",
    "\n",
    "# Checking both the shape and the element values, no tolerance (values have to be exactly equal)\n",
    "equal = np.array_equal(X,Y)\n",
    "print(equal)"
   ]
  },
  {
   "cell_type": "markdown",
   "metadata": {
    "colab_type": "text",
    "id": "DvdtefVlezDZ"
   },
   "source": [
    "#### 30. Make an array immutable (read-only)."
   ]
  },
  {
   "cell_type": "code",
   "execution_count": 0,
   "metadata": {
    "colab": {},
    "colab_type": "code",
    "id": "gdzpHBbhezDa",
    "outputId": "50f1cd1d-10fb-4d91-bc1f-2fd8566af7d2"
   },
   "outputs": [
    {
     "data": {
      "text/plain": [
       "array([1., 0., 0., 0., 0., 0., 0., 0., 0., 0.])"
      ]
     },
     "execution_count": 82,
     "metadata": {
      "tags": []
     },
     "output_type": "execute_result"
    }
   ],
   "source": [
    "Z = np.zeros(10)\n",
    "Z.flags.writeable = False\n",
    "Z[0] = 1\n"
   ]
  },
  {
   "cell_type": "markdown",
   "metadata": {
    "colab_type": "text",
    "id": "CeQDk1xnezDf"
   },
   "source": [
    "#### 31. Create random vector of size 20 and replace the maximum value by 0 ."
   ]
  },
  {
   "cell_type": "code",
   "execution_count": 0,
   "metadata": {
    "colab": {},
    "colab_type": "code",
    "id": "vv9x_av9ezDg",
    "outputId": "f44bde47-0f69-41e6-9389-b6b0807dccbd"
   },
   "outputs": [
    {
     "name": "stdout",
     "output_type": "stream",
     "text": [
      "[0.60665626 0.68431421 0.09168047 0.1182431  0.10892111 0.31513439\n",
      " 0.70953908 0.06449223 0.69513342 0.6818695  0.32966015 0.93375339\n",
      " 0.65567454 0.00391669 0.70267468 0.9129046  0.65309596 0.\n",
      " 0.82907189 0.23408681]\n"
     ]
    }
   ],
   "source": [
    "x = np.random.random(20)\n",
    "x[x.argmax()] = 0\n",
    "print(x)"
   ]
  },
  {
   "cell_type": "markdown",
   "metadata": {
    "colab_type": "text",
    "id": "LjuqljEaezDi"
   },
   "source": [
    "#### 32. How to convert a float (32 bits) array into an integer (32 bits) in place?"
   ]
  },
  {
   "cell_type": "code",
   "execution_count": 0,
   "metadata": {
    "colab": {},
    "colab_type": "code",
    "id": "B09km75aezDj",
    "outputId": "3aa69de8-56d2-45b3-8739-52ec6d7f5bf0"
   },
   "outputs": [
    {
     "name": "stdout",
     "output_type": "stream",
     "text": [
      "[0. 1. 2. 3. 4. 5. 6. 7. 8. 9.]\n"
     ]
    }
   ],
   "source": [
    "x = np.arange(10, dtype=np.float32)\n",
    "\n",
    "print(x)"
   ]
  },
  {
   "cell_type": "code",
   "execution_count": 0,
   "metadata": {
    "colab": {},
    "colab_type": "code",
    "id": "PBM707k6ezDl",
    "outputId": "6c743582-3df7-430f-a95e-17ae102b9607"
   },
   "outputs": [
    {
     "name": "stdout",
     "output_type": "stream",
     "text": [
      "[0 1 2 3 4 5 6 7 8 9]\n"
     ]
    }
   ],
   "source": [
    "x = x.astype(np.int32, copy=False)\n",
    "print(x)"
   ]
  },
  {
   "cell_type": "markdown",
   "metadata": {
    "colab_type": "text",
    "id": "33tcP7aDezDn"
   },
   "source": [
    "#### 33. What is the equivalent of enumerate for numpy arrays? "
   ]
  },
  {
   "cell_type": "code",
   "execution_count": 0,
   "metadata": {
    "colab": {},
    "colab_type": "code",
    "id": "tbhuWPrMezDo",
    "outputId": "4d8f65e0-e0be-4331-e5b0-5a9d90861bfc"
   },
   "outputs": [
    {
     "name": "stdout",
     "output_type": "stream",
     "text": [
      "[[0 1 2]\n",
      " [3 4 5]\n",
      " [6 7 8]]\n"
     ]
    }
   ],
   "source": [
    "Z = np.arange(9).reshape(3,3)\n",
    "print(Z)"
   ]
  },
  {
   "cell_type": "code",
   "execution_count": 0,
   "metadata": {
    "colab": {},
    "colab_type": "code",
    "id": "i5dNE5_KezDt",
    "outputId": "ec303e3f-2bfc-470f-b966-54b99e9fedc7"
   },
   "outputs": [
    {
     "name": "stdout",
     "output_type": "stream",
     "text": [
      "(0, 0) 0\n",
      "(0, 1) 1\n",
      "(0, 2) 2\n",
      "(1, 0) 3\n",
      "(1, 1) 4\n",
      "(1, 2) 5\n",
      "(2, 0) 6\n",
      "(2, 1) 7\n",
      "(2, 2) 8\n",
      "(0, 0) 0\n",
      "(0, 1) 1\n",
      "(0, 2) 2\n",
      "(1, 0) 3\n",
      "(1, 1) 4\n",
      "(1, 2) 5\n",
      "(2, 0) 6\n",
      "(2, 1) 7\n",
      "(2, 2) 8\n"
     ]
    }
   ],
   "source": [
    "for index, value in np.ndenumerate(Z):\n",
    "    print(index, value)\n",
    "for index in np.ndindex(Z.shape):\n",
    "    print(index, Z[index])"
   ]
  },
  {
   "cell_type": "markdown",
   "metadata": {
    "colab_type": "text",
    "id": "rzah5PrbezDx"
   },
   "source": [
    "#### 34. How to randomly place p elements in a 2D array?"
   ]
  },
  {
   "cell_type": "code",
   "execution_count": 0,
   "metadata": {
    "colab": {},
    "colab_type": "code",
    "id": "DzSXdHMFezDy",
    "outputId": "e2fe26e3-217b-47a4-f3e2-28224b02bced"
   },
   "outputs": [
    {
     "name": "stdout",
     "output_type": "stream",
     "text": [
      "[[0. 0. 0. 0. 0. 0. 0. 0. 0. 0.]\n",
      " [0. 0. 0. 0. 0. 0. 0. 0. 0. 0.]\n",
      " [0. 0. 0. 0. 0. 0. 0. 0. 0. 0.]\n",
      " [0. 0. 0. 0. 0. 0. 0. 0. 0. 0.]\n",
      " [0. 0. 0. 0. 0. 0. 0. 0. 0. 0.]\n",
      " [0. 0. 0. 0. 0. 0. 0. 0. 0. 0.]\n",
      " [0. 0. 0. 0. 0. 0. 0. 0. 0. 0.]\n",
      " [0. 0. 0. 0. 0. 0. 0. 0. 0. 0.]\n",
      " [0. 0. 0. 0. 0. 0. 0. 0. 0. 0.]\n",
      " [0. 0. 0. 0. 0. 0. 0. 0. 0. 0.]]\n"
     ]
    }
   ],
   "source": [
    "n = 10\n",
    "p = 3\n",
    "Z = np.zeros((n,n))\n",
    "\n",
    "print(Z)"
   ]
  },
  {
   "cell_type": "code",
   "execution_count": 0,
   "metadata": {
    "colab": {},
    "colab_type": "code",
    "id": "bO6jO768ezD2",
    "outputId": "ffe5a946-9b57-4acf-d021-ab4ff1dfe417"
   },
   "outputs": [
    {
     "name": "stdout",
     "output_type": "stream",
     "text": [
      "[[0. 0. 0. 0. 0. 0. 0. 0. 0. 0.]\n",
      " [0. 0. 0. 0. 0. 1. 0. 1. 0. 0.]\n",
      " [0. 0. 0. 0. 0. 0. 0. 0. 0. 0.]\n",
      " [0. 0. 0. 0. 0. 0. 0. 0. 0. 0.]\n",
      " [0. 0. 0. 0. 0. 1. 0. 0. 0. 0.]\n",
      " [0. 0. 0. 0. 0. 0. 0. 0. 0. 0.]\n",
      " [0. 0. 0. 0. 0. 0. 0. 0. 0. 0.]\n",
      " [0. 0. 0. 0. 0. 0. 0. 0. 0. 0.]\n",
      " [0. 0. 0. 0. 0. 0. 0. 0. 0. 0.]\n",
      " [0. 0. 0. 0. 0. 0. 0. 0. 0. 0.]]\n"
     ]
    }
   ],
   "source": [
    "np.put(Z, np.random.choice(range(n*n), p, replace=False),1)\n",
    "print(Z)"
   ]
  },
  {
   "cell_type": "markdown",
   "metadata": {
    "colab_type": "text",
    "id": "oY9HGKa9ezD5"
   },
   "source": [
    "#### 35. Subtract the mean of each row of a matrix ."
   ]
  },
  {
   "cell_type": "code",
   "execution_count": 0,
   "metadata": {
    "colab": {},
    "colab_type": "code",
    "id": "q7lF0hKMezD6"
   },
   "outputs": [],
   "source": [
    "\n",
    "\n",
    "X = np.random.rand(5, 10)\n",
    "\n"
   ]
  },
  {
   "cell_type": "code",
   "execution_count": 0,
   "metadata": {
    "colab": {},
    "colab_type": "code",
    "id": "sBKO1k_RezD8",
    "outputId": "5b40744e-b21c-4478-eec0-1b8ee611f812"
   },
   "outputs": [
    {
     "name": "stdout",
     "output_type": "stream",
     "text": [
      "[[-0.23327548 -0.4119185   0.23283312 -0.06091333  0.14658268 -0.21966496\n",
      "  -0.38672643  0.35993236  0.35982587  0.21332466]\n",
      " [ 0.42766918  0.36899241 -0.30616376 -0.07878302  0.1498915   0.45241645\n",
      "  -0.09070736 -0.49138052 -0.16154263 -0.27039226]\n",
      " [-0.37456255 -0.45956368  0.1340872   0.33124908  0.20615189  0.07061499\n",
      "  -0.52970078 -0.04056165  0.34254761  0.31973789]\n",
      " [-0.31181959  0.29598451  0.26537053 -0.39671897 -0.32851219  0.09963458\n",
      "   0.2090205   0.55257317 -0.28530298 -0.10022957]\n",
      " [ 0.20422227 -0.1150484   0.27032499  0.2382944  -0.54337744 -0.0304355\n",
      "  -0.31063919  0.22057364  0.32593855 -0.25985332]]\n"
     ]
    }
   ],
   "source": [
    "# Recent versions of numpy\n",
    "Y = X - X.mean(axis=1, keepdims=True)\n",
    "\n",
    "# Older versions of numpy\n",
    "Y = X - X.mean(axis=1).reshape(-1, 1)\n",
    "\n",
    "\n",
    "print(Y)"
   ]
  },
  {
   "cell_type": "markdown",
   "metadata": {
    "colab_type": "text",
    "id": "X9ozSSOiezED"
   },
   "source": [
    "#### 36. How to sort an array by the nth column?"
   ]
  },
  {
   "cell_type": "code",
   "execution_count": 0,
   "metadata": {
    "colab": {},
    "colab_type": "code",
    "id": "CcgzeOT_ezEE",
    "outputId": "eb9362cf-1736-48e8-b1a9-78c347609a30"
   },
   "outputs": [
    {
     "name": "stdout",
     "output_type": "stream",
     "text": [
      "[[4 6 2]\n",
      " [9 4 3]\n",
      " [3 2 3]]\n"
     ]
    }
   ],
   "source": [
    "\n",
    "x = np.random.randint(0,10,(3,3))\n",
    "print(x)\n"
   ]
  },
  {
   "cell_type": "code",
   "execution_count": 0,
   "metadata": {
    "colab": {},
    "colab_type": "code",
    "id": "lWqaVBC8ezEJ",
    "outputId": "f48f71e1-ea72-4edc-92ae-fd108263ca3f"
   },
   "outputs": [
    {
     "name": "stdout",
     "output_type": "stream",
     "text": [
      "[[3 2 3]\n",
      " [9 4 3]\n",
      " [4 6 2]]\n"
     ]
    }
   ],
   "source": [
    "print(x[x[:,1].argsort()])"
   ]
  },
  {
   "cell_type": "markdown",
   "metadata": {
    "colab_type": "text",
    "id": "UR_VDp15ezEO"
   },
   "source": [
    "#### 37. Find the nearest value from a given value in an array ."
   ]
  },
  {
   "cell_type": "code",
   "execution_count": 0,
   "metadata": {
    "colab": {},
    "colab_type": "code",
    "id": "WOOXAcW0ezEP"
   },
   "outputs": [],
   "source": [
    "Z = np.random.uniform(0,1,10)\n"
   ]
  },
  {
   "cell_type": "code",
   "execution_count": 0,
   "metadata": {
    "colab": {},
    "colab_type": "code",
    "id": "ceN9yqU1ezER",
    "outputId": "d0e806c8-00b7-477b-a48b-73db56bb8532"
   },
   "outputs": [
    {
     "name": "stdout",
     "output_type": "stream",
     "text": [
      "0.3507900517949537\n"
     ]
    }
   ],
   "source": [
    "z = 0.5\n",
    "m = Z.flat[np.abs(Z - z).argmin()]\n",
    "print(m)"
   ]
  },
  {
   "cell_type": "markdown",
   "metadata": {
    "colab_type": "text",
    "id": "cjb25IdDezEU"
   },
   "source": [
    "#### 38. Considering a four dimensions array, how to get sum over the last two axis at once? "
   ]
  },
  {
   "cell_type": "code",
   "execution_count": 0,
   "metadata": {
    "colab": {},
    "colab_type": "code",
    "id": "tfbly38rezEU",
    "outputId": "b12e450f-6c40-4622-98f7-61ee9fc062e5"
   },
   "outputs": [
    {
     "name": "stdout",
     "output_type": "stream",
     "text": [
      "[[58 63 48 54]\n",
      " [47 72 48 58]\n",
      " [46 31 52 55]]\n",
      "[[58 63 48 54]\n",
      " [47 72 48 58]\n",
      " [46 31 52 55]]\n"
     ]
    }
   ],
   "source": [
    "A = np.random.randint(0,10,(3,4,3,4))\n",
    "# solution by passing a tuple of axes (introduced in numpy 1.7.0)\n",
    "sum = A.sum(axis=(-2,-1))\n",
    "print(sum)\n",
    "# solution by flattening the last two dimensions into one\n",
    "# (useful for functions that don't accept tuples for axis argument)\n",
    "sum = A.reshape(A.shape[:-2] + (-1,)).sum(axis=-1)\n",
    "print(sum)"
   ]
  },
  {
   "cell_type": "markdown",
   "metadata": {
    "colab_type": "text",
    "id": "yOLxsaAOezEZ"
   },
   "source": [
    "#### 39. How to get the diagonal of a dot product? "
   ]
  },
  {
   "cell_type": "code",
   "execution_count": 0,
   "metadata": {
    "colab": {},
    "colab_type": "code",
    "id": "YtVADMthezEa",
    "outputId": "fed0f954-2d3e-498e-dfab-e75cf4343181"
   },
   "outputs": [
    {
     "data": {
      "text/plain": [
       "array([2.25206171, 1.10708139, 0.47950409, 0.98778057, 1.30166188])"
      ]
     },
     "execution_count": 134,
     "metadata": {
      "tags": []
     },
     "output_type": "execute_result"
    }
   ],
   "source": [
    "\n",
    "\n",
    "A = np.random.uniform(0,1,(5,5))\n",
    "B = np.random.uniform(0,1,(5,5))\n",
    "\n",
    "# Slow version  \n",
    "np.diag(np.dot(A, B))\n",
    "\n",
    "# Fast version\n",
    "np.sum(A * B.T, axis=1)\n",
    "\n",
    "# Faster version\n",
    "np.einsum(\"ij,ji->i\", A, B)"
   ]
  },
  {
   "cell_type": "markdown",
   "metadata": {
    "colab_type": "text",
    "id": "2jAw5S3tezEj"
   },
   "source": [
    "#### 40. Consider the vector \\[1, 2, 3, 4, 5, 6\\], how to build a new vector with 3 consecutive zeros interleaved between each value? "
   ]
  },
  {
   "cell_type": "code",
   "execution_count": 0,
   "metadata": {
    "colab": {},
    "colab_type": "code",
    "id": "737HZsQkezEl",
    "outputId": "eab53ace-f5ca-4d37-e7ae-3141bcba7614"
   },
   "outputs": [
    {
     "name": "stdout",
     "output_type": "stream",
     "text": [
      "[1. 0. 0. 0. 2. 0. 0. 0. 3. 0. 0. 0. 4. 0. 0. 0. 5. 0. 0. 0. 6.]\n"
     ]
    }
   ],
   "source": [
    "Z = np.array([1,2,3,4,5,6])\n",
    "nz = 3\n",
    "Z0 = np.zeros(len(Z) + (len(Z)-1)*(nz))\n",
    "Z0[::nz+1] = Z\n",
    "print(Z0)"
   ]
  },
  {
   "cell_type": "markdown",
   "metadata": {
    "colab_type": "text",
    "id": "wn3A0GPQezEn"
   },
   "source": [
    "#### 41. Consider an array of dimension (5,5,3), how to mulitply it by an array with dimensions (5,5)? "
   ]
  },
  {
   "cell_type": "code",
   "execution_count": 0,
   "metadata": {
    "colab": {},
    "colab_type": "code",
    "id": "-O_TxCbpezEo",
    "outputId": "ccc80ef2-f279-4f72-9353-277799433ccd"
   },
   "outputs": [
    {
     "name": "stdout",
     "output_type": "stream",
     "text": [
      "[[[2. 2. 2.]\n",
      "  [2. 2. 2.]\n",
      "  [2. 2. 2.]\n",
      "  [2. 2. 2.]\n",
      "  [2. 2. 2.]]\n",
      "\n",
      " [[2. 2. 2.]\n",
      "  [2. 2. 2.]\n",
      "  [2. 2. 2.]\n",
      "  [2. 2. 2.]\n",
      "  [2. 2. 2.]]\n",
      "\n",
      " [[2. 2. 2.]\n",
      "  [2. 2. 2.]\n",
      "  [2. 2. 2.]\n",
      "  [2. 2. 2.]\n",
      "  [2. 2. 2.]]\n",
      "\n",
      " [[2. 2. 2.]\n",
      "  [2. 2. 2.]\n",
      "  [2. 2. 2.]\n",
      "  [2. 2. 2.]\n",
      "  [2. 2. 2.]]\n",
      "\n",
      " [[2. 2. 2.]\n",
      "  [2. 2. 2.]\n",
      "  [2. 2. 2.]\n",
      "  [2. 2. 2.]\n",
      "  [2. 2. 2.]]]\n"
     ]
    }
   ],
   "source": [
    "A = np.ones((5,5,3))\n",
    "B = 2*np.ones((5,5))\n",
    "print(A * B[:,:,None])"
   ]
  },
  {
   "cell_type": "markdown",
   "metadata": {
    "colab_type": "text",
    "id": "-m_m42vpezEs"
   },
   "source": [
    "#### 42. How to swap two rows of an array? "
   ]
  },
  {
   "cell_type": "code",
   "execution_count": 0,
   "metadata": {
    "colab": {},
    "colab_type": "code",
    "id": "rQKmnbBAezEt",
    "outputId": "d551821c-e5fa-41b3-ac55-51ae54c7cf82"
   },
   "outputs": [
    {
     "name": "stdout",
     "output_type": "stream",
     "text": [
      "[[ 0  1  2  3  4]\n",
      " [ 5  6  7  8  9]\n",
      " [10 11 12 13 14]\n",
      " [15 16 17 18 19]\n",
      " [20 21 22 23 24]]\n"
     ]
    }
   ],
   "source": [
    "\n",
    "A = np.arange(25).reshape(5,5)\n",
    "\n",
    "print(A)"
   ]
  },
  {
   "cell_type": "code",
   "execution_count": 0,
   "metadata": {
    "colab": {},
    "colab_type": "code",
    "id": "gJWg9qT4ezEx",
    "outputId": "ecce5e8c-9297-4a29-bb9a-2322f6b83f31"
   },
   "outputs": [
    {
     "name": "stdout",
     "output_type": "stream",
     "text": [
      "[[ 5  6  7  8  9]\n",
      " [ 0  1  2  3  4]\n",
      " [10 11 12 13 14]\n",
      " [15 16 17 18 19]\n",
      " [20 21 22 23 24]]\n"
     ]
    }
   ],
   "source": [
    "A[[0,1]] = A[[1,0]]\n",
    "print(A)"
   ]
  },
  {
   "cell_type": "markdown",
   "metadata": {
    "colab_type": "text",
    "id": "yyIuoQfOezE0"
   },
   "source": [
    "#### 43. Consider a one-dimensional array Z, build a two-dimensional array whose first row is (Z\\[0\\],Z\\[1\\],Z\\[2\\]) and each subsequent row is  shifted by 1 (last row should be (Z\\[-3\\],Z\\[-2\\],Z\\[-1\\]) "
   ]
  },
  {
   "cell_type": "code",
   "execution_count": 0,
   "metadata": {
    "colab": {},
    "colab_type": "code",
    "id": "YoGDwZNuezE1",
    "outputId": "f09bb674-5049-4808-da81-741d87244bd4"
   },
   "outputs": [
    {
     "name": "stdout",
     "output_type": "stream",
     "text": [
      "[[0 1 2]\n",
      " [1 2 3]\n",
      " [2 3 4]\n",
      " [3 4 5]\n",
      " [4 5 6]\n",
      " [5 6 7]\n",
      " [6 7 8]\n",
      " [7 8 9]]\n"
     ]
    }
   ],
   "source": [
    "from numpy.lib import stride_tricks\n",
    "\n",
    "def rolling(a, window):\n",
    "    shape = (a.size - window + 1, window)\n",
    "    strides = (a.itemsize, a.itemsize)\n",
    "    return stride_tricks.as_strided(a, shape=shape, strides=strides)\n",
    "Z = rolling(np.arange(10), 3)\n",
    "print(Z)"
   ]
  },
  {
   "cell_type": "markdown",
   "metadata": {
    "colab_type": "text",
    "id": "UbDRqkBxezE6"
   },
   "source": [
    "#### 44. Consider an array Z = \\[1,2,3,4,5,6,7,8,9,10,11,12,13,14\\], how to generate an array R = \\[\\[1,2,3,4\\], \\[2,3,4,5\\], \\[3,4,5,6\\], ..., \\[11,12,13,14\\]\\]? "
   ]
  },
  {
   "cell_type": "code",
   "execution_count": 0,
   "metadata": {
    "colab": {},
    "colab_type": "code",
    "id": "D5xuSBa8ezE7",
    "outputId": "ecdabc9c-bdf4-467f-8e29-88bf707a5463"
   },
   "outputs": [
    {
     "name": "stdout",
     "output_type": "stream",
     "text": [
      "[[ 1  2  3  4]\n",
      " [ 2  3  4  5]\n",
      " [ 3  4  5  6]\n",
      " [ 4  5  6  7]\n",
      " [ 5  6  7  8]\n",
      " [ 6  7  8  9]\n",
      " [ 7  8  9 10]\n",
      " [ 8  9 10 11]\n",
      " [ 9 10 11 12]\n",
      " [10 11 12 13]\n",
      " [11 12 13 14]]\n"
     ]
    }
   ],
   "source": [
    "Z = np.arange(1,15,dtype=np.uint32)\n",
    "R = stride_tricks.as_strided(Z,(11,4),(4,4))\n",
    "print(R)"
   ]
  },
  {
   "cell_type": "markdown",
   "metadata": {
    "colab_type": "text",
    "id": "lp0OvGoMezE-"
   },
   "source": [
    "#### 45. Compute a matrix rank ."
   ]
  },
  {
   "cell_type": "code",
   "execution_count": 0,
   "metadata": {
    "colab": {},
    "colab_type": "code",
    "id": "ORKioS36ezE_",
    "outputId": "66dbbbfb-c25f-4315-ac08-7794eaa1d926"
   },
   "outputs": [
    {
     "data": {
      "text/plain": [
       "array([[0.76342281, 0.56170206, 0.8680938 , 0.21745943, 0.11242345,\n",
       "        0.96130704, 0.9346674 , 0.57715482, 0.68582613, 0.59490208],\n",
       "       [0.8659247 , 0.07095264, 0.64081416, 0.6574575 , 0.70470796,\n",
       "        0.91661068, 0.40778221, 0.96447499, 0.69896304, 0.19070586],\n",
       "       [0.17349607, 0.41526843, 0.72914443, 0.82509158, 0.74225929,\n",
       "        0.96493991, 0.32462023, 0.54564237, 0.92991154, 0.33633895],\n",
       "       [0.52042652, 0.60862469, 0.10774328, 0.57723606, 0.37803288,\n",
       "        0.22686064, 0.49776137, 0.89411303, 0.70440815, 0.68092172],\n",
       "       [0.22263664, 0.82815671, 0.85822041, 0.62113721, 0.09659524,\n",
       "        0.29061155, 0.46536398, 0.69826573, 0.87038216, 0.47384195],\n",
       "       [0.67044524, 0.15758447, 0.5571082 , 0.22063385, 0.5410721 ,\n",
       "        0.48769564, 0.54396617, 0.31224647, 0.84775848, 0.42442524],\n",
       "       [0.03041311, 0.63160515, 0.77756309, 0.30755655, 0.52119031,\n",
       "        0.10418289, 0.37972605, 0.41025428, 0.91869409, 0.14956155],\n",
       "       [0.91204754, 0.11118842, 0.44191223, 0.10969169, 0.67434942,\n",
       "        0.4239309 , 0.4472125 , 0.58763122, 0.60410614, 0.4561551 ],\n",
       "       [0.62870583, 0.80276683, 0.2909847 , 0.87320649, 0.21204087,\n",
       "        0.66836686, 0.74951255, 0.56109941, 0.79414803, 0.52376699],\n",
       "       [0.67281911, 0.66099849, 0.87266713, 0.81115982, 0.21723752,\n",
       "        0.24567399, 0.83551298, 0.5417607 , 0.23360469, 0.60847392]])"
      ]
     },
     "execution_count": 150,
     "metadata": {
      "tags": []
     },
     "output_type": "execute_result"
    }
   ],
   "source": [
    "Z = np.random.uniform(0,1,(10,10))\n",
    "Z"
   ]
  },
  {
   "cell_type": "code",
   "execution_count": 0,
   "metadata": {
    "colab": {},
    "colab_type": "code",
    "id": "gLIa3gkoezFC",
    "outputId": "c9d76d93-7c3c-4938-dbd8-53e8d2a9928b"
   },
   "outputs": [
    {
     "name": "stdout",
     "output_type": "stream",
     "text": [
      "10\n"
     ]
    }
   ],
   "source": [
    "U, S, V = np.linalg.svd(Z) # Singular Value Decomposition\n",
    "rank = np.sum(S > 1e-10)\n",
    "print(rank)"
   ]
  },
  {
   "cell_type": "markdown",
   "metadata": {
    "colab_type": "text",
    "id": "ntDPx9cjezFE"
   },
   "source": [
    "#### 46. How to find the most frequent value in an array?"
   ]
  },
  {
   "cell_type": "code",
   "execution_count": 0,
   "metadata": {
    "colab": {},
    "colab_type": "code",
    "id": "M82xh9WAezFI",
    "outputId": "6c7557ca-2a8c-480f-d1b8-4113ed9d5b09"
   },
   "outputs": [
    {
     "data": {
      "text/plain": [
       "array([7, 7, 4, 1, 6, 3, 9, 4, 6, 8, 9, 4, 6, 0, 8, 2, 2, 6, 3, 5, 4, 7,\n",
       "       0, 9, 9, 9, 8, 8, 9, 5, 3, 2, 7, 2, 7, 3, 9, 2, 5, 5, 7, 5, 3, 0,\n",
       "       0, 6, 1, 6, 4, 4])"
      ]
     },
     "execution_count": 154,
     "metadata": {
      "tags": []
     },
     "output_type": "execute_result"
    }
   ],
   "source": [
    "Z = np.random.randint(0,10,50)\n",
    "Z"
   ]
  },
  {
   "cell_type": "code",
   "execution_count": 0,
   "metadata": {
    "colab": {},
    "colab_type": "code",
    "id": "slX0YfYBezFK",
    "outputId": "62154f30-6d83-4ad7-b571-3bf5953b0d67"
   },
   "outputs": [
    {
     "name": "stdout",
     "output_type": "stream",
     "text": [
      "9\n"
     ]
    }
   ],
   "source": [
    "print(np.bincount(Z).argmax())"
   ]
  },
  {
   "cell_type": "markdown",
   "metadata": {
    "colab_type": "text",
    "id": "j0rFik8aezFM"
   },
   "source": [
    "#### 47. Consider a 16x16 array, how to get the block-sum (block size is 4x4)? "
   ]
  },
  {
   "cell_type": "code",
   "execution_count": 0,
   "metadata": {
    "colab": {},
    "colab_type": "code",
    "id": "pkCm07xJezFM",
    "outputId": "8ec94f62-3d9c-468a-c059-fe694a7a0400"
   },
   "outputs": [
    {
     "data": {
      "text/plain": [
       "array([[1., 1., 1., 1., 1., 1., 1., 1., 1., 1., 1., 1., 1., 1., 1., 1.],\n",
       "       [1., 1., 1., 1., 1., 1., 1., 1., 1., 1., 1., 1., 1., 1., 1., 1.],\n",
       "       [1., 1., 1., 1., 1., 1., 1., 1., 1., 1., 1., 1., 1., 1., 1., 1.],\n",
       "       [1., 1., 1., 1., 1., 1., 1., 1., 1., 1., 1., 1., 1., 1., 1., 1.],\n",
       "       [1., 1., 1., 1., 1., 1., 1., 1., 1., 1., 1., 1., 1., 1., 1., 1.],\n",
       "       [1., 1., 1., 1., 1., 1., 1., 1., 1., 1., 1., 1., 1., 1., 1., 1.],\n",
       "       [1., 1., 1., 1., 1., 1., 1., 1., 1., 1., 1., 1., 1., 1., 1., 1.],\n",
       "       [1., 1., 1., 1., 1., 1., 1., 1., 1., 1., 1., 1., 1., 1., 1., 1.],\n",
       "       [1., 1., 1., 1., 1., 1., 1., 1., 1., 1., 1., 1., 1., 1., 1., 1.],\n",
       "       [1., 1., 1., 1., 1., 1., 1., 1., 1., 1., 1., 1., 1., 1., 1., 1.],\n",
       "       [1., 1., 1., 1., 1., 1., 1., 1., 1., 1., 1., 1., 1., 1., 1., 1.],\n",
       "       [1., 1., 1., 1., 1., 1., 1., 1., 1., 1., 1., 1., 1., 1., 1., 1.],\n",
       "       [1., 1., 1., 1., 1., 1., 1., 1., 1., 1., 1., 1., 1., 1., 1., 1.],\n",
       "       [1., 1., 1., 1., 1., 1., 1., 1., 1., 1., 1., 1., 1., 1., 1., 1.],\n",
       "       [1., 1., 1., 1., 1., 1., 1., 1., 1., 1., 1., 1., 1., 1., 1., 1.],\n",
       "       [1., 1., 1., 1., 1., 1., 1., 1., 1., 1., 1., 1., 1., 1., 1., 1.]])"
      ]
     },
     "execution_count": 158,
     "metadata": {
      "tags": []
     },
     "output_type": "execute_result"
    }
   ],
   "source": [
    "\n",
    "Z = np.ones((16,16))\n",
    "Z"
   ]
  },
  {
   "cell_type": "code",
   "execution_count": 0,
   "metadata": {
    "colab": {},
    "colab_type": "code",
    "id": "txfL-s2PezFO",
    "outputId": "f5378b6e-9ba2-4452-ef20-36b5713daab9"
   },
   "outputs": [
    {
     "name": "stdout",
     "output_type": "stream",
     "text": [
      "[[16. 16. 16. 16.]\n",
      " [16. 16. 16. 16.]\n",
      " [16. 16. 16. 16.]\n",
      " [16. 16. 16. 16.]]\n"
     ]
    }
   ],
   "source": [
    "k = 4\n",
    "S = np.add.reduceat(np.add.reduceat(Z, np.arange(0, Z.shape[0], k), axis=0),\n",
    "                                       np.arange(0, Z.shape[1], k), axis=1)\n",
    "print(S)"
   ]
  },
  {
   "cell_type": "markdown",
   "metadata": {
    "colab_type": "text",
    "id": "W0jHAlOpezFQ"
   },
   "source": [
    "#### 48. How to get the n largest values of an array"
   ]
  },
  {
   "cell_type": "code",
   "execution_count": 0,
   "metadata": {
    "colab": {},
    "colab_type": "code",
    "id": "7gA0yiuwezFR",
    "outputId": "42a4f3df-5b77-4acd-d33b-df63dbb645e5"
   },
   "outputs": [
    {
     "data": {
      "text/plain": [
       "array([ 815, 5050, 1706, ..., 7386, 9501, 4409])"
      ]
     },
     "execution_count": 162,
     "metadata": {
      "tags": []
     },
     "output_type": "execute_result"
    }
   ],
   "source": [
    "Z = np.arange(10000)\n",
    "np.random.shuffle(Z)\n",
    "Z"
   ]
  },
  {
   "cell_type": "code",
   "execution_count": 0,
   "metadata": {
    "colab": {},
    "colab_type": "code",
    "id": "OsXbaVMkezFT",
    "outputId": "f761e047-8d75-468b-afc3-5e334370a83d"
   },
   "outputs": [
    {
     "name": "stdout",
     "output_type": "stream",
     "text": [
      "[9995 9996 9997 9998 9999]\n",
      "[9998 9996 9995 9999 9997]\n"
     ]
    }
   ],
   "source": [
    "n = 5 # How many largest numbers required.\n",
    "\n",
    "# Slow\n",
    "print (Z[np.argsort(Z)[-n:]])\n",
    "\n",
    "# Fast\n",
    "print (Z[np.argpartition(-Z,n)[:n]])"
   ]
  },
  {
   "cell_type": "markdown",
   "metadata": {
    "colab_type": "text",
    "id": "wDruT5_XezFV"
   },
   "source": [
    "# ------------------------------------ Happy Learning ---------------------------------------------"
   ]
  },
  {
   "cell_type": "code",
   "execution_count": 0,
   "metadata": {
    "colab": {},
    "colab_type": "code",
    "id": "Q9VLCeoPezFW"
   },
   "outputs": [],
   "source": []
  }
 ],
 "metadata": {
  "colab": {
   "collapsed_sections": [
    "rSJDY_5iezBW",
    "qbxjZtnVezBc",
    "Xov3dlFJezBh",
    "jrG1HDi9ezBl",
    "BQZUVIEDezBs",
    "-6w6OlLyezBx",
    "ylqYfBUlezB2",
    "1ImDOeigezB-",
    "1_AixTrAezCF",
    "MT6J-QFsezCS",
    "7Zl3faCBezCW",
    "a2xKBW-3ezCa",
    "GdWj8gE-ezCj",
    "KbU5svsYezCn",
    "4h5K6r3JezCs",
    "HK7p2ZZ6ezCw",
    "k8GfF3xgezC5",
    "U0JJj7ieezC_",
    "h_4eOizjezDH",
    "DZv17MgMezDK",
    "WKf_uVwOezDO",
    "Shot5SsTezDR",
    "DvdtefVlezDZ",
    "CeQDk1xnezDf",
    "LjuqljEaezDi",
    "33tcP7aDezDn",
    "rzah5PrbezDx",
    "oY9HGKa9ezD5",
    "X9ozSSOiezED",
    "UR_VDp15ezEO",
    "cjb25IdDezEU",
    "yOLxsaAOezEZ",
    "2jAw5S3tezEj",
    "wn3A0GPQezEn",
    "-m_m42vpezEs",
    "yyIuoQfOezE0",
    "UbDRqkBxezE6",
    "lp0OvGoMezE-",
    "ntDPx9cjezFE",
    "j0rFik8aezFM",
    "W0jHAlOpezFQ"
   ],
   "name": "Numpy.ipynb",
   "provenance": []
  },
  "kernelspec": {
   "display_name": "Python 3",
   "language": "python",
   "name": "python3"
  },
  "language_info": {
   "codemirror_mode": {
    "name": "ipython",
    "version": 3
   },
   "file_extension": ".py",
   "mimetype": "text/x-python",
   "name": "python",
   "nbconvert_exporter": "python",
   "pygments_lexer": "ipython3",
   "version": "3.7.6"
  }
 },
 "nbformat": 4,
 "nbformat_minor": 1
}
