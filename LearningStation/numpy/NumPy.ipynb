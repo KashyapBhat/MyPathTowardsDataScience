{
 "cells": [
  {
   "cell_type": "code",
   "execution_count": 1,
   "metadata": {},
   "outputs": [],
   "source": [
    "import numpy as np"
   ]
  },
  {
   "cell_type": "code",
   "execution_count": 2,
   "metadata": {},
   "outputs": [
    {
     "name": "stdout",
     "output_type": "stream",
     "text": [
      "[1 2 3]\n",
      "3\n",
      "1\n",
      "(3,)\n",
      "int64\n",
      "8\n",
      "[1. 2. 3.]\n"
     ]
    }
   ],
   "source": [
    "#Basic 1D array\n",
    "a = np.array([1,2,3])\n",
    "print(a)\n",
    "print(a.size)\n",
    "print(a.ndim)\n",
    "print(a.shape)\n",
    "print(a.dtype)\n",
    "print(a.itemsize)\n",
    "print(a.astype('float64'))"
   ]
  },
  {
   "cell_type": "code",
   "execution_count": 3,
   "metadata": {},
   "outputs": [
    {
     "name": "stdout",
     "output_type": "stream",
     "text": [
      "[[ 1.  12.  22. ]\n",
      " [11.2 21.   1. ]]\n",
      "6\n",
      "2\n",
      "(2, 3)\n",
      "float64\n",
      "8\n"
     ]
    }
   ],
   "source": [
    "# Basic 2D array\n",
    "b = np.array([[1.0,12.0,22.0],[11.2,21.0,1.0]])\n",
    "print(b)\n",
    "print(b.size)\n",
    "print(b.ndim)\n",
    "print(b.shape)\n",
    "print(b.dtype)\n",
    "print(b.itemsize)"
   ]
  },
  {
   "cell_type": "code",
   "execution_count": 4,
   "metadata": {},
   "outputs": [],
   "source": [
    "# Get specific element  \n",
    "c = np.array([[1,2,3,4,5,6],[7,8,9,10,11,12],[13,14,15,16,17,18],[19,20,21,22,23,24]])\n"
   ]
  },
  {
   "cell_type": "code",
   "execution_count": 5,
   "metadata": {},
   "outputs": [
    {
     "name": "stdout",
     "output_type": "stream",
     "text": [
      "Specific element:\n",
      "4\n",
      "\n"
     ]
    }
   ],
   "source": [
    "# [row, column]  \n",
    "# : refers to everthing\n",
    "print(\"Specific element:\")\n",
    "print(c[0,3])\n",
    "print(\"\")"
   ]
  },
  {
   "cell_type": "code",
   "execution_count": 6,
   "metadata": {},
   "outputs": [
    {
     "name": "stdout",
     "output_type": "stream",
     "text": [
      "Full row: \n",
      "[ 7  8  9 10 11 12]\n",
      "\n"
     ]
    }
   ],
   "source": [
    "#[startindex:endindex, startindex:endindex]\n",
    "print(\"Full row: \")\n",
    "print(c[1,:])\n",
    "print(\"\")"
   ]
  },
  {
   "cell_type": "code",
   "execution_count": 7,
   "metadata": {},
   "outputs": [
    {
     "name": "stdout",
     "output_type": "stream",
     "text": [
      "First element of all arrays:\n",
      "[ 1  7 13 19]\n",
      "\n"
     ]
    }
   ],
   "source": [
    "print(\"First element of all arrays:\")\n",
    "print(c[:,0])\n",
    "print(\"\")"
   ]
  },
  {
   "cell_type": "code",
   "execution_count": 8,
   "metadata": {},
   "outputs": [
    {
     "name": "stdout",
     "output_type": "stream",
     "text": [
      "Till last element of all arrays:\n",
      "[ 6 12 18 24]\n",
      "\n"
     ]
    }
   ],
   "source": [
    "print(\"Till last element of all arrays:\")\n",
    "print(c[:,5])\n",
    "print(\"\")"
   ]
  },
  {
   "cell_type": "code",
   "execution_count": 9,
   "metadata": {},
   "outputs": [
    {
     "name": "stdout",
     "output_type": "stream",
     "text": [
      "Last element of all arrays:\n",
      "[ 6 12 18 24]\n",
      "\n"
     ]
    }
   ],
   "source": [
    "print(\"Last element of all arrays:\")\n",
    "print(c[:,-1])\n",
    "print(\"\")"
   ]
  },
  {
   "cell_type": "code",
   "execution_count": 10,
   "metadata": {},
   "outputs": [
    {
     "name": "stdout",
     "output_type": "stream",
     "text": [
      "Till last element of all arrays:\n",
      "[[ 1  2  3  4  5]\n",
      " [ 7  8  9 10 11]\n",
      " [13 14 15 16 17]\n",
      " [19 20 21 22 23]]\n",
      "\n"
     ]
    }
   ],
   "source": [
    "print(\"Till last element of all arrays:\")\n",
    "print(c[:,:-1])\n",
    "print(\"\")"
   ]
  },
  {
   "cell_type": "code",
   "execution_count": 11,
   "metadata": {},
   "outputs": [
    {
     "name": "stdout",
     "output_type": "stream",
     "text": [
      "Everything except first row:\n",
      "[[ 7  8  9 10 11 12]\n",
      " [13 14 15 16 17 18]\n",
      " [19 20 21 22 23 24]]\n",
      "\n"
     ]
    }
   ],
   "source": [
    "print(\"Everything except first row:\")\n",
    "print(c[1:,:])\n",
    "print(\"\")"
   ]
  },
  {
   "cell_type": "code",
   "execution_count": 12,
   "metadata": {},
   "outputs": [
    {
     "name": "stdout",
     "output_type": "stream",
     "text": [
      "Everything except last row:\n",
      "[[ 1  2  3  4  5  6]\n",
      " [ 7  8  9 10 11 12]\n",
      " [13 14 15 16 17 18]]\n",
      "\n"
     ]
    }
   ],
   "source": [
    "print(\"Everything except last row:\")\n",
    "print(c[:-1,:])\n",
    "print(\"\")"
   ]
  },
  {
   "cell_type": "code",
   "execution_count": 13,
   "metadata": {},
   "outputs": [],
   "source": [
    "#[startindex:endindex:stepsize, startindex:endindex:stepsize]"
   ]
  },
  {
   "cell_type": "code",
   "execution_count": 14,
   "metadata": {},
   "outputs": [
    {
     "name": "stdout",
     "output_type": "stream",
     "text": [
      "Everything except last row, skipping column elements in between:\n",
      "[[ 1  3  5]\n",
      " [ 7  9 11]\n",
      " [13 15 17]]\n",
      "\n"
     ]
    }
   ],
   "source": [
    "print(\"Everything except last row, skipping column elements in between:\")\n",
    "print(c[:-1,::2])\n",
    "print(\"\")"
   ]
  },
  {
   "cell_type": "code",
   "execution_count": 15,
   "metadata": {},
   "outputs": [
    {
     "name": "stdout",
     "output_type": "stream",
     "text": [
      "[[ 1  2  3  4  5  6]\n",
      " [ 7  8  9 10 11  0]\n",
      " [13 14 15 16 17 18]\n",
      " [19 20 21 22 23 24]]\n"
     ]
    }
   ],
   "source": [
    "#change values\n",
    "c[1,5]=0\n",
    "c[1,5]\n",
    "\n",
    "print(c[:,:])"
   ]
  },
  {
   "cell_type": "code",
   "execution_count": 16,
   "metadata": {},
   "outputs": [
    {
     "name": "stdout",
     "output_type": "stream",
     "text": [
      "[[ 1  2  3  4  5  6]\n",
      " [ 7  8  9 10 11 12]\n",
      " [13 14 15 16 17 18]\n",
      " [19 20 21 22 23 24]]\n"
     ]
    }
   ],
   "source": [
    "#Revert changes\n",
    "c[1,5]=12\n",
    "print(c[:,:])"
   ]
  },
  {
   "cell_type": "code",
   "execution_count": 17,
   "metadata": {},
   "outputs": [
    {
     "name": "stdout",
     "output_type": "stream",
     "text": [
      "[[[ 1  2  3]\n",
      "  [ 4  5  6]]\n",
      "\n",
      " [[ 7  8  9]\n",
      "  [10 11 12]]]\n"
     ]
    }
   ],
   "source": [
    "d = np.array([[[1,2,3],[4,5,6]],[[7,8,9],[10,11,12]]])\n",
    "print(d)"
   ]
  },
  {
   "cell_type": "code",
   "execution_count": 18,
   "metadata": {},
   "outputs": [
    {
     "data": {
      "text/plain": [
       "6"
      ]
     },
     "execution_count": 18,
     "metadata": {},
     "output_type": "execute_result"
    }
   ],
   "source": [
    "#get 6\n",
    "d[0,1,2]"
   ]
  },
  {
   "cell_type": "code",
   "execution_count": 19,
   "metadata": {},
   "outputs": [
    {
     "data": {
      "text/plain": [
       "array([[[0., 0., 0., 0.],\n",
       "        [0., 0., 0., 0.]],\n",
       "\n",
       "       [[0., 0., 0., 0.],\n",
       "        [0., 0., 0., 0.]],\n",
       "\n",
       "       [[0., 0., 0., 0.],\n",
       "        [0., 0., 0., 0.]],\n",
       "\n",
       "       [[0., 0., 0., 0.],\n",
       "        [0., 0., 0., 0.]]])"
      ]
     },
     "execution_count": 19,
     "metadata": {},
     "output_type": "execute_result"
    }
   ],
   "source": [
    "#initalize array with given size with zeros\n",
    "np.zeros((4,2,4))"
   ]
  },
  {
   "cell_type": "code",
   "execution_count": 20,
   "metadata": {},
   "outputs": [
    {
     "data": {
      "text/plain": [
       "array([[[1., 1., 1., 1.],\n",
       "        [1., 1., 1., 1.],\n",
       "        [1., 1., 1., 1.]],\n",
       "\n",
       "       [[1., 1., 1., 1.],\n",
       "        [1., 1., 1., 1.],\n",
       "        [1., 1., 1., 1.]]])"
      ]
     },
     "execution_count": 20,
     "metadata": {},
     "output_type": "execute_result"
    }
   ],
   "source": [
    "#initalize array with given size with ones\n",
    "np.ones((2,3,4))"
   ]
  },
  {
   "cell_type": "code",
   "execution_count": 21,
   "metadata": {},
   "outputs": [
    {
     "data": {
      "text/plain": [
       "array([[55, 55, 55, 55],\n",
       "       [55, 55, 55, 55]])"
      ]
     },
     "execution_count": 21,
     "metadata": {},
     "output_type": "execute_result"
    }
   ],
   "source": [
    "#initalize array with given size with some specified number\n",
    "np.full((2,4),55)"
   ]
  },
  {
   "cell_type": "code",
   "execution_count": 22,
   "metadata": {},
   "outputs": [
    {
     "data": {
      "text/plain": [
       "array([[10., 10., 10.],\n",
       "       [10., 10., 10.]])"
      ]
     },
     "execution_count": 22,
     "metadata": {},
     "output_type": "execute_result"
    }
   ],
   "source": [
    "np.full_like(b,10)"
   ]
  },
  {
   "cell_type": "code",
   "execution_count": 23,
   "metadata": {},
   "outputs": [
    {
     "data": {
      "text/plain": [
       "array([[0.1308674 , 0.35381259, 0.0854659 ],\n",
       "       [0.51018199, 0.34843299, 0.08243016]])"
      ]
     },
     "execution_count": 23,
     "metadata": {},
     "output_type": "execute_result"
    }
   ],
   "source": [
    "# Random numbers\n",
    "np.random.rand(2,3)"
   ]
  },
  {
   "cell_type": "code",
   "execution_count": 24,
   "metadata": {},
   "outputs": [
    {
     "data": {
      "text/plain": [
       "array([[900, 267, 453],\n",
       "       [525,  94, 911]])"
      ]
     },
     "execution_count": 24,
     "metadata": {},
     "output_type": "execute_result"
    }
   ],
   "source": [
    "# Random (from, to, shape)\n",
    "np.random.randint(10,1000,size=(2,3))"
   ]
  },
  {
   "cell_type": "code",
   "execution_count": 25,
   "metadata": {},
   "outputs": [
    {
     "data": {
      "text/plain": [
       "array([[1., 0., 0., 0.],\n",
       "       [0., 1., 0., 0.],\n",
       "       [0., 0., 1., 0.],\n",
       "       [0., 0., 0., 1.]])"
      ]
     },
     "execution_count": 25,
     "metadata": {},
     "output_type": "execute_result"
    }
   ],
   "source": [
    "# identity matrix\n",
    "np.identity(4)"
   ]
  },
  {
   "cell_type": "code",
   "execution_count": 26,
   "metadata": {},
   "outputs": [
    {
     "name": "stdout",
     "output_type": "stream",
     "text": [
      "[[1 1 1 1 1 2 2 2 2 2 3 3 3 3 3]]\n"
     ]
    }
   ],
   "source": [
    "# repeat a number (array, timestoberepeated, axisofarray)\n",
    "e = np.array([[1,2,3]])\n",
    "rep = np.repeat(e,5,axis=1)\n",
    "print(rep)"
   ]
  },
  {
   "cell_type": "code",
   "execution_count": 27,
   "metadata": {},
   "outputs": [
    {
     "data": {
      "text/plain": [
       "array([[1., 1., 1., 1., 1.],\n",
       "       [1., 0., 0., 0., 1.],\n",
       "       [1., 0., 9., 0., 1.],\n",
       "       [1., 0., 0., 0., 1.],\n",
       "       [1., 1., 1., 1., 1.]])"
      ]
     },
     "execution_count": 27,
     "metadata": {},
     "output_type": "execute_result"
    }
   ],
   "source": [
    "ex1 = np.ones((5,5))\n",
    "ex2 = np.zeros((3,3))\n",
    "ex1[1:-1,1:-1] = ex2\n",
    "ex1[2,2] =9\n",
    "ex1"
   ]
  },
  {
   "cell_type": "code",
   "execution_count": 28,
   "metadata": {},
   "outputs": [
    {
     "data": {
      "text/plain": [
       "array([ 1, 22,  3])"
      ]
     },
     "execution_count": 28,
     "metadata": {},
     "output_type": "execute_result"
    }
   ],
   "source": [
    "# copying elements is riskyyy\n",
    "\n",
    "f =np.array([1,2,3])\n",
    "g = f\n",
    "g[1] = 22\n",
    "f\n",
    "#so g and f are pointing to same memeory location"
   ]
  },
  {
   "cell_type": "code",
   "execution_count": 29,
   "metadata": {},
   "outputs": [
    {
     "data": {
      "text/plain": [
       "array([1, 2, 3])"
      ]
     },
     "execution_count": 29,
     "metadata": {},
     "output_type": "execute_result"
    }
   ],
   "source": [
    "# hence use copy function dont asign directly\n",
    "\n",
    "f =np.array([1,2,3])\n",
    "g = f.copy()\n",
    "g[1] = 22\n",
    "f"
   ]
  },
  {
   "cell_type": "code",
   "execution_count": 30,
   "metadata": {},
   "outputs": [],
   "source": [
    "# Arithmetic funtions"
   ]
  },
  {
   "cell_type": "code",
   "execution_count": 31,
   "metadata": {},
   "outputs": [
    {
     "name": "stdout",
     "output_type": "stream",
     "text": [
      "[1 2 3 4]\n",
      "[3 4 5 6]\n",
      "[2 4 6 8]\n",
      "[ 1  4  9 16]\n",
      "[0.5 1.  1.5 2. ]\n",
      "[2 4 6 8]\n",
      "[ 1  4  9 16]\n",
      "[1. 1. 1. 1.]\n"
     ]
    }
   ],
   "source": [
    "h =np.array([1,2,3,4])\n",
    "\n",
    "print(h)\n",
    "print(h+2)\n",
    "print(h*2)\n",
    "print(h**2)\n",
    "\n",
    "print(h/2)\n",
    "print(h+h)\n",
    "print(h*h)\n",
    "print(h/h)"
   ]
  },
  {
   "cell_type": "code",
   "execution_count": 32,
   "metadata": {},
   "outputs": [
    {
     "name": "stdout",
     "output_type": "stream",
     "text": [
      "[ 0.54030231 -0.41614684 -0.9899925  -0.65364362]\n",
      "[ 0.84147098  0.90929743  0.14112001 -0.7568025 ]\n"
     ]
    }
   ],
   "source": [
    "print(np.cos(h))\n",
    "print(np.sin(h))"
   ]
  },
  {
   "cell_type": "code",
   "execution_count": 33,
   "metadata": {},
   "outputs": [],
   "source": [
    "#Linear algebra"
   ]
  },
  {
   "cell_type": "code",
   "execution_count": 34,
   "metadata": {},
   "outputs": [
    {
     "name": "stdout",
     "output_type": "stream",
     "text": [
      "[[1. 1. 1.]\n",
      " [1. 1. 1.]]\n",
      "[[3 3]\n",
      " [3 3]\n",
      " [3 3]]\n"
     ]
    },
    {
     "data": {
      "text/plain": [
       "array([[9., 9.],\n",
       "       [9., 9.]])"
      ]
     },
     "execution_count": 34,
     "metadata": {},
     "output_type": "execute_result"
    }
   ],
   "source": [
    "# matrix multiplication\n",
    "i = np.ones((2,3))\n",
    "j = np.full((3,2),3)\n",
    "print(i)\n",
    "print(j)\n",
    "np.matmul(i,j)"
   ]
  },
  {
   "cell_type": "code",
   "execution_count": 35,
   "metadata": {},
   "outputs": [
    {
     "data": {
      "text/plain": [
       "1.0"
      ]
     },
     "execution_count": 35,
     "metadata": {},
     "output_type": "execute_result"
    }
   ],
   "source": [
    "# determinant\n",
    "c = np.identity(3)\n",
    "np.linalg.det(c)"
   ]
  },
  {
   "cell_type": "code",
   "execution_count": 36,
   "metadata": {},
   "outputs": [],
   "source": [
    "#statistis"
   ]
  },
  {
   "cell_type": "code",
   "execution_count": 37,
   "metadata": {},
   "outputs": [
    {
     "name": "stdout",
     "output_type": "stream",
     "text": [
      "2\n",
      "31\n",
      "[ 2 11]\n",
      "[ 5 31]\n",
      "12.5\n",
      "8.0\n",
      "75\n"
     ]
    }
   ],
   "source": [
    "k = np.array([[5,2,4],[22,31,11]])\n",
    "print(np.min(k))\n",
    "print(np.max(k))\n",
    "print(np.min(k,axis=1))\n",
    "print(np.max(k,axis=1))\n",
    "print(np.mean(k))\n",
    "print(np.median(k))\n",
    "print(np.sum(k))"
   ]
  },
  {
   "cell_type": "code",
   "execution_count": 38,
   "metadata": {},
   "outputs": [
    {
     "name": "stdout",
     "output_type": "stream",
     "text": [
      "[[ 5  2]\n",
      " [ 4 22]\n",
      " [31 11]]\n"
     ]
    }
   ],
   "source": [
    "#reorganise the array\n",
    "print(k.reshape((3,2)))"
   ]
  },
  {
   "cell_type": "code",
   "execution_count": 39,
   "metadata": {},
   "outputs": [
    {
     "name": "stdout",
     "output_type": "stream",
     "text": [
      "[[  5   2   4]\n",
      " [ 22  31  11]\n",
      " [ 15  12  14]\n",
      " [122 131 111]]\n",
      "\n",
      "[[  5   2   4  15  12  14]\n",
      " [ 22  31  11 122 131 111]]\n"
     ]
    }
   ],
   "source": [
    "l = np.array([[5,2,4],[22,31,11]])\n",
    "m = np.array([[15,12,14],[122,131,111]])\n",
    "print(np.vstack((l,m)))\n",
    "print()\n",
    "print(np.hstack((l,m)))"
   ]
  },
  {
   "cell_type": "code",
   "execution_count": 40,
   "metadata": {},
   "outputs": [
    {
     "data": {
      "text/plain": [
       "array([122, 131, 111])"
      ]
     },
     "execution_count": 40,
     "metadata": {},
     "output_type": "execute_result"
    }
   ],
   "source": [
    "#advance indexing\n",
    "n = np.array([[15,12,14],[122,131,111]])\n",
    "n>100\n",
    "\n",
    "o = n[n>100]\n",
    "o"
   ]
  },
  {
   "cell_type": "code",
   "execution_count": 41,
   "metadata": {},
   "outputs": [
    {
     "data": {
      "text/plain": [
       "array([ 12,  14, 111])"
      ]
     },
     "execution_count": 41,
     "metadata": {},
     "output_type": "execute_result"
    }
   ],
   "source": [
    "#specify the needed element in some array by specifying th index of them \n",
    "p = np.array([15,12,14,122,131,111])\n",
    "q = p[[1,2,5]]\n",
    "q"
   ]
  },
  {
   "cell_type": "code",
   "execution_count": 42,
   "metadata": {},
   "outputs": [
    {
     "name": "stdout",
     "output_type": "stream",
     "text": [
      "[ True  True  True]\n",
      "[False False False]\n"
     ]
    }
   ],
   "source": [
    "#give all or any elements with repect to some condition\n",
    "\n",
    "r = np.array([[15,12,14],[122,131,111]])\n",
    "print(np.any(r>50,axis=0))\n",
    "print(np.all(r>50,axis=0))"
   ]
  },
  {
   "cell_type": "code",
   "execution_count": null,
   "metadata": {},
   "outputs": [],
   "source": []
  }
 ],
 "metadata": {
  "kernelspec": {
   "display_name": "Python 3",
   "language": "python",
   "name": "python3"
  },
  "language_info": {
   "codemirror_mode": {
    "name": "ipython",
    "version": 3
   },
   "file_extension": ".py",
   "mimetype": "text/x-python",
   "name": "python",
   "nbconvert_exporter": "python",
   "pygments_lexer": "ipython3",
   "version": "3.7.4"
  }
 },
 "nbformat": 4,
 "nbformat_minor": 2
}
